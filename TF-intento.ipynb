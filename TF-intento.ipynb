{
  "nbformat": 4,
  "nbformat_minor": 0,
  "metadata": {
    "colab": {
      "name": "Untitled1.ipynb",
      "provenance": [],
      "toc_visible": true,
      "authorship_tag": "ABX9TyNfid2m32RxIxQPmv75/O96",
      "include_colab_link": true
    },
    "kernelspec": {
      "name": "python3",
      "display_name": "Python 3"
    }
  },
  "cells": [
    {
      "cell_type": "markdown",
      "metadata": {
        "id": "view-in-github",
        "colab_type": "text"
      },
      "source": [
        "<a href=\"https://colab.research.google.com/github/elsy-torres/script/blob/main/TF-intento.ipynb\" target=\"_parent\"><img src=\"https://colab.research.google.com/assets/colab-badge.svg\" alt=\"Open In Colab\"/></a>"
      ]
    },
    {
      "cell_type": "markdown",
      "metadata": {
        "id": "-ywCuRfnJinP"
      },
      "source": [
        "# TRANSFORMADA DE UN SISMOGRAMA\n",
        "## Los datos fueron proporcionados por el Dr. Chang 2020."
      ]
    },
    {
      "cell_type": "markdown",
      "metadata": {
        "id": "Fv_AemmbJzyV"
      },
      "source": [
        "#Importar librerías"
      ]
    },
    {
      "cell_type": "code",
      "metadata": {
        "id": "zccAUeTiJVVO"
      },
      "source": [
        "import matplotlib.pyplot as plt\n",
        "import pandas as pd\n",
        "import numpy as np\n",
        "from scipy import signal\n",
        "from scipy import fftpack"
      ],
      "execution_count": 64,
      "outputs": []
    },
    {
      "cell_type": "markdown",
      "metadata": {
        "id": "rXtlkLkDKICs"
      },
      "source": [
        "# Cargar datos de un txt\n"
      ]
    },
    {
      "cell_type": "code",
      "metadata": {
        "id": "WSV50B2EJza3",
        "outputId": "b03d5e4b-4412-4bf1-ac8c-cc10dc35ce6b",
        "colab": {
          "base_uri": "https://localhost:8080/",
          "height": 359
        }
      },
      "source": [
        "data=pd.read_csv('NZ007.txt',names=['time','amp'],skiprows=3,sep='\\s+',engine='python')\n",
        "data.head(10)"
      ],
      "execution_count": 65,
      "outputs": [
        {
          "output_type": "execute_result",
          "data": {
            "text/html": [
              "<div>\n",
              "<style scoped>\n",
              "    .dataframe tbody tr th:only-of-type {\n",
              "        vertical-align: middle;\n",
              "    }\n",
              "\n",
              "    .dataframe tbody tr th {\n",
              "        vertical-align: top;\n",
              "    }\n",
              "\n",
              "    .dataframe thead th {\n",
              "        text-align: right;\n",
              "    }\n",
              "</style>\n",
              "<table border=\"1\" class=\"dataframe\">\n",
              "  <thead>\n",
              "    <tr style=\"text-align: right;\">\n",
              "      <th></th>\n",
              "      <th>time</th>\n",
              "      <th>amp</th>\n",
              "    </tr>\n",
              "  </thead>\n",
              "  <tbody>\n",
              "    <tr>\n",
              "      <th>0</th>\n",
              "      <td>0.00</td>\n",
              "      <td>-0.244690</td>\n",
              "    </tr>\n",
              "    <tr>\n",
              "      <th>1</th>\n",
              "      <td>0.02</td>\n",
              "      <td>0.055570</td>\n",
              "    </tr>\n",
              "    <tr>\n",
              "      <th>2</th>\n",
              "      <td>0.04</td>\n",
              "      <td>0.034080</td>\n",
              "    </tr>\n",
              "    <tr>\n",
              "      <th>3</th>\n",
              "      <td>0.06</td>\n",
              "      <td>-0.035078</td>\n",
              "    </tr>\n",
              "    <tr>\n",
              "      <th>4</th>\n",
              "      <td>0.08</td>\n",
              "      <td>0.065622</td>\n",
              "    </tr>\n",
              "    <tr>\n",
              "      <th>5</th>\n",
              "      <td>0.10</td>\n",
              "      <td>0.045962</td>\n",
              "    </tr>\n",
              "    <tr>\n",
              "      <th>6</th>\n",
              "      <td>0.12</td>\n",
              "      <td>0.007326</td>\n",
              "    </tr>\n",
              "    <tr>\n",
              "      <th>7</th>\n",
              "      <td>0.14</td>\n",
              "      <td>-0.012271</td>\n",
              "    </tr>\n",
              "    <tr>\n",
              "      <th>8</th>\n",
              "      <td>0.16</td>\n",
              "      <td>-0.046718</td>\n",
              "    </tr>\n",
              "    <tr>\n",
              "      <th>9</th>\n",
              "      <td>0.18</td>\n",
              "      <td>-0.049188</td>\n",
              "    </tr>\n",
              "  </tbody>\n",
              "</table>\n",
              "</div>"
            ],
            "text/plain": [
              "   time       amp\n",
              "0  0.00 -0.244690\n",
              "1  0.02  0.055570\n",
              "2  0.04  0.034080\n",
              "3  0.06 -0.035078\n",
              "4  0.08  0.065622\n",
              "5  0.10  0.045962\n",
              "6  0.12  0.007326\n",
              "7  0.14 -0.012271\n",
              "8  0.16 -0.046718\n",
              "9  0.18 -0.049188"
            ]
          },
          "metadata": {
            "tags": []
          },
          "execution_count": 65
        }
      ]
    },
    {
      "cell_type": "code",
      "metadata": {
        "id": "H-vPQJIYToEp",
        "outputId": "736de079-6530-4046-b227-a264008c4a92",
        "colab": {
          "base_uri": "https://localhost:8080/",
          "height": 204
        }
      },
      "source": [
        "data.tail()\n"
      ],
      "execution_count": 66,
      "outputs": [
        {
          "output_type": "execute_result",
          "data": {
            "text/html": [
              "<div>\n",
              "<style scoped>\n",
              "    .dataframe tbody tr th:only-of-type {\n",
              "        vertical-align: middle;\n",
              "    }\n",
              "\n",
              "    .dataframe tbody tr th {\n",
              "        vertical-align: top;\n",
              "    }\n",
              "\n",
              "    .dataframe thead th {\n",
              "        text-align: right;\n",
              "    }\n",
              "</style>\n",
              "<table border=\"1\" class=\"dataframe\">\n",
              "  <thead>\n",
              "    <tr style=\"text-align: right;\">\n",
              "      <th></th>\n",
              "      <th>time</th>\n",
              "      <th>amp</th>\n",
              "    </tr>\n",
              "  </thead>\n",
              "  <tbody>\n",
              "    <tr>\n",
              "      <th>16443</th>\n",
              "      <td>328.86</td>\n",
              "      <td>0.72716</td>\n",
              "    </tr>\n",
              "    <tr>\n",
              "      <th>16444</th>\n",
              "      <td>328.88</td>\n",
              "      <td>0.61736</td>\n",
              "    </tr>\n",
              "    <tr>\n",
              "      <th>16445</th>\n",
              "      <td>328.90</td>\n",
              "      <td>0.54991</td>\n",
              "    </tr>\n",
              "    <tr>\n",
              "      <th>16446</th>\n",
              "      <td>328.92</td>\n",
              "      <td>0.59976</td>\n",
              "    </tr>\n",
              "    <tr>\n",
              "      <th>16447</th>\n",
              "      <td>328.94</td>\n",
              "      <td>0.41080</td>\n",
              "    </tr>\n",
              "  </tbody>\n",
              "</table>\n",
              "</div>"
            ],
            "text/plain": [
              "         time      amp\n",
              "16443  328.86  0.72716\n",
              "16444  328.88  0.61736\n",
              "16445  328.90  0.54991\n",
              "16446  328.92  0.59976\n",
              "16447  328.94  0.41080"
            ]
          },
          "metadata": {
            "tags": []
          },
          "execution_count": 66
        }
      ]
    },
    {
      "cell_type": "code",
      "metadata": {
        "id": "hJ3NM8QhT0JX",
        "outputId": "7afccb6c-466a-48c7-ca07-c6e1901813f6",
        "colab": {
          "base_uri": "https://localhost:8080/"
        }
      },
      "source": [
        "print(len(data))"
      ],
      "execution_count": 67,
      "outputs": [
        {
          "output_type": "stream",
          "text": [
            "16448\n"
          ],
          "name": "stdout"
        }
      ]
    },
    {
      "cell_type": "code",
      "metadata": {
        "id": "C4ezMYCVKXa_",
        "outputId": "d8fae286-dade-4b00-c0e3-6314e507cdd3",
        "colab": {
          "base_uri": "https://localhost:8080/"
        }
      },
      "source": [
        "data.info()"
      ],
      "execution_count": 68,
      "outputs": [
        {
          "output_type": "stream",
          "text": [
            "<class 'pandas.core.frame.DataFrame'>\n",
            "RangeIndex: 16448 entries, 0 to 16447\n",
            "Data columns (total 2 columns):\n",
            " #   Column  Non-Null Count  Dtype  \n",
            "---  ------  --------------  -----  \n",
            " 0   time    16448 non-null  float64\n",
            " 1   amp     16448 non-null  float64\n",
            "dtypes: float64(2)\n",
            "memory usage: 257.1 KB\n"
          ],
          "name": "stdout"
        }
      ]
    },
    {
      "cell_type": "code",
      "metadata": {
        "id": "dawpV7QKZJFP",
        "outputId": "6c60b612-fc47-4b29-fb55-e79e859c3e55",
        "colab": {
          "base_uri": "https://localhost:8080/",
          "height": 265
        }
      },
      "source": [
        "plt.plot(data['time'],data['amp'])\n",
        "_=plt.show()"
      ],
      "execution_count": 69,
      "outputs": [
        {
          "output_type": "display_data",
          "data": {
            "image/png": "[encoded data removed]",
            "text/plain": [
              "<Figure size 432x288 with 1 Axes>"
            ]
          },
          "metadata": {
            "tags": [],
            "needs_background": "light"
          }
        }
      ]
    },
    {
      "cell_type": "markdown",
      "metadata": {
        "id": "4imQ3zArKQS7"
      },
      "source": [
        "# Declarar el vector x en el dominio de la frecuencia"
      ]
    },
    {
      "cell_type": "code",
      "metadata": {
        "id": "7GDgeWqHKZeQ",
        "outputId": "f15d884e-b671-4d83-b68f-8660557ec99f",
        "colab": {
          "base_uri": "https://localhost:8080/"
        }
      },
      "source": [
        "fo=1/328.94\n",
        "#data['W']=2*np.pi*data['freq']\n",
        "y=np.arange(0,len(data)/2*fo,step=fo)\n",
        "data['freq']=np.arange(0,len(data)*fo,step=fo)\n",
        "print(data)"
      ],
      "execution_count": 90,
      "outputs": [
        {
          "output_type": "stream",
          "text": [
            "         time       amp  ...        asb          fase\n",
            "0        0.00 -0.244690  ...  13.838794 -1.026885e-15\n",
            "1        0.02  0.055570  ...  48.436642  4.764827e-01\n",
            "2        0.04  0.034080  ...  29.586347  1.465820e+00\n",
            "3        0.06 -0.035078  ...  59.707817  1.167415e+00\n",
            "4        0.08  0.065622  ...  43.373308 -1.020299e+00\n",
            "...       ...       ...  ...        ...           ...\n",
            "16443  328.86  0.727160  ...  59.561601  1.505522e+00\n",
            "16444  328.88  0.617360  ...  43.373308  1.020299e+00\n",
            "16445  328.90  0.549910  ...  59.707817 -1.167415e+00\n",
            "16446  328.92  0.599760  ...  29.586347 -1.465820e+00\n",
            "16447  328.94  0.410800  ...  48.436642 -4.764827e-01\n",
            "\n",
            "[16448 rows x 8 columns]\n"
          ],
          "name": "stdout"
        }
      ]
    },
    {
      "cell_type": "markdown",
      "metadata": {
        "id": "9f-Vlow8Ku2i"
      },
      "source": [
        "# Aplicar un filtro a la serie de tiempo antes de realizar la FT\n"
      ]
    },
    {
      "cell_type": "code",
      "metadata": {
        "id": "0l11OK5NtjO6",
        "outputId": "564c3573-5176-4564-bfff-725b32659358",
        "colab": {
          "base_uri": "https://localhost:8080/"
        }
      },
      "source": [
        "AMP=data['amp']\n",
        "print(AMP)\n"
      ],
      "execution_count": 71,
      "outputs": [
        {
          "output_type": "stream",
          "text": [
            "0       -0.244690\n",
            "1        0.055570\n",
            "2        0.034080\n",
            "3       -0.035078\n",
            "4        0.065622\n",
            "           ...   \n",
            "16443    0.727160\n",
            "16444    0.617360\n",
            "16445    0.549910\n",
            "16446    0.599760\n",
            "16447    0.410800\n",
            "Name: amp, Length: 16448, dtype: float64\n"
          ],
          "name": "stdout"
        }
      ]
    },
    {
      "cell_type": "code",
      "metadata": {
        "id": "tFOxfrtFv7a8",
        "outputId": "63f4ae9e-26a2-48dd-9883-04d9c66e7e36",
        "colab": {
          "base_uri": "https://localhost:8080/"
        }
      },
      "source": [
        "window=signal.hamming(len(AMP))\n",
        "print(window)"
      ],
      "execution_count": 72,
      "outputs": [
        {
          "output_type": "stream",
          "text": [
            "[0.08       0.08000003 0.08000013 ... 0.08000013 0.08000003 0.08      ]\n"
          ],
          "name": "stdout"
        }
      ]
    },
    {
      "cell_type": "code",
      "metadata": {
        "id": "3yJB9ZpEK24z"
      },
      "source": [
        "#ata=data.drop('filtro1',axis=1)"
      ],
      "execution_count": 73,
      "outputs": []
    },
    {
      "cell_type": "code",
      "metadata": {
        "id": "67GeQaWnK6eY",
        "outputId": "94f59c56-0be7-455d-c396-7da3104e60df",
        "colab": {
          "base_uri": "https://localhost:8080/",
          "height": 419
        }
      },
      "source": [
        "data['filtro']=1\n",
        "data"
      ],
      "execution_count": 74,
      "outputs": [
        {
          "output_type": "execute_result",
          "data": {
            "text/html": [
              "<div>\n",
              "<style scoped>\n",
              "    .dataframe tbody tr th:only-of-type {\n",
              "        vertical-align: middle;\n",
              "    }\n",
              "\n",
              "    .dataframe tbody tr th {\n",
              "        vertical-align: top;\n",
              "    }\n",
              "\n",
              "    .dataframe thead th {\n",
              "        text-align: right;\n",
              "    }\n",
              "</style>\n",
              "<table border=\"1\" class=\"dataframe\">\n",
              "  <thead>\n",
              "    <tr style=\"text-align: right;\">\n",
              "      <th></th>\n",
              "      <th>time</th>\n",
              "      <th>amp</th>\n",
              "      <th>freq</th>\n",
              "      <th>filtro</th>\n",
              "    </tr>\n",
              "  </thead>\n",
              "  <tbody>\n",
              "    <tr>\n",
              "      <th>0</th>\n",
              "      <td>0.00</td>\n",
              "      <td>-0.244690</td>\n",
              "      <td>0.00000</td>\n",
              "      <td>1</td>\n",
              "    </tr>\n",
              "    <tr>\n",
              "      <th>1</th>\n",
              "      <td>0.02</td>\n",
              "      <td>0.055570</td>\n",
              "      <td>0.00304</td>\n",
              "      <td>1</td>\n",
              "    </tr>\n",
              "    <tr>\n",
              "      <th>2</th>\n",
              "      <td>0.04</td>\n",
              "      <td>0.034080</td>\n",
              "      <td>0.00608</td>\n",
              "      <td>1</td>\n",
              "    </tr>\n",
              "    <tr>\n",
              "      <th>3</th>\n",
              "      <td>0.06</td>\n",
              "      <td>-0.035078</td>\n",
              "      <td>0.00912</td>\n",
              "      <td>1</td>\n",
              "    </tr>\n",
              "    <tr>\n",
              "      <th>4</th>\n",
              "      <td>0.08</td>\n",
              "      <td>0.065622</td>\n",
              "      <td>0.01216</td>\n",
              "      <td>1</td>\n",
              "    </tr>\n",
              "    <tr>\n",
              "      <th>...</th>\n",
              "      <td>...</td>\n",
              "      <td>...</td>\n",
              "      <td>...</td>\n",
              "      <td>...</td>\n",
              "    </tr>\n",
              "    <tr>\n",
              "      <th>16443</th>\n",
              "      <td>328.86</td>\n",
              "      <td>0.727160</td>\n",
              "      <td>49.98784</td>\n",
              "      <td>1</td>\n",
              "    </tr>\n",
              "    <tr>\n",
              "      <th>16444</th>\n",
              "      <td>328.88</td>\n",
              "      <td>0.617360</td>\n",
              "      <td>49.99088</td>\n",
              "      <td>1</td>\n",
              "    </tr>\n",
              "    <tr>\n",
              "      <th>16445</th>\n",
              "      <td>328.90</td>\n",
              "      <td>0.549910</td>\n",
              "      <td>49.99392</td>\n",
              "      <td>1</td>\n",
              "    </tr>\n",
              "    <tr>\n",
              "      <th>16446</th>\n",
              "      <td>328.92</td>\n",
              "      <td>0.599760</td>\n",
              "      <td>49.99696</td>\n",
              "      <td>1</td>\n",
              "    </tr>\n",
              "    <tr>\n",
              "      <th>16447</th>\n",
              "      <td>328.94</td>\n",
              "      <td>0.410800</td>\n",
              "      <td>50.00000</td>\n",
              "      <td>1</td>\n",
              "    </tr>\n",
              "  </tbody>\n",
              "</table>\n",
              "<p>16448 rows × 4 columns</p>\n",
              "</div>"
            ],
            "text/plain": [
              "         time       amp      freq  filtro\n",
              "0        0.00 -0.244690   0.00000       1\n",
              "1        0.02  0.055570   0.00304       1\n",
              "2        0.04  0.034080   0.00608       1\n",
              "3        0.06 -0.035078   0.00912       1\n",
              "4        0.08  0.065622   0.01216       1\n",
              "...       ...       ...       ...     ...\n",
              "16443  328.86  0.727160  49.98784       1\n",
              "16444  328.88  0.617360  49.99088       1\n",
              "16445  328.90  0.549910  49.99392       1\n",
              "16446  328.92  0.599760  49.99696       1\n",
              "16447  328.94  0.410800  50.00000       1\n",
              "\n",
              "[16448 rows x 4 columns]"
            ]
          },
          "metadata": {
            "tags": []
          },
          "execution_count": 74
        }
      ]
    },
    {
      "cell_type": "code",
      "metadata": {
        "id": "VnBwmbDlK8nL",
        "outputId": "54c9f9c3-1be7-4068-8fd0-f43168459f69",
        "colab": {
          "base_uri": "https://localhost:8080/",
          "height": 394
        }
      },
      "source": [
        "data['filtro'].iloc[data.index<3000]=signal.cosine(3000)\n",
        "data['filtro'].iloc[data.index>13447]=signal.cosine(3000)\n",
        "data.tail()"
      ],
      "execution_count": 95,
      "outputs": [
        {
          "output_type": "stream",
          "text": [
            "/usr/local/lib/python3.6/dist-packages/pandas/core/indexing.py:670: SettingWithCopyWarning: \n",
            "A value is trying to be set on a copy of a slice from a DataFrame\n",
            "\n",
            "See the caveats in the documentation: https://pandas.pydata.org/pandas-docs/stable/user_guide/indexing.html#returning-a-view-versus-a-copy\n",
            "  iloc._setitem_with_indexer(indexer, value)\n",
            "/usr/local/lib/python3.6/dist-packages/pandas/core/indexing.py:670: SettingWithCopyWarning: \n",
            "A value is trying to be set on a copy of a slice from a DataFrame\n",
            "\n",
            "See the caveats in the documentation: https://pandas.pydata.org/pandas-docs/stable/user_guide/indexing.html#returning-a-view-versus-a-copy\n",
            "  iloc._setitem_with_indexer(indexer, value)\n"
          ],
          "name": "stderr"
        },
        {
          "output_type": "execute_result",
          "data": {
            "text/html": [
              "<div>\n",
              "<style scoped>\n",
              "    .dataframe tbody tr th:only-of-type {\n",
              "        vertical-align: middle;\n",
              "    }\n",
              "\n",
              "    .dataframe tbody tr th {\n",
              "        vertical-align: top;\n",
              "    }\n",
              "\n",
              "    .dataframe thead th {\n",
              "        text-align: right;\n",
              "    }\n",
              "</style>\n",
              "<table border=\"1\" class=\"dataframe\">\n",
              "  <thead>\n",
              "    <tr style=\"text-align: right;\">\n",
              "      <th></th>\n",
              "      <th>time</th>\n",
              "      <th>amp</th>\n",
              "      <th>freq</th>\n",
              "      <th>filtro</th>\n",
              "      <th>signal_filter</th>\n",
              "      <th>fft</th>\n",
              "      <th>asb</th>\n",
              "      <th>fase</th>\n",
              "    </tr>\n",
              "  </thead>\n",
              "  <tbody>\n",
              "    <tr>\n",
              "      <th>16443</th>\n",
              "      <td>328.86</td>\n",
              "      <td>0.72716</td>\n",
              "      <td>49.98784</td>\n",
              "      <td>0.004712</td>\n",
              "      <td>0.010280</td>\n",
              "      <td>-3.885055-59.434760j</td>\n",
              "      <td>59.561601</td>\n",
              "      <td>1.505522</td>\n",
              "    </tr>\n",
              "    <tr>\n",
              "      <th>16444</th>\n",
              "      <td>328.88</td>\n",
              "      <td>0.61736</td>\n",
              "      <td>49.99088</td>\n",
              "      <td>0.003665</td>\n",
              "      <td>0.006788</td>\n",
              "      <td>-22.689074-36.965522j</td>\n",
              "      <td>43.373308</td>\n",
              "      <td>1.020299</td>\n",
              "    </tr>\n",
              "    <tr>\n",
              "      <th>16445</th>\n",
              "      <td>328.90</td>\n",
              "      <td>0.54991</td>\n",
              "      <td>49.99392</td>\n",
              "      <td>0.002618</td>\n",
              "      <td>0.004319</td>\n",
              "      <td>23.437134-54.915609j</td>\n",
              "      <td>59.707817</td>\n",
              "      <td>-1.167415</td>\n",
              "    </tr>\n",
              "    <tr>\n",
              "      <th>16446</th>\n",
              "      <td>328.92</td>\n",
              "      <td>0.59976</td>\n",
              "      <td>49.99696</td>\n",
              "      <td>0.001571</td>\n",
              "      <td>0.002826</td>\n",
              "      <td>3.100171-29.423475j</td>\n",
              "      <td>29.586347</td>\n",
              "      <td>-1.465820</td>\n",
              "    </tr>\n",
              "    <tr>\n",
              "      <th>16447</th>\n",
              "      <td>328.94</td>\n",
              "      <td>0.41080</td>\n",
              "      <td>50.00000</td>\n",
              "      <td>0.000524</td>\n",
              "      <td>0.000645</td>\n",
              "      <td>43.041462-22.215780j</td>\n",
              "      <td>48.436642</td>\n",
              "      <td>-0.476483</td>\n",
              "    </tr>\n",
              "  </tbody>\n",
              "</table>\n",
              "</div>"
            ],
            "text/plain": [
              "         time      amp      freq  ...                   fft        asb      fase\n",
              "16443  328.86  0.72716  49.98784  ...  -3.885055-59.434760j  59.561601  1.505522\n",
              "16444  328.88  0.61736  49.99088  ... -22.689074-36.965522j  43.373308  1.020299\n",
              "16445  328.90  0.54991  49.99392  ...  23.437134-54.915609j  59.707817 -1.167415\n",
              "16446  328.92  0.59976  49.99696  ...   3.100171-29.423475j  29.586347 -1.465820\n",
              "16447  328.94  0.41080  50.00000  ...  43.041462-22.215780j  48.436642 -0.476483\n",
              "\n",
              "[5 rows x 8 columns]"
            ]
          },
          "metadata": {
            "tags": []
          },
          "execution_count": 95
        }
      ]
    },
    {
      "cell_type": "code",
      "metadata": {
        "id": "wsPY5C8JK_WL"
      },
      "source": [
        "data['signal_filter']= data['filtro']*data['amp']"
      ],
      "execution_count": 96,
      "outputs": []
    },
    {
      "cell_type": "code",
      "metadata": {
        "id": "NvERW21oVOD2",
        "outputId": "df08220c-fe9f-4d41-a00f-e34245de7feb",
        "colab": {
          "base_uri": "https://localhost:8080/",
          "height": 282
        }
      },
      "source": [
        "plt.plot(data['time'],data['amp'])"
      ],
      "execution_count": 97,
      "outputs": [
        {
          "output_type": "execute_result",
          "data": {
            "text/plain": [
              "[<matplotlib.lines.Line2D at 0x7fd74b992358>]"
            ]
          },
          "metadata": {
            "tags": []
          },
          "execution_count": 97
        },
        {
          "output_type": "display_data",
          "data": {
            "image/png": "[encoded data removed]",
            "text/plain": [
              "<Figure size 432x288 with 1 Axes>"
            ]
          },
          "metadata": {
            "tags": [],
            "needs_background": "light"
          }
        }
      ]
    },
    {
      "cell_type": "code",
      "metadata": {
        "id": "22CSuYzsLBVf",
        "outputId": "489574b0-edc6-4a56-dc03-757cba8b444d",
        "colab": {
          "base_uri": "https://localhost:8080/",
          "height": 282
        }
      },
      "source": [
        "plt.plot(data['time'],data['signal_filter'])"
      ],
      "execution_count": 98,
      "outputs": [
        {
          "output_type": "execute_result",
          "data": {
            "text/plain": [
              "[<matplotlib.lines.Line2D at 0x7fd74b974278>]"
            ]
          },
          "metadata": {
            "tags": []
          },
          "execution_count": 98
        },
        {
          "output_type": "display_data",
          "data": {
            "image/png": "[encoded data removed]",
            "text/plain": [
              "<Figure size 432x288 with 1 Axes>"
            ]
          },
          "metadata": {
            "tags": [],
            "needs_background": "light"
          }
        }
      ]
    },
    {
      "cell_type": "markdown",
      "metadata": {
        "id": "u-w5jY3eLKfe"
      },
      "source": [
        "# Realizar FT"
      ]
    },
    {
      "cell_type": "code",
      "metadata": {
        "id": "QP34dJx2LJya",
        "outputId": "049da981-1492-42a2-e775-ec5513b16fac",
        "colab": {
          "base_uri": "https://localhost:8080/",
          "height": 204
        }
      },
      "source": [
        "data['fft']=np.fft.fft(data['signal_filter'])\n",
        "data.head(5)"
      ],
      "execution_count": 99,
      "outputs": [
        {
          "output_type": "execute_result",
          "data": {
            "text/html": [
              "<div>\n",
              "<style scoped>\n",
              "    .dataframe tbody tr th:only-of-type {\n",
              "        vertical-align: middle;\n",
              "    }\n",
              "\n",
              "    .dataframe tbody tr th {\n",
              "        vertical-align: top;\n",
              "    }\n",
              "\n",
              "    .dataframe thead th {\n",
              "        text-align: right;\n",
              "    }\n",
              "</style>\n",
              "<table border=\"1\" class=\"dataframe\">\n",
              "  <thead>\n",
              "    <tr style=\"text-align: right;\">\n",
              "      <th></th>\n",
              "      <th>time</th>\n",
              "      <th>amp</th>\n",
              "      <th>freq</th>\n",
              "      <th>filtro</th>\n",
              "      <th>signal_filter</th>\n",
              "      <th>fft</th>\n",
              "      <th>asb</th>\n",
              "      <th>fase</th>\n",
              "    </tr>\n",
              "  </thead>\n",
              "  <tbody>\n",
              "    <tr>\n",
              "      <th>0</th>\n",
              "      <td>0.00</td>\n",
              "      <td>-0.244690</td>\n",
              "      <td>0.00000</td>\n",
              "      <td>0.000524</td>\n",
              "      <td>-0.000128</td>\n",
              "      <td>119.797147-0.000000j</td>\n",
              "      <td>13.838794</td>\n",
              "      <td>-1.026885e-15</td>\n",
              "    </tr>\n",
              "    <tr>\n",
              "      <th>1</th>\n",
              "      <td>0.02</td>\n",
              "      <td>0.055570</td>\n",
              "      <td>0.00304</td>\n",
              "      <td>0.001571</td>\n",
              "      <td>0.000087</td>\n",
              "      <td>74.820522-19.001879j</td>\n",
              "      <td>48.436642</td>\n",
              "      <td>4.764827e-01</td>\n",
              "    </tr>\n",
              "    <tr>\n",
              "      <th>2</th>\n",
              "      <td>0.04</td>\n",
              "      <td>0.034080</td>\n",
              "      <td>0.00608</td>\n",
              "      <td>0.002618</td>\n",
              "      <td>0.000089</td>\n",
              "      <td>-102.139290-30.503887j</td>\n",
              "      <td>29.586347</td>\n",
              "      <td>1.465820e+00</td>\n",
              "    </tr>\n",
              "    <tr>\n",
              "      <th>3</th>\n",
              "      <td>0.06</td>\n",
              "      <td>-0.035078</td>\n",
              "      <td>0.00912</td>\n",
              "      <td>0.003665</td>\n",
              "      <td>-0.000129</td>\n",
              "      <td>-120.635955+5.622811j</td>\n",
              "      <td>59.707817</td>\n",
              "      <td>1.167415e+00</td>\n",
              "    </tr>\n",
              "    <tr>\n",
              "      <th>4</th>\n",
              "      <td>0.08</td>\n",
              "      <td>0.065622</td>\n",
              "      <td>0.01216</td>\n",
              "      <td>0.004712</td>\n",
              "      <td>0.000309</td>\n",
              "      <td>-51.648943+11.915675j</td>\n",
              "      <td>43.373308</td>\n",
              "      <td>-1.020299e+00</td>\n",
              "    </tr>\n",
              "  </tbody>\n",
              "</table>\n",
              "</div>"
            ],
            "text/plain": [
              "   time       amp     freq  ...                    fft        asb          fase\n",
              "0  0.00 -0.244690  0.00000  ...   119.797147-0.000000j  13.838794 -1.026885e-15\n",
              "1  0.02  0.055570  0.00304  ...   74.820522-19.001879j  48.436642  4.764827e-01\n",
              "2  0.04  0.034080  0.00608  ... -102.139290-30.503887j  29.586347  1.465820e+00\n",
              "3  0.06 -0.035078  0.00912  ...  -120.635955+5.622811j  59.707817  1.167415e+00\n",
              "4  0.08  0.065622  0.01216  ...  -51.648943+11.915675j  43.373308 -1.020299e+00\n",
              "\n",
              "[5 rows x 8 columns]"
            ]
          },
          "metadata": {
            "tags": []
          },
          "execution_count": 99
        }
      ]
    },
    {
      "cell_type": "markdown",
      "metadata": {
        "id": "62mSp0MOLTZM"
      },
      "source": [
        "# Calcular la amplitud de la TF"
      ]
    },
    {
      "cell_type": "code",
      "metadata": {
        "id": "OIw5uq4aLPtG",
        "outputId": "71bcbbf6-fbc0-4054-9f7d-0c40fe966c97",
        "colab": {
          "base_uri": "https://localhost:8080/",
          "height": 204
        }
      },
      "source": [
        "data['asb']= np.abs(data['fft'])\n",
        "data.head(5)"
      ],
      "execution_count": 100,
      "outputs": [
        {
          "output_type": "execute_result",
          "data": {
            "text/html": [
              "<div>\n",
              "<style scoped>\n",
              "    .dataframe tbody tr th:only-of-type {\n",
              "        vertical-align: middle;\n",
              "    }\n",
              "\n",
              "    .dataframe tbody tr th {\n",
              "        vertical-align: top;\n",
              "    }\n",
              "\n",
              "    .dataframe thead th {\n",
              "        text-align: right;\n",
              "    }\n",
              "</style>\n",
              "<table border=\"1\" class=\"dataframe\">\n",
              "  <thead>\n",
              "    <tr style=\"text-align: right;\">\n",
              "      <th></th>\n",
              "      <th>time</th>\n",
              "      <th>amp</th>\n",
              "      <th>freq</th>\n",
              "      <th>filtro</th>\n",
              "      <th>signal_filter</th>\n",
              "      <th>fft</th>\n",
              "      <th>asb</th>\n",
              "      <th>fase</th>\n",
              "    </tr>\n",
              "  </thead>\n",
              "  <tbody>\n",
              "    <tr>\n",
              "      <th>0</th>\n",
              "      <td>0.00</td>\n",
              "      <td>-0.244690</td>\n",
              "      <td>0.00000</td>\n",
              "      <td>0.000524</td>\n",
              "      <td>-0.000128</td>\n",
              "      <td>119.797147-0.000000j</td>\n",
              "      <td>119.797147</td>\n",
              "      <td>-1.026885e-15</td>\n",
              "    </tr>\n",
              "    <tr>\n",
              "      <th>1</th>\n",
              "      <td>0.02</td>\n",
              "      <td>0.055570</td>\n",
              "      <td>0.00304</td>\n",
              "      <td>0.001571</td>\n",
              "      <td>0.000087</td>\n",
              "      <td>74.820522-19.001879j</td>\n",
              "      <td>77.195738</td>\n",
              "      <td>4.764827e-01</td>\n",
              "    </tr>\n",
              "    <tr>\n",
              "      <th>2</th>\n",
              "      <td>0.04</td>\n",
              "      <td>0.034080</td>\n",
              "      <td>0.00608</td>\n",
              "      <td>0.002618</td>\n",
              "      <td>0.000089</td>\n",
              "      <td>-102.139290-30.503887j</td>\n",
              "      <td>106.597006</td>\n",
              "      <td>1.465820e+00</td>\n",
              "    </tr>\n",
              "    <tr>\n",
              "      <th>3</th>\n",
              "      <td>0.06</td>\n",
              "      <td>-0.035078</td>\n",
              "      <td>0.00912</td>\n",
              "      <td>0.003665</td>\n",
              "      <td>-0.000129</td>\n",
              "      <td>-120.635955+5.622811j</td>\n",
              "      <td>120.766923</td>\n",
              "      <td>1.167415e+00</td>\n",
              "    </tr>\n",
              "    <tr>\n",
              "      <th>4</th>\n",
              "      <td>0.08</td>\n",
              "      <td>0.065622</td>\n",
              "      <td>0.01216</td>\n",
              "      <td>0.004712</td>\n",
              "      <td>0.000309</td>\n",
              "      <td>-51.648943+11.915675j</td>\n",
              "      <td>53.005628</td>\n",
              "      <td>-1.020299e+00</td>\n",
              "    </tr>\n",
              "  </tbody>\n",
              "</table>\n",
              "</div>"
            ],
            "text/plain": [
              "   time       amp     freq  ...                    fft         asb          fase\n",
              "0  0.00 -0.244690  0.00000  ...   119.797147-0.000000j  119.797147 -1.026885e-15\n",
              "1  0.02  0.055570  0.00304  ...   74.820522-19.001879j   77.195738  4.764827e-01\n",
              "2  0.04  0.034080  0.00608  ... -102.139290-30.503887j  106.597006  1.465820e+00\n",
              "3  0.06 -0.035078  0.00912  ...  -120.635955+5.622811j  120.766923  1.167415e+00\n",
              "4  0.08  0.065622  0.01216  ...  -51.648943+11.915675j   53.005628 -1.020299e+00\n",
              "\n",
              "[5 rows x 8 columns]"
            ]
          },
          "metadata": {
            "tags": []
          },
          "execution_count": 100
        }
      ]
    },
    {
      "cell_type": "markdown",
      "metadata": {
        "id": "TeZbO3TPLqq-"
      },
      "source": [
        "# Calcular la fase de la TF"
      ]
    },
    {
      "cell_type": "code",
      "metadata": {
        "id": "mHzQR9f8Lxs7"
      },
      "source": [
        "#data['fase'].iloc[0]=0"
      ],
      "execution_count": 81,
      "outputs": []
    },
    {
      "cell_type": "code",
      "metadata": {
        "id": "5bkOkm3nL1qE",
        "outputId": "707ca008-e00c-4c40-f8be-36fa1f014393",
        "colab": {
          "base_uri": "https://localhost:8080/",
          "height": 204
        }
      },
      "source": [
        "data['fase']=np.arctan(data['fft'].values.imag/data['fft'].values.real)\n",
        "data.head(5)"
      ],
      "execution_count": 101,
      "outputs": [
        {
          "output_type": "execute_result",
          "data": {
            "text/html": [
              "<div>\n",
              "<style scoped>\n",
              "    .dataframe tbody tr th:only-of-type {\n",
              "        vertical-align: middle;\n",
              "    }\n",
              "\n",
              "    .dataframe tbody tr th {\n",
              "        vertical-align: top;\n",
              "    }\n",
              "\n",
              "    .dataframe thead th {\n",
              "        text-align: right;\n",
              "    }\n",
              "</style>\n",
              "<table border=\"1\" class=\"dataframe\">\n",
              "  <thead>\n",
              "    <tr style=\"text-align: right;\">\n",
              "      <th></th>\n",
              "      <th>time</th>\n",
              "      <th>amp</th>\n",
              "      <th>freq</th>\n",
              "      <th>filtro</th>\n",
              "      <th>signal_filter</th>\n",
              "      <th>fft</th>\n",
              "      <th>asb</th>\n",
              "      <th>fase</th>\n",
              "    </tr>\n",
              "  </thead>\n",
              "  <tbody>\n",
              "    <tr>\n",
              "      <th>0</th>\n",
              "      <td>0.00</td>\n",
              "      <td>-0.244690</td>\n",
              "      <td>0.00000</td>\n",
              "      <td>0.000524</td>\n",
              "      <td>-0.000128</td>\n",
              "      <td>119.797147-0.000000j</td>\n",
              "      <td>119.797147</td>\n",
              "      <td>-2.075926e-15</td>\n",
              "    </tr>\n",
              "    <tr>\n",
              "      <th>1</th>\n",
              "      <td>0.02</td>\n",
              "      <td>0.055570</td>\n",
              "      <td>0.00304</td>\n",
              "      <td>0.001571</td>\n",
              "      <td>0.000087</td>\n",
              "      <td>74.820522-19.001879j</td>\n",
              "      <td>77.195738</td>\n",
              "      <td>-2.487080e-01</td>\n",
              "    </tr>\n",
              "    <tr>\n",
              "      <th>2</th>\n",
              "      <td>0.04</td>\n",
              "      <td>0.034080</td>\n",
              "      <td>0.00608</td>\n",
              "      <td>0.002618</td>\n",
              "      <td>0.000089</td>\n",
              "      <td>-102.139290-30.503887j</td>\n",
              "      <td>106.597006</td>\n",
              "      <td>2.902177e-01</td>\n",
              "    </tr>\n",
              "    <tr>\n",
              "      <th>3</th>\n",
              "      <td>0.06</td>\n",
              "      <td>-0.035078</td>\n",
              "      <td>0.00912</td>\n",
              "      <td>0.003665</td>\n",
              "      <td>-0.000129</td>\n",
              "      <td>-120.635955+5.622811j</td>\n",
              "      <td>120.766923</td>\n",
              "      <td>-4.657603e-02</td>\n",
              "    </tr>\n",
              "    <tr>\n",
              "      <th>4</th>\n",
              "      <td>0.08</td>\n",
              "      <td>0.065622</td>\n",
              "      <td>0.01216</td>\n",
              "      <td>0.004712</td>\n",
              "      <td>0.000309</td>\n",
              "      <td>-51.648943+11.915675j</td>\n",
              "      <td>53.005628</td>\n",
              "      <td>-2.267380e-01</td>\n",
              "    </tr>\n",
              "  </tbody>\n",
              "</table>\n",
              "</div>"
            ],
            "text/plain": [
              "   time       amp     freq  ...                    fft         asb          fase\n",
              "0  0.00 -0.244690  0.00000  ...   119.797147-0.000000j  119.797147 -2.075926e-15\n",
              "1  0.02  0.055570  0.00304  ...   74.820522-19.001879j   77.195738 -2.487080e-01\n",
              "2  0.04  0.034080  0.00608  ... -102.139290-30.503887j  106.597006  2.902177e-01\n",
              "3  0.06 -0.035078  0.00912  ...  -120.635955+5.622811j  120.766923 -4.657603e-02\n",
              "4  0.08  0.065622  0.01216  ...  -51.648943+11.915675j   53.005628 -2.267380e-01\n",
              "\n",
              "[5 rows x 8 columns]"
            ]
          },
          "metadata": {
            "tags": []
          },
          "execution_count": 101
        }
      ]
    },
    {
      "cell_type": "code",
      "metadata": {
        "id": "BrbDxKc7L3xq",
        "outputId": "ea6f8fd0-10bc-4214-d26e-49441030c0d1",
        "colab": {
          "base_uri": "https://localhost:8080/",
          "height": 204
        }
      },
      "source": [
        "data.tail()"
      ],
      "execution_count": 83,
      "outputs": [
        {
          "output_type": "execute_result",
          "data": {
            "text/html": [
              "<div>\n",
              "<style scoped>\n",
              "    .dataframe tbody tr th:only-of-type {\n",
              "        vertical-align: middle;\n",
              "    }\n",
              "\n",
              "    .dataframe tbody tr th {\n",
              "        vertical-align: top;\n",
              "    }\n",
              "\n",
              "    .dataframe thead th {\n",
              "        text-align: right;\n",
              "    }\n",
              "</style>\n",
              "<table border=\"1\" class=\"dataframe\">\n",
              "  <thead>\n",
              "    <tr style=\"text-align: right;\">\n",
              "      <th></th>\n",
              "      <th>time</th>\n",
              "      <th>amp</th>\n",
              "      <th>freq</th>\n",
              "      <th>filtro</th>\n",
              "      <th>signal_filter</th>\n",
              "      <th>fft</th>\n",
              "      <th>asb</th>\n",
              "      <th>fase</th>\n",
              "    </tr>\n",
              "  </thead>\n",
              "  <tbody>\n",
              "    <tr>\n",
              "      <th>16443</th>\n",
              "      <td>328.86</td>\n",
              "      <td>0.72716</td>\n",
              "      <td>49.98784</td>\n",
              "      <td>0.014137</td>\n",
              "      <td>0.010280</td>\n",
              "      <td>-3.885055-59.434760j</td>\n",
              "      <td>59.561601</td>\n",
              "      <td>1.505522</td>\n",
              "    </tr>\n",
              "    <tr>\n",
              "      <th>16444</th>\n",
              "      <td>328.88</td>\n",
              "      <td>0.61736</td>\n",
              "      <td>49.99088</td>\n",
              "      <td>0.010995</td>\n",
              "      <td>0.006788</td>\n",
              "      <td>-22.689074-36.965522j</td>\n",
              "      <td>43.373308</td>\n",
              "      <td>1.020299</td>\n",
              "    </tr>\n",
              "    <tr>\n",
              "      <th>16445</th>\n",
              "      <td>328.90</td>\n",
              "      <td>0.54991</td>\n",
              "      <td>49.99392</td>\n",
              "      <td>0.007854</td>\n",
              "      <td>0.004319</td>\n",
              "      <td>23.437134-54.915609j</td>\n",
              "      <td>59.707817</td>\n",
              "      <td>-1.167415</td>\n",
              "    </tr>\n",
              "    <tr>\n",
              "      <th>16446</th>\n",
              "      <td>328.92</td>\n",
              "      <td>0.59976</td>\n",
              "      <td>49.99696</td>\n",
              "      <td>0.004712</td>\n",
              "      <td>0.002826</td>\n",
              "      <td>3.100171-29.423475j</td>\n",
              "      <td>29.586347</td>\n",
              "      <td>-1.465820</td>\n",
              "    </tr>\n",
              "    <tr>\n",
              "      <th>16447</th>\n",
              "      <td>328.94</td>\n",
              "      <td>0.41080</td>\n",
              "      <td>50.00000</td>\n",
              "      <td>0.001571</td>\n",
              "      <td>0.000645</td>\n",
              "      <td>43.041462-22.215780j</td>\n",
              "      <td>48.436642</td>\n",
              "      <td>-0.476483</td>\n",
              "    </tr>\n",
              "  </tbody>\n",
              "</table>\n",
              "</div>"
            ],
            "text/plain": [
              "         time      amp      freq  ...                   fft        asb      fase\n",
              "16443  328.86  0.72716  49.98784  ...  -3.885055-59.434760j  59.561601  1.505522\n",
              "16444  328.88  0.61736  49.99088  ... -22.689074-36.965522j  43.373308  1.020299\n",
              "16445  328.90  0.54991  49.99392  ...  23.437134-54.915609j  59.707817 -1.167415\n",
              "16446  328.92  0.59976  49.99696  ...   3.100171-29.423475j  29.586347 -1.465820\n",
              "16447  328.94  0.41080  50.00000  ...  43.041462-22.215780j  48.436642 -0.476483\n",
              "\n",
              "[5 rows x 8 columns]"
            ]
          },
          "metadata": {
            "tags": []
          },
          "execution_count": 83
        }
      ]
    },
    {
      "cell_type": "markdown",
      "metadata": {
        "id": "DmhJVYr_L_mg"
      },
      "source": [
        "# Señal en el dominio del tiempo"
      ]
    },
    {
      "cell_type": "code",
      "metadata": {
        "id": "6b08c76pMDir",
        "outputId": "fa411e85-69af-48de-a39d-5992a2ede977",
        "colab": {
          "base_uri": "https://localhost:8080/",
          "height": 282
        }
      },
      "source": [
        "plt.plot(data['time'],data['amp'])"
      ],
      "execution_count": 84,
      "outputs": [
        {
          "output_type": "execute_result",
          "data": {
            "text/plain": [
              "[<matplotlib.lines.Line2D at 0x7fd75422a6d8>]"
            ]
          },
          "metadata": {
            "tags": []
          },
          "execution_count": 84
        },
        {
          "output_type": "display_data",
          "data": {
            "image/png": "[encoded data removed]",
            "text/plain": [
              "<Figure size 432x288 with 1 Axes>"
            ]
          },
          "metadata": {
            "tags": [],
            "needs_background": "light"
          }
        }
      ]
    },
    {
      "cell_type": "markdown",
      "metadata": {
        "id": "Z84ZXZqwMR5v"
      },
      "source": [
        "# Señal en el dominio de la frecuencia "
      ]
    },
    {
      "cell_type": "code",
      "metadata": {
        "id": "PjgtgjV1MGVz",
        "outputId": "6df79e7f-6b40-4fa2-f764-03c75212ac46",
        "colab": {
          "base_uri": "https://localhost:8080/",
          "height": 282
        }
      },
      "source": [
        "plt.plot(data['time'],data['signal_filter'])"
      ],
      "execution_count": 85,
      "outputs": [
        {
          "output_type": "execute_result",
          "data": {
            "text/plain": [
              "[<matplotlib.lines.Line2D at 0x7fd75422c6d8>]"
            ]
          },
          "metadata": {
            "tags": []
          },
          "execution_count": 85
        },
        {
          "output_type": "display_data",
          "data": {
            "image/png": "[encoded data removed]",
            "text/plain": [
              "<Figure size 432x288 with 1 Axes>"
            ]
          },
          "metadata": {
            "tags": [],
            "needs_background": "light"
          }
        }
      ]
    },
    {
      "cell_type": "markdown",
      "metadata": {
        "id": "J8AAONMUMcp7"
      },
      "source": [
        "# Espectro de Amplitud"
      ]
    },
    {
      "cell_type": "code",
      "metadata": {
        "id": "Oj0tv16AMb02",
        "outputId": "a6456817-b47c-4735-eef7-2645db7132bc",
        "colab": {
          "base_uri": "https://localhost:8080/",
          "height": 286
        }
      },
      "source": [
        "plt.loglog(data['freq'].iloc[0:8224],data['asb'].iloc[0:8224])"
      ],
      "execution_count": 102,
      "outputs": [
        {
          "output_type": "execute_result",
          "data": {
            "text/plain": [
              "[<matplotlib.lines.Line2D at 0x7fd74b932c88>]"
            ]
          },
          "metadata": {
            "tags": []
          },
          "execution_count": 102
        },
        {
          "output_type": "display_data",
          "data": {
            "image/png": "[encoded data removed]",
            "text/plain": [
              "<Figure size 432x288 with 1 Axes>"
            ]
          },
          "metadata": {
            "tags": [],
            "needs_background": "light"
          }
        }
      ]
    },
    {
      "cell_type": "code",
      "metadata": {
        "id": "SoyRM5svP1-R",
        "outputId": "c3374da8-c21a-4533-e086-b08f655b070e",
        "colab": {
          "base_uri": "https://localhost:8080/",
          "height": 282
        }
      },
      "source": [
        "plt.plot(data['time'],data['asb'])"
      ],
      "execution_count": 87,
      "outputs": [
        {
          "output_type": "execute_result",
          "data": {
            "text/plain": [
              "[<matplotlib.lines.Line2D at 0x7fd753f17be0>]"
            ]
          },
          "metadata": {
            "tags": []
          },
          "execution_count": 87
        },
        {
          "output_type": "display_data",
          "data": {
            "image/png": "[encoded data removed]",
            "text/plain": [
              "<Figure size 432x288 with 1 Axes>"
            ]
          },
          "metadata": {
            "tags": [],
            "needs_background": "light"
          }
        }
      ]
    },
    {
      "cell_type": "markdown",
      "metadata": {
        "id": "ncMMEXSDMi71"
      },
      "source": [
        "# Espectro de Fase"
      ]
    },
    {
      "cell_type": "code",
      "metadata": {
        "id": "NcoXimscMlyn",
        "outputId": "40568c08-a466-4e7a-d0c4-e88041b5fa43",
        "colab": {
          "base_uri": "https://localhost:8080/",
          "height": 286
        }
      },
      "source": [
        "plt.loglog(data['freq'],data['fase'],'r*')"
      ],
      "execution_count": 103,
      "outputs": [
        {
          "output_type": "execute_result",
          "data": {
            "text/plain": [
              "[<matplotlib.lines.Line2D at 0x7fd74b6f1f28>]"
            ]
          },
          "metadata": {
            "tags": []
          },
          "execution_count": 103
        },
        {
          "output_type": "display_data",
          "data": {
            "image/png": "[encoded data removed]",
            "text/plain": [
              "<Figure size 432x288 with 1 Axes>"
            ]
          },
          "metadata": {
            "tags": [],
            "needs_background": "light"
          }
        }
      ]
    },
    {
      "cell_type": "code",
      "metadata": {
        "id": "sqZ1VF2IP9Ph",
        "outputId": "2af13b2d-dbaa-4a0b-e0c0-ed2f45ae1eb2",
        "colab": {
          "base_uri": "https://localhost:8080/",
          "height": 286
        }
      },
      "source": [
        "plt.loglog(data['time'],data['fase'])"
      ],
      "execution_count": 89,
      "outputs": [
        {
          "output_type": "execute_result",
          "data": {
            "text/plain": [
              "[<matplotlib.lines.Line2D at 0x7fd753cc7e10>]"
            ]
          },
          "metadata": {
            "tags": []
          },
          "execution_count": 89
        },
        {
          "output_type": "display_data",
          "data": {
            "image/png": "[encoded data removed]",
            "text/plain": [
              "<Figure size 432x288 with 1 Axes>"
            ]
          },
          "metadata": {
            "tags": [],
            "needs_background": "light"
          }
        }
      ]
    }
  ]
}