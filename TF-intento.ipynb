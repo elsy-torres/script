{
  "nbformat": 4,
  "nbformat_minor": 0,
  "metadata": {
    "colab": {
      "name": "Untitled1.ipynb",
      "provenance": [],
      "toc_visible": true,
      "authorship_tag": "ABX9TyPI/QE2/9D6CMqShGZdQgp9",
      "include_colab_link": true
    },
    "kernelspec": {
      "name": "python3",
      "display_name": "Python 3"
    }
  },
  "cells": [
    {
      "cell_type": "markdown",
      "metadata": {
        "id": "view-in-github",
        "colab_type": "text"
      },
      "source": [
        "<a href=\"https://colab.research.google.com/github/elsy-torres/script/blob/main/TF-intento.ipynb\" target=\"_parent\"><img src=\"https://colab.research.google.com/assets/colab-badge.svg\" alt=\"Open In Colab\"/></a>"
      ]
    },
    {
      "cell_type": "markdown",
      "metadata": {
        "id": "-ywCuRfnJinP"
      },
      "source": [
        "# TRANSFORMADA DE UN SISMOGRAMA\n",
        "## Los datos fueron proporcionados por el Dr. Chang 2020."
      ]
    },
    {
      "cell_type": "markdown",
      "metadata": {
        "id": "Fv_AemmbJzyV"
      },
      "source": [
        "#Importar librerías"
      ]
    },
    {
      "cell_type": "code",
      "metadata": {
        "id": "zccAUeTiJVVO"
      },
      "source": [
        "import matplotlib.pyplot as plt\n",
        "import pandas as pd\n",
        "import numpy as np\n",
        "from scipy import signal\n",
        "from scipy import fftpack"
      ],
      "execution_count": 33,
      "outputs": []
    },
    {
      "cell_type": "markdown",
      "metadata": {
        "id": "rXtlkLkDKICs"
      },
      "source": [
        "# Cargar datos de un txt\n"
      ]
    },
    {
      "cell_type": "code",
      "metadata": {
        "id": "WSV50B2EJza3",
        "outputId": "185f0145-3191-4dc3-c573-5c8de36f4b53",
        "colab": {
          "base_uri": "https://localhost:8080/",
          "height": 359
        }
      },
      "source": [
        "data=pd.read_csv('NZ007.txt',names=['time','amp'],skiprows=3,sep='\\s+',engine='python')\n",
        "data.head(10)"
      ],
      "execution_count": 61,
      "outputs": [
        {
          "output_type": "execute_result",
          "data": {
            "text/html": [
              "<div>\n",
              "<style scoped>\n",
              "    .dataframe tbody tr th:only-of-type {\n",
              "        vertical-align: middle;\n",
              "    }\n",
              "\n",
              "    .dataframe tbody tr th {\n",
              "        vertical-align: top;\n",
              "    }\n",
              "\n",
              "    .dataframe thead th {\n",
              "        text-align: right;\n",
              "    }\n",
              "</style>\n",
              "<table border=\"1\" class=\"dataframe\">\n",
              "  <thead>\n",
              "    <tr style=\"text-align: right;\">\n",
              "      <th></th>\n",
              "      <th>time</th>\n",
              "      <th>amp</th>\n",
              "    </tr>\n",
              "  </thead>\n",
              "  <tbody>\n",
              "    <tr>\n",
              "      <th>0</th>\n",
              "      <td>0.00</td>\n",
              "      <td>-0.244690</td>\n",
              "    </tr>\n",
              "    <tr>\n",
              "      <th>1</th>\n",
              "      <td>0.02</td>\n",
              "      <td>0.055570</td>\n",
              "    </tr>\n",
              "    <tr>\n",
              "      <th>2</th>\n",
              "      <td>0.04</td>\n",
              "      <td>0.034080</td>\n",
              "    </tr>\n",
              "    <tr>\n",
              "      <th>3</th>\n",
              "      <td>0.06</td>\n",
              "      <td>-0.035078</td>\n",
              "    </tr>\n",
              "    <tr>\n",
              "      <th>4</th>\n",
              "      <td>0.08</td>\n",
              "      <td>0.065622</td>\n",
              "    </tr>\n",
              "    <tr>\n",
              "      <th>5</th>\n",
              "      <td>0.10</td>\n",
              "      <td>0.045962</td>\n",
              "    </tr>\n",
              "    <tr>\n",
              "      <th>6</th>\n",
              "      <td>0.12</td>\n",
              "      <td>0.007326</td>\n",
              "    </tr>\n",
              "    <tr>\n",
              "      <th>7</th>\n",
              "      <td>0.14</td>\n",
              "      <td>-0.012271</td>\n",
              "    </tr>\n",
              "    <tr>\n",
              "      <th>8</th>\n",
              "      <td>0.16</td>\n",
              "      <td>-0.046718</td>\n",
              "    </tr>\n",
              "    <tr>\n",
              "      <th>9</th>\n",
              "      <td>0.18</td>\n",
              "      <td>-0.049188</td>\n",
              "    </tr>\n",
              "  </tbody>\n",
              "</table>\n",
              "</div>"
            ],
            "text/plain": [
              "   time       amp\n",
              "0  0.00 -0.244690\n",
              "1  0.02  0.055570\n",
              "2  0.04  0.034080\n",
              "3  0.06 -0.035078\n",
              "4  0.08  0.065622\n",
              "5  0.10  0.045962\n",
              "6  0.12  0.007326\n",
              "7  0.14 -0.012271\n",
              "8  0.16 -0.046718\n",
              "9  0.18 -0.049188"
            ]
          },
          "metadata": {
            "tags": []
          },
          "execution_count": 61
        }
      ]
    },
    {
      "cell_type": "code",
      "metadata": {
        "id": "H-vPQJIYToEp"
      },
      "source": [
        "data.tail()\n"
      ],
      "execution_count": null,
      "outputs": []
    },
    {
      "cell_type": "code",
      "metadata": {
        "id": "hJ3NM8QhT0JX",
        "outputId": "ce9bd489-83f2-4183-f9c7-89d15af57f9a",
        "colab": {
          "base_uri": "https://localhost:8080/"
        }
      },
      "source": [
        "print(len(data))"
      ],
      "execution_count": 36,
      "outputs": [
        {
          "output_type": "stream",
          "text": [
            "16448\n"
          ],
          "name": "stdout"
        }
      ]
    },
    {
      "cell_type": "code",
      "metadata": {
        "id": "VGF2uDB-aI6d",
        "outputId": "d3bdc2cf-a4f8-423b-d41f-6ba848d1edf6",
        "colab": {
          "base_uri": "https://localhost:8080/"
        }
      },
      "source": [
        "1/328.94"
      ],
      "execution_count": 40,
      "outputs": [
        {
          "output_type": "execute_result",
          "data": {
            "text/plain": [
              "0.0030400680975253844"
            ]
          },
          "metadata": {
            "tags": []
          },
          "execution_count": 40
        }
      ]
    },
    {
      "cell_type": "code",
      "metadata": {
        "id": "C4ezMYCVKXa_"
      },
      "source": [
        "data.info()"
      ],
      "execution_count": null,
      "outputs": []
    },
    {
      "cell_type": "code",
      "metadata": {
        "id": "dawpV7QKZJFP",
        "outputId": "135938d2-49c0-4602-dd41-94952efa5788",
        "colab": {
          "base_uri": "https://localhost:8080/",
          "height": 282
        }
      },
      "source": [
        "plt.plot(data['time'],data['amp'])"
      ],
      "execution_count": 38,
      "outputs": [
        {
          "output_type": "execute_result",
          "data": {
            "text/plain": [
              "[<matplotlib.lines.Line2D at 0x7f2dc73c67f0>]"
            ]
          },
          "metadata": {
            "tags": []
          },
          "execution_count": 38
        },
        {
          "output_type": "display_data",
          "data": {
            "image/png": "[encoded data removed]",
            "text/plain": [
              "<Figure size 432x288 with 1 Axes>"
            ]
          },
          "metadata": {
            "tags": [],
            "needs_background": "light"
          }
        }
      ]
    },
    {
      "cell_type": "markdown",
      "metadata": {
        "id": "4imQ3zArKQS7"
      },
      "source": [
        "# Declarar el vector x en el dominio de la frecuencia"
      ]
    },
    {
      "cell_type": "code",
      "metadata": {
        "id": "7GDgeWqHKZeQ",
        "outputId": "0eed6100-8ab1-490b-a4d5-a83f6bbdb618",
        "colab": {
          "base_uri": "https://localhost:8080/"
        }
      },
      "source": [
        "fo=1/328.94\n",
        "data['W']=2*np.pi*data['freq']\n",
        "data['freq']=np.arange(0,len(data)*fo,step=fo)\n",
        "print(data)"
      ],
      "execution_count": 80,
      "outputs": [
        {
          "output_type": "stream",
          "text": [
            "         time       amp      freq  ...        asb      fase           W\n",
            "0        0.00 -0.244690   0.00000  ...  13.838794  0.000000    0.000000\n",
            "1        0.02  0.055570   0.00304  ...  48.436642  0.476483    0.019101\n",
            "2        0.04  0.034080   0.00608  ...  29.586347  1.465820    0.038203\n",
            "3        0.06 -0.035078   0.00912  ...  59.707817  1.167415    0.057304\n",
            "4        0.08  0.065622   0.01216  ...  43.373308 -1.020299    0.076405\n",
            "...       ...       ...       ...  ...        ...       ...         ...\n",
            "16443  328.86  0.727160  49.98784  ...  59.561601  1.505522  314.082860\n",
            "16444  328.88  0.617360  49.99088  ...  43.373308  1.020299  314.101961\n",
            "16445  328.90  0.549910  49.99392  ...  59.707817 -1.167415  314.121063\n",
            "16446  328.92  0.599760  49.99696  ...  29.586347 -1.465820  314.140164\n",
            "16447  328.94  0.410800  50.00000  ...  48.436642 -0.476483  314.159265\n",
            "\n",
            "[16448 rows x 9 columns]\n"
          ],
          "name": "stdout"
        }
      ]
    },
    {
      "cell_type": "code",
      "metadata": {
        "id": "YKUL71KueRbV"
      },
      "source": [
        ""
      ],
      "execution_count": 62,
      "outputs": []
    },
    {
      "cell_type": "code",
      "metadata": {
        "id": "6Sv-x3xwUqB_",
        "outputId": "0cb737b9-97cc-454c-87b7-429f63bea32f",
        "colab": {
          "base_uri": "https://localhost:8080/",
          "height": 204
        }
      },
      "source": [
        "data.tail()"
      ],
      "execution_count": 63,
      "outputs": [
        {
          "output_type": "execute_result",
          "data": {
            "text/html": [
              "<div>\n",
              "<style scoped>\n",
              "    .dataframe tbody tr th:only-of-type {\n",
              "        vertical-align: middle;\n",
              "    }\n",
              "\n",
              "    .dataframe tbody tr th {\n",
              "        vertical-align: top;\n",
              "    }\n",
              "\n",
              "    .dataframe thead th {\n",
              "        text-align: right;\n",
              "    }\n",
              "</style>\n",
              "<table border=\"1\" class=\"dataframe\">\n",
              "  <thead>\n",
              "    <tr style=\"text-align: right;\">\n",
              "      <th></th>\n",
              "      <th>time</th>\n",
              "      <th>amp</th>\n",
              "      <th>freq</th>\n",
              "    </tr>\n",
              "  </thead>\n",
              "  <tbody>\n",
              "    <tr>\n",
              "      <th>16443</th>\n",
              "      <td>328.86</td>\n",
              "      <td>0.72716</td>\n",
              "      <td>49.98784</td>\n",
              "    </tr>\n",
              "    <tr>\n",
              "      <th>16444</th>\n",
              "      <td>328.88</td>\n",
              "      <td>0.61736</td>\n",
              "      <td>49.99088</td>\n",
              "    </tr>\n",
              "    <tr>\n",
              "      <th>16445</th>\n",
              "      <td>328.90</td>\n",
              "      <td>0.54991</td>\n",
              "      <td>49.99392</td>\n",
              "    </tr>\n",
              "    <tr>\n",
              "      <th>16446</th>\n",
              "      <td>328.92</td>\n",
              "      <td>0.59976</td>\n",
              "      <td>49.99696</td>\n",
              "    </tr>\n",
              "    <tr>\n",
              "      <th>16447</th>\n",
              "      <td>328.94</td>\n",
              "      <td>0.41080</td>\n",
              "      <td>50.00000</td>\n",
              "    </tr>\n",
              "  </tbody>\n",
              "</table>\n",
              "</div>"
            ],
            "text/plain": [
              "         time      amp      freq\n",
              "16443  328.86  0.72716  49.98784\n",
              "16444  328.88  0.61736  49.99088\n",
              "16445  328.90  0.54991  49.99392\n",
              "16446  328.92  0.59976  49.99696\n",
              "16447  328.94  0.41080  50.00000"
            ]
          },
          "metadata": {
            "tags": []
          },
          "execution_count": 63
        }
      ]
    },
    {
      "cell_type": "markdown",
      "metadata": {
        "id": "9f-Vlow8Ku2i"
      },
      "source": [
        "# Aplicar un filtro a la serie de tiempo antes de realizar la FT\n"
      ]
    },
    {
      "cell_type": "code",
      "metadata": {
        "id": "3yJB9ZpEK24z"
      },
      "source": [
        "data=data.drop('filtro1',axis=1)"
      ],
      "execution_count": null,
      "outputs": []
    },
    {
      "cell_type": "code",
      "metadata": {
        "id": "67GeQaWnK6eY",
        "outputId": "fa2ed101-4ca0-4de3-c0cd-c4cf71072437",
        "colab": {
          "base_uri": "https://localhost:8080/",
          "height": 419
        }
      },
      "source": [
        "data['filtro']=1\n",
        "data"
      ],
      "execution_count": 64,
      "outputs": [
        {
          "output_type": "execute_result",
          "data": {
            "text/html": [
              "<div>\n",
              "<style scoped>\n",
              "    .dataframe tbody tr th:only-of-type {\n",
              "        vertical-align: middle;\n",
              "    }\n",
              "\n",
              "    .dataframe tbody tr th {\n",
              "        vertical-align: top;\n",
              "    }\n",
              "\n",
              "    .dataframe thead th {\n",
              "        text-align: right;\n",
              "    }\n",
              "</style>\n",
              "<table border=\"1\" class=\"dataframe\">\n",
              "  <thead>\n",
              "    <tr style=\"text-align: right;\">\n",
              "      <th></th>\n",
              "      <th>time</th>\n",
              "      <th>amp</th>\n",
              "      <th>freq</th>\n",
              "      <th>filtro</th>\n",
              "    </tr>\n",
              "  </thead>\n",
              "  <tbody>\n",
              "    <tr>\n",
              "      <th>0</th>\n",
              "      <td>0.00</td>\n",
              "      <td>-0.244690</td>\n",
              "      <td>0.00000</td>\n",
              "      <td>1</td>\n",
              "    </tr>\n",
              "    <tr>\n",
              "      <th>1</th>\n",
              "      <td>0.02</td>\n",
              "      <td>0.055570</td>\n",
              "      <td>0.00304</td>\n",
              "      <td>1</td>\n",
              "    </tr>\n",
              "    <tr>\n",
              "      <th>2</th>\n",
              "      <td>0.04</td>\n",
              "      <td>0.034080</td>\n",
              "      <td>0.00608</td>\n",
              "      <td>1</td>\n",
              "    </tr>\n",
              "    <tr>\n",
              "      <th>3</th>\n",
              "      <td>0.06</td>\n",
              "      <td>-0.035078</td>\n",
              "      <td>0.00912</td>\n",
              "      <td>1</td>\n",
              "    </tr>\n",
              "    <tr>\n",
              "      <th>4</th>\n",
              "      <td>0.08</td>\n",
              "      <td>0.065622</td>\n",
              "      <td>0.01216</td>\n",
              "      <td>1</td>\n",
              "    </tr>\n",
              "    <tr>\n",
              "      <th>...</th>\n",
              "      <td>...</td>\n",
              "      <td>...</td>\n",
              "      <td>...</td>\n",
              "      <td>...</td>\n",
              "    </tr>\n",
              "    <tr>\n",
              "      <th>16443</th>\n",
              "      <td>328.86</td>\n",
              "      <td>0.727160</td>\n",
              "      <td>49.98784</td>\n",
              "      <td>1</td>\n",
              "    </tr>\n",
              "    <tr>\n",
              "      <th>16444</th>\n",
              "      <td>328.88</td>\n",
              "      <td>0.617360</td>\n",
              "      <td>49.99088</td>\n",
              "      <td>1</td>\n",
              "    </tr>\n",
              "    <tr>\n",
              "      <th>16445</th>\n",
              "      <td>328.90</td>\n",
              "      <td>0.549910</td>\n",
              "      <td>49.99392</td>\n",
              "      <td>1</td>\n",
              "    </tr>\n",
              "    <tr>\n",
              "      <th>16446</th>\n",
              "      <td>328.92</td>\n",
              "      <td>0.599760</td>\n",
              "      <td>49.99696</td>\n",
              "      <td>1</td>\n",
              "    </tr>\n",
              "    <tr>\n",
              "      <th>16447</th>\n",
              "      <td>328.94</td>\n",
              "      <td>0.410800</td>\n",
              "      <td>50.00000</td>\n",
              "      <td>1</td>\n",
              "    </tr>\n",
              "  </tbody>\n",
              "</table>\n",
              "<p>16448 rows × 4 columns</p>\n",
              "</div>"
            ],
            "text/plain": [
              "         time       amp      freq  filtro\n",
              "0        0.00 -0.244690   0.00000       1\n",
              "1        0.02  0.055570   0.00304       1\n",
              "2        0.04  0.034080   0.00608       1\n",
              "3        0.06 -0.035078   0.00912       1\n",
              "4        0.08  0.065622   0.01216       1\n",
              "...       ...       ...       ...     ...\n",
              "16443  328.86  0.727160  49.98784       1\n",
              "16444  328.88  0.617360  49.99088       1\n",
              "16445  328.90  0.549910  49.99392       1\n",
              "16446  328.92  0.599760  49.99696       1\n",
              "16447  328.94  0.410800  50.00000       1\n",
              "\n",
              "[16448 rows x 4 columns]"
            ]
          },
          "metadata": {
            "tags": []
          },
          "execution_count": 64
        }
      ]
    },
    {
      "cell_type": "code",
      "metadata": {
        "id": "VnBwmbDlK8nL",
        "outputId": "db5ceaa8-708c-4fdd-9a64-ec188f467968",
        "colab": {
          "base_uri": "https://localhost:8080/",
          "height": 309
        }
      },
      "source": [
        "data['filtro'].iloc[data.index<1000]=signal.cosine(1000)\n",
        "data['filtro'].iloc[data.index>15447]=signal.cosine(1000)\n",
        "data.tail()"
      ],
      "execution_count": 65,
      "outputs": [
        {
          "output_type": "stream",
          "text": [
            "/usr/local/lib/python3.6/dist-packages/pandas/core/indexing.py:670: SettingWithCopyWarning: \n",
            "A value is trying to be set on a copy of a slice from a DataFrame\n",
            "\n",
            "See the caveats in the documentation: https://pandas.pydata.org/pandas-docs/stable/user_guide/indexing.html#returning-a-view-versus-a-copy\n",
            "  iloc._setitem_with_indexer(indexer, value)\n"
          ],
          "name": "stderr"
        },
        {
          "output_type": "execute_result",
          "data": {
            "text/html": [
              "<div>\n",
              "<style scoped>\n",
              "    .dataframe tbody tr th:only-of-type {\n",
              "        vertical-align: middle;\n",
              "    }\n",
              "\n",
              "    .dataframe tbody tr th {\n",
              "        vertical-align: top;\n",
              "    }\n",
              "\n",
              "    .dataframe thead th {\n",
              "        text-align: right;\n",
              "    }\n",
              "</style>\n",
              "<table border=\"1\" class=\"dataframe\">\n",
              "  <thead>\n",
              "    <tr style=\"text-align: right;\">\n",
              "      <th></th>\n",
              "      <th>time</th>\n",
              "      <th>amp</th>\n",
              "      <th>freq</th>\n",
              "      <th>filtro</th>\n",
              "    </tr>\n",
              "  </thead>\n",
              "  <tbody>\n",
              "    <tr>\n",
              "      <th>16443</th>\n",
              "      <td>328.86</td>\n",
              "      <td>0.72716</td>\n",
              "      <td>49.98784</td>\n",
              "      <td>0.014137</td>\n",
              "    </tr>\n",
              "    <tr>\n",
              "      <th>16444</th>\n",
              "      <td>328.88</td>\n",
              "      <td>0.61736</td>\n",
              "      <td>49.99088</td>\n",
              "      <td>0.010995</td>\n",
              "    </tr>\n",
              "    <tr>\n",
              "      <th>16445</th>\n",
              "      <td>328.90</td>\n",
              "      <td>0.54991</td>\n",
              "      <td>49.99392</td>\n",
              "      <td>0.007854</td>\n",
              "    </tr>\n",
              "    <tr>\n",
              "      <th>16446</th>\n",
              "      <td>328.92</td>\n",
              "      <td>0.59976</td>\n",
              "      <td>49.99696</td>\n",
              "      <td>0.004712</td>\n",
              "    </tr>\n",
              "    <tr>\n",
              "      <th>16447</th>\n",
              "      <td>328.94</td>\n",
              "      <td>0.41080</td>\n",
              "      <td>50.00000</td>\n",
              "      <td>0.001571</td>\n",
              "    </tr>\n",
              "  </tbody>\n",
              "</table>\n",
              "</div>"
            ],
            "text/plain": [
              "         time      amp      freq    filtro\n",
              "16443  328.86  0.72716  49.98784  0.014137\n",
              "16444  328.88  0.61736  49.99088  0.010995\n",
              "16445  328.90  0.54991  49.99392  0.007854\n",
              "16446  328.92  0.59976  49.99696  0.004712\n",
              "16447  328.94  0.41080  50.00000  0.001571"
            ]
          },
          "metadata": {
            "tags": []
          },
          "execution_count": 65
        }
      ]
    },
    {
      "cell_type": "code",
      "metadata": {
        "id": "wsPY5C8JK_WL"
      },
      "source": [
        "data['signal_filter']= data['filtro']*data['amp']"
      ],
      "execution_count": 66,
      "outputs": []
    },
    {
      "cell_type": "code",
      "metadata": {
        "id": "NvERW21oVOD2",
        "outputId": "0bc7a706-fcd2-4af4-a546-6461f7f41ffe",
        "colab": {
          "base_uri": "https://localhost:8080/",
          "height": 282
        }
      },
      "source": [
        "plt.plot(data['time'],data['amp'])"
      ],
      "execution_count": 67,
      "outputs": [
        {
          "output_type": "execute_result",
          "data": {
            "text/plain": [
              "[<matplotlib.lines.Line2D at 0x7f2dc6ec1080>]"
            ]
          },
          "metadata": {
            "tags": []
          },
          "execution_count": 67
        },
        {
          "output_type": "display_data",
          "data": {
            "image/png": "[encoded data removed]",
            "text/plain": [
              "<Figure size 432x288 with 1 Axes>"
            ]
          },
          "metadata": {
            "tags": [],
            "needs_background": "light"
          }
        }
      ]
    },
    {
      "cell_type": "code",
      "metadata": {
        "id": "22CSuYzsLBVf",
        "outputId": "e2d29cbb-aeb6-4985-e9a5-de22eaeea5fc",
        "colab": {
          "base_uri": "https://localhost:8080/",
          "height": 282
        }
      },
      "source": [
        "plt.plot(data['time'],data['signal_filter'])"
      ],
      "execution_count": 68,
      "outputs": [
        {
          "output_type": "execute_result",
          "data": {
            "text/plain": [
              "[<matplotlib.lines.Line2D at 0x7f2dc6f1ef28>]"
            ]
          },
          "metadata": {
            "tags": []
          },
          "execution_count": 68
        },
        {
          "output_type": "display_data",
          "data": {
            "image/png": "[encoded data removed]",
            "text/plain": [
              "<Figure size 432x288 with 1 Axes>"
            ]
          },
          "metadata": {
            "tags": [],
            "needs_background": "light"
          }
        }
      ]
    },
    {
      "cell_type": "markdown",
      "metadata": {
        "id": "u-w5jY3eLKfe"
      },
      "source": [
        "# Realizar FT"
      ]
    },
    {
      "cell_type": "code",
      "metadata": {
        "id": "QP34dJx2LJya",
        "outputId": "69671cb9-4336-48c4-df09-00ad1fb8c72d",
        "colab": {
          "base_uri": "https://localhost:8080/",
          "height": 204
        }
      },
      "source": [
        "data['fft']=np.fft.fft(data['signal_filter'])\n",
        "data.head(5)"
      ],
      "execution_count": 69,
      "outputs": [
        {
          "output_type": "execute_result",
          "data": {
            "text/html": [
              "<div>\n",
              "<style scoped>\n",
              "    .dataframe tbody tr th:only-of-type {\n",
              "        vertical-align: middle;\n",
              "    }\n",
              "\n",
              "    .dataframe tbody tr th {\n",
              "        vertical-align: top;\n",
              "    }\n",
              "\n",
              "    .dataframe thead th {\n",
              "        text-align: right;\n",
              "    }\n",
              "</style>\n",
              "<table border=\"1\" class=\"dataframe\">\n",
              "  <thead>\n",
              "    <tr style=\"text-align: right;\">\n",
              "      <th></th>\n",
              "      <th>time</th>\n",
              "      <th>amp</th>\n",
              "      <th>freq</th>\n",
              "      <th>filtro</th>\n",
              "      <th>signal_filter</th>\n",
              "      <th>fft</th>\n",
              "    </tr>\n",
              "  </thead>\n",
              "  <tbody>\n",
              "    <tr>\n",
              "      <th>0</th>\n",
              "      <td>0.00</td>\n",
              "      <td>-0.244690</td>\n",
              "      <td>0.00000</td>\n",
              "      <td>0.001571</td>\n",
              "      <td>-0.000384</td>\n",
              "      <td>13.838794-0.000000j</td>\n",
              "    </tr>\n",
              "    <tr>\n",
              "      <th>1</th>\n",
              "      <td>0.02</td>\n",
              "      <td>0.055570</td>\n",
              "      <td>0.00304</td>\n",
              "      <td>0.004712</td>\n",
              "      <td>0.000262</td>\n",
              "      <td>43.041462+22.215780j</td>\n",
              "    </tr>\n",
              "    <tr>\n",
              "      <th>2</th>\n",
              "      <td>0.04</td>\n",
              "      <td>0.034080</td>\n",
              "      <td>0.00608</td>\n",
              "      <td>0.007854</td>\n",
              "      <td>0.000268</td>\n",
              "      <td>3.100171+29.423475j</td>\n",
              "    </tr>\n",
              "    <tr>\n",
              "      <th>3</th>\n",
              "      <td>0.06</td>\n",
              "      <td>-0.035078</td>\n",
              "      <td>0.00912</td>\n",
              "      <td>0.010995</td>\n",
              "      <td>-0.000386</td>\n",
              "      <td>23.437134+54.915609j</td>\n",
              "    </tr>\n",
              "    <tr>\n",
              "      <th>4</th>\n",
              "      <td>0.08</td>\n",
              "      <td>0.065622</td>\n",
              "      <td>0.01216</td>\n",
              "      <td>0.014137</td>\n",
              "      <td>0.000928</td>\n",
              "      <td>-22.689074+36.965522j</td>\n",
              "    </tr>\n",
              "  </tbody>\n",
              "</table>\n",
              "</div>"
            ],
            "text/plain": [
              "   time       amp     freq    filtro  signal_filter                   fft\n",
              "0  0.00 -0.244690  0.00000  0.001571      -0.000384   13.838794-0.000000j\n",
              "1  0.02  0.055570  0.00304  0.004712       0.000262  43.041462+22.215780j\n",
              "2  0.04  0.034080  0.00608  0.007854       0.000268   3.100171+29.423475j\n",
              "3  0.06 -0.035078  0.00912  0.010995      -0.000386  23.437134+54.915609j\n",
              "4  0.08  0.065622  0.01216  0.014137       0.000928 -22.689074+36.965522j"
            ]
          },
          "metadata": {
            "tags": []
          },
          "execution_count": 69
        }
      ]
    },
    {
      "cell_type": "markdown",
      "metadata": {
        "id": "62mSp0MOLTZM"
      },
      "source": [
        "# Calcular la amplitud de la TF"
      ]
    },
    {
      "cell_type": "code",
      "metadata": {
        "id": "OIw5uq4aLPtG",
        "outputId": "98beb626-184c-489f-c958-f59290314d2c",
        "colab": {
          "base_uri": "https://localhost:8080/",
          "height": 204
        }
      },
      "source": [
        "data['asb']= np.abs(data['fft'])\n",
        "data.head(5)"
      ],
      "execution_count": 70,
      "outputs": [
        {
          "output_type": "execute_result",
          "data": {
            "text/html": [
              "<div>\n",
              "<style scoped>\n",
              "    .dataframe tbody tr th:only-of-type {\n",
              "        vertical-align: middle;\n",
              "    }\n",
              "\n",
              "    .dataframe tbody tr th {\n",
              "        vertical-align: top;\n",
              "    }\n",
              "\n",
              "    .dataframe thead th {\n",
              "        text-align: right;\n",
              "    }\n",
              "</style>\n",
              "<table border=\"1\" class=\"dataframe\">\n",
              "  <thead>\n",
              "    <tr style=\"text-align: right;\">\n",
              "      <th></th>\n",
              "      <th>time</th>\n",
              "      <th>amp</th>\n",
              "      <th>freq</th>\n",
              "      <th>filtro</th>\n",
              "      <th>signal_filter</th>\n",
              "      <th>fft</th>\n",
              "      <th>asb</th>\n",
              "    </tr>\n",
              "  </thead>\n",
              "  <tbody>\n",
              "    <tr>\n",
              "      <th>0</th>\n",
              "      <td>0.00</td>\n",
              "      <td>-0.244690</td>\n",
              "      <td>0.00000</td>\n",
              "      <td>0.001571</td>\n",
              "      <td>-0.000384</td>\n",
              "      <td>13.838794-0.000000j</td>\n",
              "      <td>13.838794</td>\n",
              "    </tr>\n",
              "    <tr>\n",
              "      <th>1</th>\n",
              "      <td>0.02</td>\n",
              "      <td>0.055570</td>\n",
              "      <td>0.00304</td>\n",
              "      <td>0.004712</td>\n",
              "      <td>0.000262</td>\n",
              "      <td>43.041462+22.215780j</td>\n",
              "      <td>48.436642</td>\n",
              "    </tr>\n",
              "    <tr>\n",
              "      <th>2</th>\n",
              "      <td>0.04</td>\n",
              "      <td>0.034080</td>\n",
              "      <td>0.00608</td>\n",
              "      <td>0.007854</td>\n",
              "      <td>0.000268</td>\n",
              "      <td>3.100171+29.423475j</td>\n",
              "      <td>29.586347</td>\n",
              "    </tr>\n",
              "    <tr>\n",
              "      <th>3</th>\n",
              "      <td>0.06</td>\n",
              "      <td>-0.035078</td>\n",
              "      <td>0.00912</td>\n",
              "      <td>0.010995</td>\n",
              "      <td>-0.000386</td>\n",
              "      <td>23.437134+54.915609j</td>\n",
              "      <td>59.707817</td>\n",
              "    </tr>\n",
              "    <tr>\n",
              "      <th>4</th>\n",
              "      <td>0.08</td>\n",
              "      <td>0.065622</td>\n",
              "      <td>0.01216</td>\n",
              "      <td>0.014137</td>\n",
              "      <td>0.000928</td>\n",
              "      <td>-22.689074+36.965522j</td>\n",
              "      <td>43.373308</td>\n",
              "    </tr>\n",
              "  </tbody>\n",
              "</table>\n",
              "</div>"
            ],
            "text/plain": [
              "   time       amp     freq  ...  signal_filter                   fft        asb\n",
              "0  0.00 -0.244690  0.00000  ...      -0.000384   13.838794-0.000000j  13.838794\n",
              "1  0.02  0.055570  0.00304  ...       0.000262  43.041462+22.215780j  48.436642\n",
              "2  0.04  0.034080  0.00608  ...       0.000268   3.100171+29.423475j  29.586347\n",
              "3  0.06 -0.035078  0.00912  ...      -0.000386  23.437134+54.915609j  59.707817\n",
              "4  0.08  0.065622  0.01216  ...       0.000928 -22.689074+36.965522j  43.373308\n",
              "\n",
              "[5 rows x 7 columns]"
            ]
          },
          "metadata": {
            "tags": []
          },
          "execution_count": 70
        }
      ]
    },
    {
      "cell_type": "markdown",
      "metadata": {
        "id": "TeZbO3TPLqq-"
      },
      "source": [
        "# Calcular la fase de la TF"
      ]
    },
    {
      "cell_type": "code",
      "metadata": {
        "id": "mHzQR9f8Lxs7",
        "outputId": "9fbfb812-f114-4dc6-fe9b-2957b5a49d91",
        "colab": {
          "base_uri": "https://localhost:8080/"
        }
      },
      "source": [
        "data['fase'].iloc[0]=0"
      ],
      "execution_count": 72,
      "outputs": [
        {
          "output_type": "stream",
          "text": [
            "/usr/local/lib/python3.6/dist-packages/pandas/core/indexing.py:670: SettingWithCopyWarning: \n",
            "A value is trying to be set on a copy of a slice from a DataFrame\n",
            "\n",
            "See the caveats in the documentation: https://pandas.pydata.org/pandas-docs/stable/user_guide/indexing.html#returning-a-view-versus-a-copy\n",
            "  iloc._setitem_with_indexer(indexer, value)\n"
          ],
          "name": "stderr"
        }
      ]
    },
    {
      "cell_type": "code",
      "metadata": {
        "id": "5bkOkm3nL1qE",
        "outputId": "93b9d569-241c-478b-a2dd-0ffac784664a",
        "colab": {
          "base_uri": "https://localhost:8080/",
          "height": 204
        }
      },
      "source": [
        "data['fase']=np.arctan(data['fft'].values.imag/data['fft'].values.real)\n",
        "data.head(5)"
      ],
      "execution_count": 71,
      "outputs": [
        {
          "output_type": "execute_result",
          "data": {
            "text/html": [
              "<div>\n",
              "<style scoped>\n",
              "    .dataframe tbody tr th:only-of-type {\n",
              "        vertical-align: middle;\n",
              "    }\n",
              "\n",
              "    .dataframe tbody tr th {\n",
              "        vertical-align: top;\n",
              "    }\n",
              "\n",
              "    .dataframe thead th {\n",
              "        text-align: right;\n",
              "    }\n",
              "</style>\n",
              "<table border=\"1\" class=\"dataframe\">\n",
              "  <thead>\n",
              "    <tr style=\"text-align: right;\">\n",
              "      <th></th>\n",
              "      <th>time</th>\n",
              "      <th>amp</th>\n",
              "      <th>freq</th>\n",
              "      <th>filtro</th>\n",
              "      <th>signal_filter</th>\n",
              "      <th>fft</th>\n",
              "      <th>asb</th>\n",
              "      <th>fase</th>\n",
              "    </tr>\n",
              "  </thead>\n",
              "  <tbody>\n",
              "    <tr>\n",
              "      <th>0</th>\n",
              "      <td>0.00</td>\n",
              "      <td>-0.244690</td>\n",
              "      <td>0.00000</td>\n",
              "      <td>0.001571</td>\n",
              "      <td>-0.000384</td>\n",
              "      <td>13.838794-0.000000j</td>\n",
              "      <td>13.838794</td>\n",
              "      <td>-1.026885e-15</td>\n",
              "    </tr>\n",
              "    <tr>\n",
              "      <th>1</th>\n",
              "      <td>0.02</td>\n",
              "      <td>0.055570</td>\n",
              "      <td>0.00304</td>\n",
              "      <td>0.004712</td>\n",
              "      <td>0.000262</td>\n",
              "      <td>43.041462+22.215780j</td>\n",
              "      <td>48.436642</td>\n",
              "      <td>4.764827e-01</td>\n",
              "    </tr>\n",
              "    <tr>\n",
              "      <th>2</th>\n",
              "      <td>0.04</td>\n",
              "      <td>0.034080</td>\n",
              "      <td>0.00608</td>\n",
              "      <td>0.007854</td>\n",
              "      <td>0.000268</td>\n",
              "      <td>3.100171+29.423475j</td>\n",
              "      <td>29.586347</td>\n",
              "      <td>1.465820e+00</td>\n",
              "    </tr>\n",
              "    <tr>\n",
              "      <th>3</th>\n",
              "      <td>0.06</td>\n",
              "      <td>-0.035078</td>\n",
              "      <td>0.00912</td>\n",
              "      <td>0.010995</td>\n",
              "      <td>-0.000386</td>\n",
              "      <td>23.437134+54.915609j</td>\n",
              "      <td>59.707817</td>\n",
              "      <td>1.167415e+00</td>\n",
              "    </tr>\n",
              "    <tr>\n",
              "      <th>4</th>\n",
              "      <td>0.08</td>\n",
              "      <td>0.065622</td>\n",
              "      <td>0.01216</td>\n",
              "      <td>0.014137</td>\n",
              "      <td>0.000928</td>\n",
              "      <td>-22.689074+36.965522j</td>\n",
              "      <td>43.373308</td>\n",
              "      <td>-1.020299e+00</td>\n",
              "    </tr>\n",
              "  </tbody>\n",
              "</table>\n",
              "</div>"
            ],
            "text/plain": [
              "   time       amp     freq  ...                   fft        asb          fase\n",
              "0  0.00 -0.244690  0.00000  ...   13.838794-0.000000j  13.838794 -1.026885e-15\n",
              "1  0.02  0.055570  0.00304  ...  43.041462+22.215780j  48.436642  4.764827e-01\n",
              "2  0.04  0.034080  0.00608  ...   3.100171+29.423475j  29.586347  1.465820e+00\n",
              "3  0.06 -0.035078  0.00912  ...  23.437134+54.915609j  59.707817  1.167415e+00\n",
              "4  0.08  0.065622  0.01216  ... -22.689074+36.965522j  43.373308 -1.020299e+00\n",
              "\n",
              "[5 rows x 8 columns]"
            ]
          },
          "metadata": {
            "tags": []
          },
          "execution_count": 71
        }
      ]
    },
    {
      "cell_type": "code",
      "metadata": {
        "id": "BrbDxKc7L3xq",
        "outputId": "7a4420ac-f240-41d6-ff9b-bc852df7aafc",
        "colab": {
          "base_uri": "https://localhost:8080/",
          "height": 204
        }
      },
      "source": [
        "data.tail()"
      ],
      "execution_count": 49,
      "outputs": [
        {
          "output_type": "execute_result",
          "data": {
            "text/html": [
              "<div>\n",
              "<style scoped>\n",
              "    .dataframe tbody tr th:only-of-type {\n",
              "        vertical-align: middle;\n",
              "    }\n",
              "\n",
              "    .dataframe tbody tr th {\n",
              "        vertical-align: top;\n",
              "    }\n",
              "\n",
              "    .dataframe thead th {\n",
              "        text-align: right;\n",
              "    }\n",
              "</style>\n",
              "<table border=\"1\" class=\"dataframe\">\n",
              "  <thead>\n",
              "    <tr style=\"text-align: right;\">\n",
              "      <th></th>\n",
              "      <th>time</th>\n",
              "      <th>amp</th>\n",
              "      <th>filtro</th>\n",
              "      <th>signal_filter</th>\n",
              "      <th>fft</th>\n",
              "      <th>asb</th>\n",
              "      <th>fase</th>\n",
              "    </tr>\n",
              "  </thead>\n",
              "  <tbody>\n",
              "    <tr>\n",
              "      <th>16443</th>\n",
              "      <td>328.86</td>\n",
              "      <td>0.72716</td>\n",
              "      <td>0.014137</td>\n",
              "      <td>0.010280</td>\n",
              "      <td>-3.885055-59.434760j</td>\n",
              "      <td>59.561601</td>\n",
              "      <td>1.505522</td>\n",
              "    </tr>\n",
              "    <tr>\n",
              "      <th>16444</th>\n",
              "      <td>328.88</td>\n",
              "      <td>0.61736</td>\n",
              "      <td>0.010995</td>\n",
              "      <td>0.006788</td>\n",
              "      <td>-22.689074-36.965522j</td>\n",
              "      <td>43.373308</td>\n",
              "      <td>1.020299</td>\n",
              "    </tr>\n",
              "    <tr>\n",
              "      <th>16445</th>\n",
              "      <td>328.90</td>\n",
              "      <td>0.54991</td>\n",
              "      <td>0.007854</td>\n",
              "      <td>0.004319</td>\n",
              "      <td>23.437134-54.915609j</td>\n",
              "      <td>59.707817</td>\n",
              "      <td>-1.167415</td>\n",
              "    </tr>\n",
              "    <tr>\n",
              "      <th>16446</th>\n",
              "      <td>328.92</td>\n",
              "      <td>0.59976</td>\n",
              "      <td>0.004712</td>\n",
              "      <td>0.002826</td>\n",
              "      <td>3.100171-29.423475j</td>\n",
              "      <td>29.586347</td>\n",
              "      <td>-1.465820</td>\n",
              "    </tr>\n",
              "    <tr>\n",
              "      <th>16447</th>\n",
              "      <td>328.94</td>\n",
              "      <td>0.41080</td>\n",
              "      <td>0.001571</td>\n",
              "      <td>0.000645</td>\n",
              "      <td>43.041462-22.215780j</td>\n",
              "      <td>48.436642</td>\n",
              "      <td>-0.476483</td>\n",
              "    </tr>\n",
              "  </tbody>\n",
              "</table>\n",
              "</div>"
            ],
            "text/plain": [
              "         time      amp    filtro  ...                   fft        asb      fase\n",
              "16443  328.86  0.72716  0.014137  ...  -3.885055-59.434760j  59.561601  1.505522\n",
              "16444  328.88  0.61736  0.010995  ... -22.689074-36.965522j  43.373308  1.020299\n",
              "16445  328.90  0.54991  0.007854  ...  23.437134-54.915609j  59.707817 -1.167415\n",
              "16446  328.92  0.59976  0.004712  ...   3.100171-29.423475j  29.586347 -1.465820\n",
              "16447  328.94  0.41080  0.001571  ...  43.041462-22.215780j  48.436642 -0.476483\n",
              "\n",
              "[5 rows x 7 columns]"
            ]
          },
          "metadata": {
            "tags": []
          },
          "execution_count": 49
        }
      ]
    },
    {
      "cell_type": "markdown",
      "metadata": {
        "id": "DmhJVYr_L_mg"
      },
      "source": [
        "# Señal en el dominio del tiempo"
      ]
    },
    {
      "cell_type": "code",
      "metadata": {
        "id": "6b08c76pMDir"
      },
      "source": [
        "plt.plot(data['time'],data['amp'])"
      ],
      "execution_count": null,
      "outputs": []
    },
    {
      "cell_type": "markdown",
      "metadata": {
        "id": "Z84ZXZqwMR5v"
      },
      "source": [
        "# Señal en el dominio de la frecuencia "
      ]
    },
    {
      "cell_type": "code",
      "metadata": {
        "id": "PjgtgjV1MGVz",
        "outputId": "c6f32d19-d533-4b69-a6ff-3ac03cc0219c",
        "colab": {
          "base_uri": "https://localhost:8080/",
          "height": 282
        }
      },
      "source": [
        "plt.plot(data['time'],data['signal_filter'])"
      ],
      "execution_count": 51,
      "outputs": [
        {
          "output_type": "execute_result",
          "data": {
            "text/plain": [
              "[<matplotlib.lines.Line2D at 0x7f2dc75ea630>]"
            ]
          },
          "metadata": {
            "tags": []
          },
          "execution_count": 51
        },
        {
          "output_type": "display_data",
          "data": {
            "image/png": "[encoded data removed]",
            "text/plain": [
              "<Figure size 432x288 with 1 Axes>"
            ]
          },
          "metadata": {
            "tags": [],
            "needs_background": "light"
          }
        }
      ]
    },
    {
      "cell_type": "markdown",
      "metadata": {
        "id": "J8AAONMUMcp7"
      },
      "source": [
        "# Espectro de Amplitud"
      ]
    },
    {
      "cell_type": "code",
      "metadata": {
        "id": "Oj0tv16AMb02",
        "outputId": "7d635b5c-5f62-44f1-e47a-0cb0b293ce37",
        "colab": {
          "base_uri": "https://localhost:8080/",
          "height": 286
        }
      },
      "source": [
        "plt.loglog(data['freq'],data['asb'])"
      ],
      "execution_count": 74,
      "outputs": [
        {
          "output_type": "execute_result",
          "data": {
            "text/plain": [
              "[<matplotlib.lines.Line2D at 0x7f2dc7222d30>]"
            ]
          },
          "metadata": {
            "tags": []
          },
          "execution_count": 74
        },
        {
          "output_type": "display_data",
          "data": {
            "image/png": "[encoded data removed]",
            "text/plain": [
              "<Figure size 432x288 with 1 Axes>"
            ]
          },
          "metadata": {
            "tags": [],
            "needs_background": "light"
          }
        }
      ]
    },
    {
      "cell_type": "code",
      "metadata": {
        "id": "SoyRM5svP1-R",
        "outputId": "9195ad46-adc1-4144-dfa4-442caa22d973",
        "colab": {
          "base_uri": "https://localhost:8080/",
          "height": 282
        }
      },
      "source": [
        "plt.plot(data['time'],data['asb'])"
      ],
      "execution_count": 55,
      "outputs": [
        {
          "output_type": "execute_result",
          "data": {
            "text/plain": [
              "[<matplotlib.lines.Line2D at 0x7f2dc730a630>]"
            ]
          },
          "metadata": {
            "tags": []
          },
          "execution_count": 55
        },
        {
          "output_type": "display_data",
          "data": {
            "image/png": "[encoded data removed]",
            "text/plain": [
              "<Figure size 432x288 with 1 Axes>"
            ]
          },
          "metadata": {
            "tags": [],
            "needs_background": "light"
          }
        }
      ]
    },
    {
      "cell_type": "markdown",
      "metadata": {
        "id": "ncMMEXSDMi71"
      },
      "source": [
        "# Espectro de Fase"
      ]
    },
    {
      "cell_type": "code",
      "metadata": {
        "id": "NcoXimscMlyn"
      },
      "source": [
        "plt.loglog(data['freq'],data['fase'],'r*')"
      ],
      "execution_count": null,
      "outputs": []
    },
    {
      "cell_type": "code",
      "metadata": {
        "id": "sqZ1VF2IP9Ph"
      },
      "source": [
        "plt.loglog(data['time'],data['fase'])"
      ],
      "execution_count": null,
      "outputs": []
    }
  ]
}