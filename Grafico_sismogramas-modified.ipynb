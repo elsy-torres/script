{
  "nbformat": 4,
  "nbformat_minor": 0,
  "metadata": {
    "colab": {
      "name": "Grafico-sismogramas.ipynb",
      "provenance": [],
      "authorship_tag": "ABX9TyOeVCT1E7KXMVsDqc2o8u1W",
      "include_colab_link": true
    },
    "kernelspec": {
      "name": "python3",
      "display_name": "Python 3"
    }
  },
  "cells": [
    {
      "cell_type": "markdown",
      "metadata": {
        "id": "view-in-github",
        "colab_type": "text"
      },
      "source": [
        "<a href=\"https://colab.research.google.com/github/elsy-torres/script/blob/main/Grafico_sismogramas-modified.ipynb\" target=\"_parent\"><img src=\"https://colab.research.google.com/assets/colab-badge.svg\" alt=\"Open In Colab\"/></a>"
      ]
    },
    {
      "cell_type": "markdown",
      "metadata": {
        "id": "TIUUsSgrLn9m"
      },
      "source": [
        "# SEÑALES SÍSMICAS"
      ]
    },
    {
      "cell_type": "markdown",
      "metadata": {
        "id": "JBUyEtjiLwDU"
      },
      "source": [
        "## Señal sísmica registrada en las 3 componentes(V,N-S,E-W) en la estación MUR"
      ]
    },
    {
      "cell_type": "code",
      "metadata": {
        "id": "oWsn9HPFMJHx"
      },
      "source": [
        "import matplotlib.pyplot as plt\n",
        "import pandas as pd\n",
        "import numpy as np"
      ],
      "execution_count": 5,
      "outputs": []
    },
    {
      "cell_type": "code",
      "metadata": {
        "id": "mpZbV3-3MOyV",
        "outputId": "c272f17b-ff71-4425-9f0c-14e585050054",
        "colab": {
          "base_uri": "https://localhost:8080/",
          "height": 204
        }
      },
      "source": [
        "data=pd.read_csv('MUR_Z.txt',names=['amp_v'],engine='python')\n",
        "data.tail()"
      ],
      "execution_count": 6,
      "outputs": [
        {
          "output_type": "execute_result",
          "data": {
            "text/html": [
              "<div>\n",
              "<style scoped>\n",
              "    .dataframe tbody tr th:only-of-type {\n",
              "        vertical-align: middle;\n",
              "    }\n",
              "\n",
              "    .dataframe tbody tr th {\n",
              "        vertical-align: top;\n",
              "    }\n",
              "\n",
              "    .dataframe thead th {\n",
              "        text-align: right;\n",
              "    }\n",
              "</style>\n",
              "<table border=\"1\" class=\"dataframe\">\n",
              "  <thead>\n",
              "    <tr style=\"text-align: right;\">\n",
              "      <th></th>\n",
              "      <th>amp_v</th>\n",
              "    </tr>\n",
              "  </thead>\n",
              "  <tbody>\n",
              "    <tr>\n",
              "      <th>1195</th>\n",
              "      <td>433</td>\n",
              "    </tr>\n",
              "    <tr>\n",
              "      <th>1196</th>\n",
              "      <td>3032</td>\n",
              "    </tr>\n",
              "    <tr>\n",
              "      <th>1197</th>\n",
              "      <td>887</td>\n",
              "    </tr>\n",
              "    <tr>\n",
              "      <th>1198</th>\n",
              "      <td>-473</td>\n",
              "    </tr>\n",
              "    <tr>\n",
              "      <th>1199</th>\n",
              "      <td>869</td>\n",
              "    </tr>\n",
              "  </tbody>\n",
              "</table>\n",
              "</div>"
            ],
            "text/plain": [
              "      amp_v\n",
              "1195    433\n",
              "1196   3032\n",
              "1197    887\n",
              "1198   -473\n",
              "1199    869"
            ]
          },
          "metadata": {
            "tags": []
          },
          "execution_count": 6
        }
      ]
    },
    {
      "cell_type": "code",
      "metadata": {
        "id": "oBez8oD2UBhS",
        "outputId": "6fa1ac18-bdb9-493a-e31c-d9f87508167a",
        "colab": {
          "base_uri": "https://localhost:8080/",
          "height": 204
        }
      },
      "source": [
        "data['amp_n']=pd.read_csv('MUR_N.txt')\n",
        "data.head()"
      ],
      "execution_count": 7,
      "outputs": [
        {
          "output_type": "execute_result",
          "data": {
            "text/html": [
              "<div>\n",
              "<style scoped>\n",
              "    .dataframe tbody tr th:only-of-type {\n",
              "        vertical-align: middle;\n",
              "    }\n",
              "\n",
              "    .dataframe tbody tr th {\n",
              "        vertical-align: top;\n",
              "    }\n",
              "\n",
              "    .dataframe thead th {\n",
              "        text-align: right;\n",
              "    }\n",
              "</style>\n",
              "<table border=\"1\" class=\"dataframe\">\n",
              "  <thead>\n",
              "    <tr style=\"text-align: right;\">\n",
              "      <th></th>\n",
              "      <th>amp_v</th>\n",
              "      <th>amp_n</th>\n",
              "    </tr>\n",
              "  </thead>\n",
              "  <tbody>\n",
              "    <tr>\n",
              "      <th>0</th>\n",
              "      <td>526</td>\n",
              "      <td>-628.0</td>\n",
              "    </tr>\n",
              "    <tr>\n",
              "      <th>1</th>\n",
              "      <td>615</td>\n",
              "      <td>-538.0</td>\n",
              "    </tr>\n",
              "    <tr>\n",
              "      <th>2</th>\n",
              "      <td>476</td>\n",
              "      <td>-558.0</td>\n",
              "    </tr>\n",
              "    <tr>\n",
              "      <th>3</th>\n",
              "      <td>629</td>\n",
              "      <td>-477.0</td>\n",
              "    </tr>\n",
              "    <tr>\n",
              "      <th>4</th>\n",
              "      <td>556</td>\n",
              "      <td>-556.0</td>\n",
              "    </tr>\n",
              "  </tbody>\n",
              "</table>\n",
              "</div>"
            ],
            "text/plain": [
              "   amp_v  amp_n\n",
              "0    526 -628.0\n",
              "1    615 -538.0\n",
              "2    476 -558.0\n",
              "3    629 -477.0\n",
              "4    556 -556.0"
            ]
          },
          "metadata": {
            "tags": []
          },
          "execution_count": 7
        }
      ]
    },
    {
      "cell_type": "code",
      "metadata": {
        "id": "BgTUMAaJUsko"
      },
      "source": [
        "data['amp_e']=pd.read_csv('MUR_E.txt')"
      ],
      "execution_count": 8,
      "outputs": []
    },
    {
      "cell_type": "code",
      "metadata": {
        "id": "7OHa8HD1U3OF",
        "outputId": "b4ff7e76-cf87-4512-b3d0-52f5e28a21c7",
        "colab": {
          "base_uri": "https://localhost:8080/",
          "height": 204
        }
      },
      "source": [
        "data.head()"
      ],
      "execution_count": 9,
      "outputs": [
        {
          "output_type": "execute_result",
          "data": {
            "text/html": [
              "<div>\n",
              "<style scoped>\n",
              "    .dataframe tbody tr th:only-of-type {\n",
              "        vertical-align: middle;\n",
              "    }\n",
              "\n",
              "    .dataframe tbody tr th {\n",
              "        vertical-align: top;\n",
              "    }\n",
              "\n",
              "    .dataframe thead th {\n",
              "        text-align: right;\n",
              "    }\n",
              "</style>\n",
              "<table border=\"1\" class=\"dataframe\">\n",
              "  <thead>\n",
              "    <tr style=\"text-align: right;\">\n",
              "      <th></th>\n",
              "      <th>amp_v</th>\n",
              "      <th>amp_n</th>\n",
              "      <th>amp_e</th>\n",
              "    </tr>\n",
              "  </thead>\n",
              "  <tbody>\n",
              "    <tr>\n",
              "      <th>0</th>\n",
              "      <td>526</td>\n",
              "      <td>-628.0</td>\n",
              "      <td>75.0</td>\n",
              "    </tr>\n",
              "    <tr>\n",
              "      <th>1</th>\n",
              "      <td>615</td>\n",
              "      <td>-538.0</td>\n",
              "      <td>37.0</td>\n",
              "    </tr>\n",
              "    <tr>\n",
              "      <th>2</th>\n",
              "      <td>476</td>\n",
              "      <td>-558.0</td>\n",
              "      <td>168.0</td>\n",
              "    </tr>\n",
              "    <tr>\n",
              "      <th>3</th>\n",
              "      <td>629</td>\n",
              "      <td>-477.0</td>\n",
              "      <td>23.0</td>\n",
              "    </tr>\n",
              "    <tr>\n",
              "      <th>4</th>\n",
              "      <td>556</td>\n",
              "      <td>-556.0</td>\n",
              "      <td>226.0</td>\n",
              "    </tr>\n",
              "  </tbody>\n",
              "</table>\n",
              "</div>"
            ],
            "text/plain": [
              "   amp_v  amp_n  amp_e\n",
              "0    526 -628.0   75.0\n",
              "1    615 -538.0   37.0\n",
              "2    476 -558.0  168.0\n",
              "3    629 -477.0   23.0\n",
              "4    556 -556.0  226.0"
            ]
          },
          "metadata": {
            "tags": []
          },
          "execution_count": 9
        }
      ]
    },
    {
      "cell_type": "code",
      "metadata": {
        "id": "rFoin4a8NVmo",
        "outputId": "0555a2cf-3c47-472f-c41d-08930ed3bd6e",
        "colab": {
          "base_uri": "https://localhost:8080/",
          "height": 204
        }
      },
      "source": [
        "N=0.025\n",
        "data['time']= np.arange(0,30,N)\n",
        "data.head()\n"
      ],
      "execution_count": 10,
      "outputs": [
        {
          "output_type": "execute_result",
          "data": {
            "text/html": [
              "<div>\n",
              "<style scoped>\n",
              "    .dataframe tbody tr th:only-of-type {\n",
              "        vertical-align: middle;\n",
              "    }\n",
              "\n",
              "    .dataframe tbody tr th {\n",
              "        vertical-align: top;\n",
              "    }\n",
              "\n",
              "    .dataframe thead th {\n",
              "        text-align: right;\n",
              "    }\n",
              "</style>\n",
              "<table border=\"1\" class=\"dataframe\">\n",
              "  <thead>\n",
              "    <tr style=\"text-align: right;\">\n",
              "      <th></th>\n",
              "      <th>amp_v</th>\n",
              "      <th>amp_n</th>\n",
              "      <th>amp_e</th>\n",
              "      <th>time</th>\n",
              "    </tr>\n",
              "  </thead>\n",
              "  <tbody>\n",
              "    <tr>\n",
              "      <th>0</th>\n",
              "      <td>526</td>\n",
              "      <td>-628.0</td>\n",
              "      <td>75.0</td>\n",
              "      <td>0.000</td>\n",
              "    </tr>\n",
              "    <tr>\n",
              "      <th>1</th>\n",
              "      <td>615</td>\n",
              "      <td>-538.0</td>\n",
              "      <td>37.0</td>\n",
              "      <td>0.025</td>\n",
              "    </tr>\n",
              "    <tr>\n",
              "      <th>2</th>\n",
              "      <td>476</td>\n",
              "      <td>-558.0</td>\n",
              "      <td>168.0</td>\n",
              "      <td>0.050</td>\n",
              "    </tr>\n",
              "    <tr>\n",
              "      <th>3</th>\n",
              "      <td>629</td>\n",
              "      <td>-477.0</td>\n",
              "      <td>23.0</td>\n",
              "      <td>0.075</td>\n",
              "    </tr>\n",
              "    <tr>\n",
              "      <th>4</th>\n",
              "      <td>556</td>\n",
              "      <td>-556.0</td>\n",
              "      <td>226.0</td>\n",
              "      <td>0.100</td>\n",
              "    </tr>\n",
              "  </tbody>\n",
              "</table>\n",
              "</div>"
            ],
            "text/plain": [
              "   amp_v  amp_n  amp_e   time\n",
              "0    526 -628.0   75.0  0.000\n",
              "1    615 -538.0   37.0  0.025\n",
              "2    476 -558.0  168.0  0.050\n",
              "3    629 -477.0   23.0  0.075\n",
              "4    556 -556.0  226.0  0.100"
            ]
          },
          "metadata": {
            "tags": []
          },
          "execution_count": 10
        }
      ]
    },
    {
      "cell_type": "code",
      "metadata": {
        "id": "svuc4pPatV8-",
        "outputId": "c10ae1ba-9acb-45b2-8113-d36a5dfdcb38",
        "colab": {
          "base_uri": "https://localhost:8080/",
          "height": 666
        }
      },
      "source": [
        "fig = plt.figure(figsize=(10,10))\n",
        "plt.subplot(311)\n",
        "plt.plot(data['time'][0:5],data['amp_v'][0:5])\n",
        "plt.title('Estación MUR', fontsize=20,fontname='times new roman')\n",
        "plt.legend('Z')\n",
        "plt.subplot(312)\n",
        "plt.plot(data['time'][0:5],data['amp_n'][0:5])\n",
        "plt.ylabel('Desplazamiento (cuentas)', fontsize=16,fontname='times new roman')\n",
        "plt.legend('N')\n",
        "plt.subplot(313)\n",
        "plt.plot(data['time'][0:5],data['amp_e'][0:5])\n",
        "\n",
        "plt.xlabel('Tiempo (segundos)', fontsize=16,fontname='times new roman')\n",
        "plt.legend('E')\n",
        "\n",
        "_ = plt.show()"
      ],
      "execution_count": 11,
      "outputs": [
        {
          "output_type": "stream",
          "text": [
            "findfont: Font family ['times new roman'] not found. Falling back to DejaVu Sans.\n",
            "findfont: Font family ['times new roman'] not found. Falling back to DejaVu Sans.\n"
          ],
          "name": "stderr"
        },
        {
          "output_type": "display_data",
          "data": {
            "image/png": "[encoded data removed]",
            "text/plain": [
              "<Figure size 720x720 with 3 Axes>"
            ]
          },
          "metadata": {
            "tags": [],
            "needs_background": "light"
          }
        }
      ]
    },
    {
      "cell_type": "markdown",
      "metadata": {
        "id": "FA8PTYLI_F8a"
      },
      "source": [
        ""
      ]
    },
    {
      "cell_type": "markdown",
      "metadata": {
        "id": "i_fBEPDrV2cv"
      },
      "source": [
        "## Señal sísmica registrada en las 3 componentes en la estación PLM"
      ]
    },
    {
      "cell_type": "code",
      "metadata": {
        "id": "s_ZJX18hYQDu",
        "outputId": "8a4dd40c-f245-45ee-cf72-75301f3e4d75",
        "colab": {
          "base_uri": "https://localhost:8080/",
          "height": 204
        }
      },
      "source": [
        "data_1=pd.read_csv('PLM_Z.txt', names=['amp_v'],engine='python')\n",
        "data_1.tail()"
      ],
      "execution_count": 12,
      "outputs": [
        {
          "output_type": "execute_result",
          "data": {
            "text/html": [
              "<div>\n",
              "<style scoped>\n",
              "    .dataframe tbody tr th:only-of-type {\n",
              "        vertical-align: middle;\n",
              "    }\n",
              "\n",
              "    .dataframe tbody tr th {\n",
              "        vertical-align: top;\n",
              "    }\n",
              "\n",
              "    .dataframe thead th {\n",
              "        text-align: right;\n",
              "    }\n",
              "</style>\n",
              "<table border=\"1\" class=\"dataframe\">\n",
              "  <thead>\n",
              "    <tr style=\"text-align: right;\">\n",
              "      <th></th>\n",
              "      <th>amp_v</th>\n",
              "    </tr>\n",
              "  </thead>\n",
              "  <tbody>\n",
              "    <tr>\n",
              "      <th>1195</th>\n",
              "      <td>1467</td>\n",
              "    </tr>\n",
              "    <tr>\n",
              "      <th>1196</th>\n",
              "      <td>1462</td>\n",
              "    </tr>\n",
              "    <tr>\n",
              "      <th>1197</th>\n",
              "      <td>541</td>\n",
              "    </tr>\n",
              "    <tr>\n",
              "      <th>1198</th>\n",
              "      <td>374</td>\n",
              "    </tr>\n",
              "    <tr>\n",
              "      <th>1199</th>\n",
              "      <td>188</td>\n",
              "    </tr>\n",
              "  </tbody>\n",
              "</table>\n",
              "</div>"
            ],
            "text/plain": [
              "      amp_v\n",
              "1195   1467\n",
              "1196   1462\n",
              "1197    541\n",
              "1198    374\n",
              "1199    188"
            ]
          },
          "metadata": {
            "tags": []
          },
          "execution_count": 12
        }
      ]
    },
    {
      "cell_type": "code",
      "metadata": {
        "id": "rr8juJzBaOwE",
        "outputId": "5c111fc3-4706-45a2-a0cf-1bd800dd2e1a",
        "colab": {
          "base_uri": "https://localhost:8080/",
          "height": 204
        }
      },
      "source": [
        "data_1['amp_n']=pd.read_csv('PLM_N.txt')\n",
        "data_1.head()"
      ],
      "execution_count": 13,
      "outputs": [
        {
          "output_type": "execute_result",
          "data": {
            "text/html": [
              "<div>\n",
              "<style scoped>\n",
              "    .dataframe tbody tr th:only-of-type {\n",
              "        vertical-align: middle;\n",
              "    }\n",
              "\n",
              "    .dataframe tbody tr th {\n",
              "        vertical-align: top;\n",
              "    }\n",
              "\n",
              "    .dataframe thead th {\n",
              "        text-align: right;\n",
              "    }\n",
              "</style>\n",
              "<table border=\"1\" class=\"dataframe\">\n",
              "  <thead>\n",
              "    <tr style=\"text-align: right;\">\n",
              "      <th></th>\n",
              "      <th>amp_v</th>\n",
              "      <th>amp_n</th>\n",
              "    </tr>\n",
              "  </thead>\n",
              "  <tbody>\n",
              "    <tr>\n",
              "      <th>0</th>\n",
              "      <td>1043</td>\n",
              "      <td>1710.0</td>\n",
              "    </tr>\n",
              "    <tr>\n",
              "      <th>1</th>\n",
              "      <td>1033</td>\n",
              "      <td>1735.0</td>\n",
              "    </tr>\n",
              "    <tr>\n",
              "      <th>2</th>\n",
              "      <td>1049</td>\n",
              "      <td>1697.0</td>\n",
              "    </tr>\n",
              "    <tr>\n",
              "      <th>3</th>\n",
              "      <td>1004</td>\n",
              "      <td>1693.0</td>\n",
              "    </tr>\n",
              "    <tr>\n",
              "      <th>4</th>\n",
              "      <td>1010</td>\n",
              "      <td>1660.0</td>\n",
              "    </tr>\n",
              "  </tbody>\n",
              "</table>\n",
              "</div>"
            ],
            "text/plain": [
              "   amp_v   amp_n\n",
              "0   1043  1710.0\n",
              "1   1033  1735.0\n",
              "2   1049  1697.0\n",
              "3   1004  1693.0\n",
              "4   1010  1660.0"
            ]
          },
          "metadata": {
            "tags": []
          },
          "execution_count": 13
        }
      ]
    },
    {
      "cell_type": "code",
      "metadata": {
        "id": "0fMF7P3Pbkq0"
      },
      "source": [
        "data_1['amp_e']=pd.read_csv('PLM_E.txt')"
      ],
      "execution_count": 14,
      "outputs": []
    },
    {
      "cell_type": "code",
      "metadata": {
        "id": "4KFlpcZNXRBV",
        "outputId": "04d35c70-cab4-4ecc-f2fb-37258ab32ca0",
        "colab": {
          "base_uri": "https://localhost:8080/",
          "height": 204
        }
      },
      "source": [
        "data_1['time']= data['time']\n",
        "data_1.head()\n"
      ],
      "execution_count": 15,
      "outputs": [
        {
          "output_type": "execute_result",
          "data": {
            "text/html": [
              "<div>\n",
              "<style scoped>\n",
              "    .dataframe tbody tr th:only-of-type {\n",
              "        vertical-align: middle;\n",
              "    }\n",
              "\n",
              "    .dataframe tbody tr th {\n",
              "        vertical-align: top;\n",
              "    }\n",
              "\n",
              "    .dataframe thead th {\n",
              "        text-align: right;\n",
              "    }\n",
              "</style>\n",
              "<table border=\"1\" class=\"dataframe\">\n",
              "  <thead>\n",
              "    <tr style=\"text-align: right;\">\n",
              "      <th></th>\n",
              "      <th>amp_v</th>\n",
              "      <th>amp_n</th>\n",
              "      <th>amp_e</th>\n",
              "      <th>time</th>\n",
              "    </tr>\n",
              "  </thead>\n",
              "  <tbody>\n",
              "    <tr>\n",
              "      <th>0</th>\n",
              "      <td>1043</td>\n",
              "      <td>1710.0</td>\n",
              "      <td>1266.0</td>\n",
              "      <td>0.000</td>\n",
              "    </tr>\n",
              "    <tr>\n",
              "      <th>1</th>\n",
              "      <td>1033</td>\n",
              "      <td>1735.0</td>\n",
              "      <td>1268.0</td>\n",
              "      <td>0.025</td>\n",
              "    </tr>\n",
              "    <tr>\n",
              "      <th>2</th>\n",
              "      <td>1049</td>\n",
              "      <td>1697.0</td>\n",
              "      <td>1238.0</td>\n",
              "      <td>0.050</td>\n",
              "    </tr>\n",
              "    <tr>\n",
              "      <th>3</th>\n",
              "      <td>1004</td>\n",
              "      <td>1693.0</td>\n",
              "      <td>1233.0</td>\n",
              "      <td>0.075</td>\n",
              "    </tr>\n",
              "    <tr>\n",
              "      <th>4</th>\n",
              "      <td>1010</td>\n",
              "      <td>1660.0</td>\n",
              "      <td>1223.0</td>\n",
              "      <td>0.100</td>\n",
              "    </tr>\n",
              "  </tbody>\n",
              "</table>\n",
              "</div>"
            ],
            "text/plain": [
              "   amp_v   amp_n   amp_e   time\n",
              "0   1043  1710.0  1266.0  0.000\n",
              "1   1033  1735.0  1268.0  0.025\n",
              "2   1049  1697.0  1238.0  0.050\n",
              "3   1004  1693.0  1233.0  0.075\n",
              "4   1010  1660.0  1223.0  0.100"
            ]
          },
          "metadata": {
            "tags": []
          },
          "execution_count": 15
        }
      ]
    },
    {
      "cell_type": "code",
      "metadata": {
        "id": "jSH4i5Xus_7H",
        "outputId": "f1d7947b-4cd4-4d86-afae-9054e4abc324",
        "colab": {
          "base_uri": "https://localhost:8080/",
          "height": 622
        }
      },
      "source": [
        "fig = plt.figure(figsize=(10,10))\n",
        "plt.subplot(311)\n",
        "plt.plot(data_1['time'],data_1['amp_v'])\n",
        "plt.title('Estación PLM', fontsize=20,fontname='times new roman')\n",
        "plt.legend('Z')\n",
        "plt.subplot(312)\n",
        "plt.plot(data_1['time'],data_1['amp_n'])\n",
        "plt.ylabel('Desplazamiento (cuentas)', fontsize=16,fontname='times new roman')\n",
        "plt.legend('N')\n",
        "plt.subplot(313)\n",
        "plt.plot(data_1['time'],data_1['amp_e'])\n",
        "\n",
        "plt.xlabel('Tiempo (segundos)', fontsize=16,fontname='times new roman')\n",
        "plt.legend('E')\n",
        "\n",
        "_ = plt.show()"
      ],
      "execution_count": 16,
      "outputs": [
        {
          "output_type": "display_data",
          "data": {
            "image/png": "[encoded data removed]",
            "text/plain": [
              "<Figure size 720x720 with 3 Axes>"
            ]
          },
          "metadata": {
            "tags": [],
            "needs_background": "light"
          }
        }
      ]
    },
    {
      "cell_type": "markdown",
      "metadata": {
        "id": "WAq0_zdLfCBu"
      },
      "source": [
        "## Señal sísmica registrada en las 3 componentes en la estación SVD"
      ]
    },
    {
      "cell_type": "markdown",
      "metadata": {
        "id": "9mQ8xJT6tjtC"
      },
      "source": [
        ""
      ]
    },
    {
      "cell_type": "code",
      "metadata": {
        "id": "wAa8GGAnc2rZ",
        "outputId": "cd316174-4958-430d-de2f-b0832c99726e",
        "colab": {
          "base_uri": "https://localhost:8080/",
          "height": 204
        }
      },
      "source": [
        "data_2=pd.read_csv('SVD_Z.txt', names=['amp_v'],engine='python')\n",
        "data_2.tail()"
      ],
      "execution_count": 17,
      "outputs": [
        {
          "output_type": "execute_result",
          "data": {
            "text/html": [
              "<div>\n",
              "<style scoped>\n",
              "    .dataframe tbody tr th:only-of-type {\n",
              "        vertical-align: middle;\n",
              "    }\n",
              "\n",
              "    .dataframe tbody tr th {\n",
              "        vertical-align: top;\n",
              "    }\n",
              "\n",
              "    .dataframe thead th {\n",
              "        text-align: right;\n",
              "    }\n",
              "</style>\n",
              "<table border=\"1\" class=\"dataframe\">\n",
              "  <thead>\n",
              "    <tr style=\"text-align: right;\">\n",
              "      <th></th>\n",
              "      <th>amp_v</th>\n",
              "    </tr>\n",
              "  </thead>\n",
              "  <tbody>\n",
              "    <tr>\n",
              "      <th>1195</th>\n",
              "      <td>1174</td>\n",
              "    </tr>\n",
              "    <tr>\n",
              "      <th>1196</th>\n",
              "      <td>2647</td>\n",
              "    </tr>\n",
              "    <tr>\n",
              "      <th>1197</th>\n",
              "      <td>467</td>\n",
              "    </tr>\n",
              "    <tr>\n",
              "      <th>1198</th>\n",
              "      <td>-2263</td>\n",
              "    </tr>\n",
              "    <tr>\n",
              "      <th>1199</th>\n",
              "      <td>-1356</td>\n",
              "    </tr>\n",
              "  </tbody>\n",
              "</table>\n",
              "</div>"
            ],
            "text/plain": [
              "      amp_v\n",
              "1195   1174\n",
              "1196   2647\n",
              "1197    467\n",
              "1198  -2263\n",
              "1199  -1356"
            ]
          },
          "metadata": {
            "tags": []
          },
          "execution_count": 17
        }
      ]
    },
    {
      "cell_type": "code",
      "metadata": {
        "id": "hI9LW_RMCzqB",
        "outputId": "0d18c56f-5c26-463e-d4bc-f1ee2a3eccaf",
        "colab": {
          "base_uri": "https://localhost:8080/"
        }
      },
      "source": [
        "len(data)\n",
        "print(len)"
      ],
      "execution_count": 18,
      "outputs": [
        {
          "output_type": "stream",
          "text": [
            "<built-in function len>\n"
          ],
          "name": "stdout"
        }
      ]
    },
    {
      "cell_type": "code",
      "metadata": {
        "id": "6zlO8dozdIYN",
        "outputId": "18a17a23-7fb1-43aa-967f-3405ae0c623b",
        "colab": {
          "base_uri": "https://localhost:8080/",
          "height": 204
        }
      },
      "source": [
        "data_2['amp_n']=pd.read_csv('SVD_N.txt')\n",
        "data_2.head()"
      ],
      "execution_count": 19,
      "outputs": [
        {
          "output_type": "execute_result",
          "data": {
            "text/html": [
              "<div>\n",
              "<style scoped>\n",
              "    .dataframe tbody tr th:only-of-type {\n",
              "        vertical-align: middle;\n",
              "    }\n",
              "\n",
              "    .dataframe tbody tr th {\n",
              "        vertical-align: top;\n",
              "    }\n",
              "\n",
              "    .dataframe thead th {\n",
              "        text-align: right;\n",
              "    }\n",
              "</style>\n",
              "<table border=\"1\" class=\"dataframe\">\n",
              "  <thead>\n",
              "    <tr style=\"text-align: right;\">\n",
              "      <th></th>\n",
              "      <th>amp_v</th>\n",
              "      <th>amp_n</th>\n",
              "    </tr>\n",
              "  </thead>\n",
              "  <tbody>\n",
              "    <tr>\n",
              "      <th>0</th>\n",
              "      <td>509</td>\n",
              "      <td>-955.0</td>\n",
              "    </tr>\n",
              "    <tr>\n",
              "      <th>1</th>\n",
              "      <td>398</td>\n",
              "      <td>-1316.0</td>\n",
              "    </tr>\n",
              "    <tr>\n",
              "      <th>2</th>\n",
              "      <td>138</td>\n",
              "      <td>-1116.0</td>\n",
              "    </tr>\n",
              "    <tr>\n",
              "      <th>3</th>\n",
              "      <td>165</td>\n",
              "      <td>-776.0</td>\n",
              "    </tr>\n",
              "    <tr>\n",
              "      <th>4</th>\n",
              "      <td>270</td>\n",
              "      <td>-730.0</td>\n",
              "    </tr>\n",
              "  </tbody>\n",
              "</table>\n",
              "</div>"
            ],
            "text/plain": [
              "   amp_v   amp_n\n",
              "0    509  -955.0\n",
              "1    398 -1316.0\n",
              "2    138 -1116.0\n",
              "3    165  -776.0\n",
              "4    270  -730.0"
            ]
          },
          "metadata": {
            "tags": []
          },
          "execution_count": 19
        }
      ]
    },
    {
      "cell_type": "code",
      "metadata": {
        "id": "IB9iN6SwdQ9Y",
        "outputId": "78e5e864-0593-4f4a-fbd5-4ab33b6a886d",
        "colab": {
          "base_uri": "https://localhost:8080/",
          "height": 204
        }
      },
      "source": [
        "data_2['amp_e']=pd.read_csv('SVD_E.txt')\n",
        "data_2.head()"
      ],
      "execution_count": 20,
      "outputs": [
        {
          "output_type": "execute_result",
          "data": {
            "text/html": [
              "<div>\n",
              "<style scoped>\n",
              "    .dataframe tbody tr th:only-of-type {\n",
              "        vertical-align: middle;\n",
              "    }\n",
              "\n",
              "    .dataframe tbody tr th {\n",
              "        vertical-align: top;\n",
              "    }\n",
              "\n",
              "    .dataframe thead th {\n",
              "        text-align: right;\n",
              "    }\n",
              "</style>\n",
              "<table border=\"1\" class=\"dataframe\">\n",
              "  <thead>\n",
              "    <tr style=\"text-align: right;\">\n",
              "      <th></th>\n",
              "      <th>amp_v</th>\n",
              "      <th>amp_n</th>\n",
              "      <th>amp_e</th>\n",
              "    </tr>\n",
              "  </thead>\n",
              "  <tbody>\n",
              "    <tr>\n",
              "      <th>0</th>\n",
              "      <td>509</td>\n",
              "      <td>-955.0</td>\n",
              "      <td>1618.0</td>\n",
              "    </tr>\n",
              "    <tr>\n",
              "      <th>1</th>\n",
              "      <td>398</td>\n",
              "      <td>-1316.0</td>\n",
              "      <td>1363.0</td>\n",
              "    </tr>\n",
              "    <tr>\n",
              "      <th>2</th>\n",
              "      <td>138</td>\n",
              "      <td>-1116.0</td>\n",
              "      <td>1465.0</td>\n",
              "    </tr>\n",
              "    <tr>\n",
              "      <th>3</th>\n",
              "      <td>165</td>\n",
              "      <td>-776.0</td>\n",
              "      <td>1469.0</td>\n",
              "    </tr>\n",
              "    <tr>\n",
              "      <th>4</th>\n",
              "      <td>270</td>\n",
              "      <td>-730.0</td>\n",
              "      <td>1534.0</td>\n",
              "    </tr>\n",
              "  </tbody>\n",
              "</table>\n",
              "</div>"
            ],
            "text/plain": [
              "   amp_v   amp_n   amp_e\n",
              "0    509  -955.0  1618.0\n",
              "1    398 -1316.0  1363.0\n",
              "2    138 -1116.0  1465.0\n",
              "3    165  -776.0  1469.0\n",
              "4    270  -730.0  1534.0"
            ]
          },
          "metadata": {
            "tags": []
          },
          "execution_count": 20
        }
      ]
    },
    {
      "cell_type": "code",
      "metadata": {
        "id": "dDbeW6Ugdg1D",
        "outputId": "dbee3524-cac7-45d9-a96d-3f10645d6481",
        "colab": {
          "base_uri": "https://localhost:8080/",
          "height": 204
        }
      },
      "source": [
        "data_2['time']=data['time']\n",
        "data_2.tail()"
      ],
      "execution_count": 21,
      "outputs": [
        {
          "output_type": "execute_result",
          "data": {
            "text/html": [
              "<div>\n",
              "<style scoped>\n",
              "    .dataframe tbody tr th:only-of-type {\n",
              "        vertical-align: middle;\n",
              "    }\n",
              "\n",
              "    .dataframe tbody tr th {\n",
              "        vertical-align: top;\n",
              "    }\n",
              "\n",
              "    .dataframe thead th {\n",
              "        text-align: right;\n",
              "    }\n",
              "</style>\n",
              "<table border=\"1\" class=\"dataframe\">\n",
              "  <thead>\n",
              "    <tr style=\"text-align: right;\">\n",
              "      <th></th>\n",
              "      <th>amp_v</th>\n",
              "      <th>amp_n</th>\n",
              "      <th>amp_e</th>\n",
              "      <th>time</th>\n",
              "    </tr>\n",
              "  </thead>\n",
              "  <tbody>\n",
              "    <tr>\n",
              "      <th>1195</th>\n",
              "      <td>1174</td>\n",
              "      <td>-18.0</td>\n",
              "      <td>7273.0</td>\n",
              "      <td>29.875</td>\n",
              "    </tr>\n",
              "    <tr>\n",
              "      <th>1196</th>\n",
              "      <td>2647</td>\n",
              "      <td>-3773.0</td>\n",
              "      <td>4139.0</td>\n",
              "      <td>29.900</td>\n",
              "    </tr>\n",
              "    <tr>\n",
              "      <th>1197</th>\n",
              "      <td>467</td>\n",
              "      <td>-5810.0</td>\n",
              "      <td>919.0</td>\n",
              "      <td>29.925</td>\n",
              "    </tr>\n",
              "    <tr>\n",
              "      <th>1198</th>\n",
              "      <td>-2263</td>\n",
              "      <td>-4743.0</td>\n",
              "      <td>1409.0</td>\n",
              "      <td>29.950</td>\n",
              "    </tr>\n",
              "    <tr>\n",
              "      <th>1199</th>\n",
              "      <td>-1356</td>\n",
              "      <td>NaN</td>\n",
              "      <td>NaN</td>\n",
              "      <td>29.975</td>\n",
              "    </tr>\n",
              "  </tbody>\n",
              "</table>\n",
              "</div>"
            ],
            "text/plain": [
              "      amp_v   amp_n   amp_e    time\n",
              "1195   1174   -18.0  7273.0  29.875\n",
              "1196   2647 -3773.0  4139.0  29.900\n",
              "1197    467 -5810.0   919.0  29.925\n",
              "1198  -2263 -4743.0  1409.0  29.950\n",
              "1199  -1356     NaN     NaN  29.975"
            ]
          },
          "metadata": {
            "tags": []
          },
          "execution_count": 21
        }
      ]
    },
    {
      "cell_type": "code",
      "metadata": {
        "id": "_z9o6r6rs6KM",
        "outputId": "63be1810-142b-42f6-8055-a01d98606bd6",
        "colab": {
          "base_uri": "https://localhost:8080/",
          "height": 632
        }
      },
      "source": [
        "fig = plt.figure(figsize=(10,10))\n",
        "plt.subplot(311)\n",
        "plt.plot(data_2['time'],data_2['amp_v'])\n",
        "plt.title('Estación SVD', fontsize=20,fontname='times new roman')\n",
        "plt.legend('Z')\n",
        "plt.subplot(312)\n",
        "plt.plot(data_2['time'],data_2['amp_n'])\n",
        "plt.ylabel('Desplazamiento (cuentas)', fontsize=16,fontname='times new roman')\n",
        "plt.legend('N')\n",
        "plt.subplot(313)\n",
        "plt.plot(data_2['time'],data_2['amp_e'])\n",
        "\n",
        "plt.xlabel('Tiempo (segundos)', fontsize=16,fontname='times new roman')\n",
        "plt.legend('E')\n",
        "\n",
        "_ = plt.show()"
      ],
      "execution_count": 22,
      "outputs": [
        {
          "output_type": "display_data",
          "data": {
            "image/png": "[encoded data removed]",
            "text/plain": [
              "<Figure size 720x720 with 3 Axes>"
            ]
          },
          "metadata": {
            "tags": [],
            "needs_background": "light"
          }
        }
      ]
    },
    {
      "cell_type": "markdown",
      "metadata": {
        "id": "5biyZL6M_Ixy"
      },
      "source": [
        "## Travel time"
      ]
    },
    {
      "cell_type": "code",
      "metadata": {
        "id": "NG6X3XQo_LEO",
        "outputId": "6c5632bd-36f4-484c-bdd9-a8e7a6473fe9",
        "colab": {
          "base_uri": "https://localhost:8080/",
          "height": 173
        }
      },
      "source": [
        "table=pd.read_csv('station.csv',names=['station','tp','ts','s-p','D'],skiprows=6,sep=',',engine='python')\n",
        "table.head()"
      ],
      "execution_count": 47,
      "outputs": [
        {
          "output_type": "execute_result",
          "data": {
            "text/html": [
              "<div>\n",
              "<style scoped>\n",
              "    .dataframe tbody tr th:only-of-type {\n",
              "        vertical-align: middle;\n",
              "    }\n",
              "\n",
              "    .dataframe tbody tr th {\n",
              "        vertical-align: top;\n",
              "    }\n",
              "\n",
              "    .dataframe thead th {\n",
              "        text-align: right;\n",
              "    }\n",
              "</style>\n",
              "<table border=\"1\" class=\"dataframe\">\n",
              "  <thead>\n",
              "    <tr style=\"text-align: right;\">\n",
              "      <th></th>\n",
              "      <th>station</th>\n",
              "      <th>tp</th>\n",
              "      <th>ts</th>\n",
              "      <th>s-p</th>\n",
              "      <th>D</th>\n",
              "    </tr>\n",
              "  </thead>\n",
              "  <tbody>\n",
              "    <tr>\n",
              "      <th>0</th>\n",
              "      <td>MUR</td>\n",
              "      <td>5</td>\n",
              "      <td>8.75</td>\n",
              "      <td>3.75</td>\n",
              "      <td>30</td>\n",
              "    </tr>\n",
              "    <tr>\n",
              "      <th>1</th>\n",
              "      <td>SVD</td>\n",
              "      <td>6</td>\n",
              "      <td>10.50</td>\n",
              "      <td>4.50</td>\n",
              "      <td>36</td>\n",
              "    </tr>\n",
              "    <tr>\n",
              "      <th>2</th>\n",
              "      <td>PLM</td>\n",
              "      <td>8</td>\n",
              "      <td>13.75</td>\n",
              "      <td>5.75</td>\n",
              "      <td>46</td>\n",
              "    </tr>\n",
              "    <tr>\n",
              "      <th>3</th>\n",
              "      <td>origen</td>\n",
              "      <td>0</td>\n",
              "      <td>0.00</td>\n",
              "      <td>0.00</td>\n",
              "      <td>0</td>\n",
              "    </tr>\n",
              "  </tbody>\n",
              "</table>\n",
              "</div>"
            ],
            "text/plain": [
              "  station  tp     ts   s-p   D\n",
              "0     MUR   5   8.75  3.75  30\n",
              "1     SVD   6  10.50  4.50  36\n",
              "2     PLM   8  13.75  5.75  46\n",
              "3  origen   0   0.00  0.00   0"
            ]
          },
          "metadata": {
            "tags": []
          },
          "execution_count": 47
        }
      ]
    },
    {
      "cell_type": "markdown",
      "metadata": {
        "id": "tztY6fiJLJG6"
      },
      "source": [
        "## Curva de tiempo de viaje"
      ]
    },
    {
      "cell_type": "code",
      "metadata": {
        "id": "W3s2Uws-Oj-H",
        "outputId": "cd3d5ff0-3313-4771-8730-908f5ac54740",
        "colab": {
          "base_uri": "https://localhost:8080/"
        }
      },
      "source": [
        "#valores de P\n",
        "m,b_0 = np.polyfit(table['tp'],table['D'],deg = 1)\n",
        "print(\"m:{}\\t b:{}\".format(m,b_0))"
      ],
      "execution_count": 59,
      "outputs": [
        {
          "output_type": "stream",
          "text": [
            "m:5.812949640287769\t b:0.3884892086330923\n"
          ],
          "name": "stdout"
        }
      ]
    },
    {
      "cell_type": "code",
      "metadata": {
        "id": "vWu4oyC_Qadw"
      },
      "source": [
        "x_r=np.array([table['tp'].min(),table['tp'].max()])\n",
        "y_r=m*x_r+b_0\n"
      ],
      "execution_count": 60,
      "outputs": []
    },
    {
      "cell_type": "code",
      "metadata": {
        "id": "781tdswkSTJN"
      },
      "source": [
        "#valores de S\n",
        "m_1,b_1=np.polyfit(table['ts'],table['D'],deg=1)"
      ],
      "execution_count": 66,
      "outputs": []
    },
    {
      "cell_type": "code",
      "metadata": {
        "id": "De94wDFOTB43",
        "outputId": "0b09141d-932e-4de0-b51d-f539911fe005",
        "colab": {
          "base_uri": "https://localhost:8080/"
        }
      },
      "source": [
        "x_z=np.array([table['ts'].min(),table['ts'].max()])\n",
        "y_z=m_1*x_z+b_1\n",
        "print(\"m:{}\\t b:{}\".format(m_1,b_1))"
      ],
      "execution_count": 67,
      "outputs": [
        {
          "output_type": "stream",
          "text": [
            "m:3.367913148371532\t b:0.21471652593486856\n"
          ],
          "name": "stdout"
        }
      ]
    },
    {
      "cell_type": "code",
      "metadata": {
        "id": "WpQ3BnXBO5fP",
        "outputId": "e139e091-6079-4913-cec8-223d3f621954",
        "colab": {
          "base_uri": "https://localhost:8080/",
          "height": 414
        }
      },
      "source": [
        "\n",
        "fig=plt.figure(figsize=(6,6))\n",
        "plt.scatter(table['tp'],table['D'],c='r',linewidths=2)\n",
        "plt.scatter(table['ts'],table['D'],c='m',linewidths=2)\n",
        "plt.plot(x_r,y_r)\n",
        "plt.plot(x_z,y_z)\n",
        "plt.grid()\n",
        "plt.title('Curva de tiempo de viaje', fontsize=20,fontname='times new roman')\n",
        "plt.xlabel('Tiempo de arribo (segundo)', fontsize=16,fontname='times new roman')\n",
        "plt.ylabel('Distancia epicentral (km)', fontsize=16,fontname='times new roman')\n",
        "_=plt.show()"
      ],
      "execution_count": 71,
      "outputs": [
        {
          "output_type": "display_data",
          "data": {
            "image/png": "[encoded data removed]",
            "text/plain": [
              "<Figure size 432x432 with 1 Axes>"
            ]
          },
          "metadata": {
            "tags": [],
            "needs_background": "light"
          }
        }
      ]
    }
  ]
}