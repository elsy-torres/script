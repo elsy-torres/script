{
  "nbformat": 4,
  "nbformat_minor": 0,
  "metadata": {
    "colab": {
      "name": "Untitled0.ipynb",
      "provenance": [],
      "toc_visible": true,
      "authorship_tag": "ABX9TyMh1GlJuO+wAO40IGvAJgQM",
      "include_colab_link": true
    },
    "kernelspec": {
      "name": "python3",
      "display_name": "Python 3"
    }
  },
  "cells": [
    {
      "cell_type": "markdown",
      "metadata": {
        "id": "view-in-github",
        "colab_type": "text"
      },
      "source": [
        "<a href=\"https://colab.research.google.com/github/elsy-torres/script/blob/main/transformada-01-fallida.ipynb\" target=\"_parent\"><img src=\"https://colab.research.google.com/assets/colab-badge.svg\" alt=\"Open In Colab\"/></a>"
      ]
    },
    {
      "cell_type": "markdown",
      "metadata": {
        "id": "bc5etjRhJT2s"
      },
      "source": [
        "# INTRODUCCIÓN A LA TRANSFORMADA DE FOURIER\n"
      ]
    },
    {
      "cell_type": "code",
      "metadata": {
        "id": "1KT_p3Q--RHk",
        "outputId": "3c1eb231-bec8-4be2-ff38-6103d02a785d",
        "colab": {
          "base_uri": "https://localhost:8080/"
        }
      },
      "source": [
        "import numpy as np\n",
        "import matplotlib.pyplot as plt\n",
        "\n",
        "t=np.arange(256)\n",
        "sp=np.fft.fft(np.sin(t))\n",
        "print(sp)"
      ],
      "execution_count": 25,
      "outputs": [
        {
          "output_type": "stream",
          "text": [
            "[ 1.45126613e+00+0.00000000e+00j  1.45189004e+00+2.66891368e-02j\n",
            "  1.45376631e+00+5.34673357e-02j  1.45690866e+00+8.04247362e-02j\n",
            "  1.46134019e+00+1.07653659e-01j  1.46709386e+00+1.35249768e-01j\n",
            "  1.47421310e+00+1.63313315e-01j  1.48275261e+00+1.91950518e-01j\n",
            "  1.49277947e+00+2.21275087e-01j  1.50437447e+00+2.51409977e-01j\n",
            "  1.51763382e+00+2.82489403e-01j  1.53267128e+00+3.14661208e-01j\n",
            "  1.54962069e+00+3.48089662e-01j  1.56863925e+00+3.82958819e-01j\n",
            "  1.58991146e+00+4.19476588e-01j  1.61365410e+00+4.57879702e-01j\n",
            "  1.64012240e+00+4.98439862e-01j  1.66961782e+00+5.41471395e-01j\n",
            "  1.70249797e+00+5.87340899e-01j  1.73918920e+00+6.36479532e-01j\n",
            "  1.78020296e+00+6.89398810e-01j  1.82615706e+00+7.46711196e-01j\n",
            "  1.87780384e+00+8.09157253e-01j  1.93606788e+00+8.77641946e-01j\n",
            "  2.00209715e+00+9.53283951e-01j  2.07733383e+00+1.03748371e+00j\n",
            "  2.16361384e+00+1.13201921e+00j  2.26330990e+00+1.23918346e+00j\n",
            "  2.37954197e+00+1.36198683e+00j  2.51649514e+00+1.50446259e+00j\n",
            "  2.67991526e+00+1.67214316e+00j  2.87790953e+00+1.87282962e+00j\n",
            "  3.12229670e+00+2.11788915e+00j  3.43100337e+00+2.42455791e+00j\n",
            "  3.83259233e+00+2.82029262e+00j  4.37552141e+00+3.35166813e+00j\n",
            "  5.14911330e+00+4.10452877e+00j  6.33813403e+00+5.25643670e+00j\n",
            "  8.39672639e+00+7.24381680e+00j  1.28208536e+01+1.15042521e+01j\n",
            "  2.91529289e+01+2.72077247e+01j -8.19702875e+01-7.95696930e+01j\n",
            " -1.61982661e+01-1.63561767e+01j -8.72906505e+00-9.17006822e+00j\n",
            " -5.84932951e+00-6.39442374e+00j -4.32421524e+00-4.92064886e+00j\n",
            " -3.38055291e+00-4.00574588e+00j -2.73950204e+00-3.38175264e+00j\n",
            " -2.27593211e+00-2.92841787e+00j -1.92533639e+00-2.58374816e+00j\n",
            " -1.65108475e+00-2.31253884e+00j -1.43083366e+00-2.09331440e+00j\n",
            " -1.25018011e+00-1.91223010e+00j -1.09942226e+00-1.75995902e+00j\n",
            " -9.71786233e-01-1.62998804e+00j -8.62399177e-01-1.51763103e+00j\n",
            " -7.67666234e-01-1.41943006e+00j -6.84877445e-01-1.33277769e+00j\n",
            " -6.11951339e-01-1.25567055e+00j -5.47262791e-01-1.18654389e+00j\n",
            " -4.89524517e-01-1.12415773e+00j -4.37703678e-01-1.06751667e+00j\n",
            " -3.90962017e-01-1.01581238e+00j -3.48612137e-01-9.68381616e-01j\n",
            " -3.10085064e-01-9.24674967e-01j -2.74905826e-01-8.84233447e-01j\n",
            " -2.42674844e-01-8.46670579e-01j -2.13053563e-01-8.11658591e-01j\n",
            " -1.85753260e-01-7.78917657e-01j -1.60526220e-01-7.48207409e-01j\n",
            " -1.37158725e-01-7.19320201e-01j -1.15465433e-01-6.92075704e-01j\n",
            " -9.52848366e-02-6.66316533e-01j -7.64755650e-02-6.41904698e-01j\n",
            " -5.89133574e-02-6.18718687e-01j -4.24885624e-02-5.96651061e-01j\n",
            " -2.71040656e-02-5.75606463e-01j -1.26735592e-02-5.55499948e-01j\n",
            "  8.79908820e-04-5.36255588e-01j  1.36251580e-02-5.17805295e-01j\n",
            "  2.56239118e-02-5.00087820e-01j  3.69316790e-02-4.83047907e-01j\n",
            "  4.75985071e-02-4.66635563e-01j  5.76696284e-02-4.50805437e-01j\n",
            "  6.71860163e-02-4.35516283e-01j  7.61848664e-02-4.20730494e-01j\n",
            "  8.47000128e-02-4.06413701e-01j  9.27622914e-02-3.92534422e-01j\n",
            "  1.00399856e-01-3.79063754e-01j  1.07638456e-01-3.65975105e-01j\n",
            "  1.14501678e-01-3.53243962e-01j  1.21011162e-01-3.40847675e-01j\n",
            "  1.27186787e-01-3.28765283e-01j  1.33046843e-01-3.16977343e-01j\n",
            "  1.38608174e-01-3.05465791e-01j  1.43886311e-01-2.94213811e-01j\n",
            "  1.48895591e-01-2.83205720e-01j  1.53649259e-01-2.72426865e-01j\n",
            "  1.58159564e-01-2.61863534e-01j  1.62437838e-01-2.51502868e-01j\n",
            "  1.66494577e-01-2.41332791e-01j  1.70339505e-01-2.31341939e-01j\n",
            "  1.73981632e-01-2.21519603e-01j  1.77429315e-01-2.11855670e-01j\n",
            "  1.80690303e-01-2.02340576e-01j  1.83771780e-01-1.92965258e-01j\n",
            "  1.86680410e-01-1.83721113e-01j  1.89422368e-01-1.74599961e-01j\n",
            "  1.92003379e-01-1.65594009e-01j  1.94428741e-01-1.56695819e-01j\n",
            "  1.96703358e-01-1.47898279e-01j  1.98831759e-01-1.39194575e-01j\n",
            "  2.00818125e-01-1.30578167e-01j  2.02666305e-01-1.22042763e-01j\n",
            "  2.04379839e-01-1.13582303e-01j  2.05961968e-01-1.05190932e-01j\n",
            "  2.07415653e-01-9.68629845e-02j  2.08743590e-01-8.85929667e-02j\n",
            "  2.09948216e-01-8.03755390e-02j  2.11031723e-01-7.22055009e-02j\n",
            "  2.11996070e-01-6.40777753e-02j  2.12842987e-01-5.59873945e-02j\n",
            "  2.13573983e-01-4.79294866e-02j  2.14190356e-01-3.98992625e-02j\n",
            "  2.14693192e-01-3.18920030e-02j  2.15083377e-01-2.39030466e-02j\n",
            "  2.15361594e-01-1.59277778e-02j  2.15528330e-01-7.96161519e-03j\n",
            "  2.15583877e-01+0.00000000e+00j  2.15528330e-01+7.96161519e-03j\n",
            "  2.15361594e-01+1.59277778e-02j  2.15083377e-01+2.39030466e-02j\n",
            "  2.14693192e-01+3.18920030e-02j  2.14190356e-01+3.98992625e-02j\n",
            "  2.13573983e-01+4.79294866e-02j  2.12842987e-01+5.59873945e-02j\n",
            "  2.11996070e-01+6.40777753e-02j  2.11031723e-01+7.22055009e-02j\n",
            "  2.09948216e-01+8.03755390e-02j  2.08743590e-01+8.85929667e-02j\n",
            "  2.07415653e-01+9.68629845e-02j  2.05961968e-01+1.05190932e-01j\n",
            "  2.04379839e-01+1.13582303e-01j  2.02666305e-01+1.22042763e-01j\n",
            "  2.00818125e-01+1.30578167e-01j  1.98831759e-01+1.39194575e-01j\n",
            "  1.96703358e-01+1.47898279e-01j  1.94428741e-01+1.56695819e-01j\n",
            "  1.92003379e-01+1.65594009e-01j  1.89422368e-01+1.74599961e-01j\n",
            "  1.86680410e-01+1.83721113e-01j  1.83771780e-01+1.92965258e-01j\n",
            "  1.80690303e-01+2.02340576e-01j  1.77429315e-01+2.11855670e-01j\n",
            "  1.73981632e-01+2.21519603e-01j  1.70339505e-01+2.31341939e-01j\n",
            "  1.66494577e-01+2.41332791e-01j  1.62437838e-01+2.51502868e-01j\n",
            "  1.58159564e-01+2.61863534e-01j  1.53649259e-01+2.72426865e-01j\n",
            "  1.48895591e-01+2.83205720e-01j  1.43886311e-01+2.94213811e-01j\n",
            "  1.38608174e-01+3.05465791e-01j  1.33046843e-01+3.16977343e-01j\n",
            "  1.27186787e-01+3.28765283e-01j  1.21011162e-01+3.40847675e-01j\n",
            "  1.14501678e-01+3.53243962e-01j  1.07638456e-01+3.65975105e-01j\n",
            "  1.00399856e-01+3.79063754e-01j  9.27622914e-02+3.92534422e-01j\n",
            "  8.47000128e-02+4.06413701e-01j  7.61848664e-02+4.20730494e-01j\n",
            "  6.71860163e-02+4.35516283e-01j  5.76696284e-02+4.50805437e-01j\n",
            "  4.75985071e-02+4.66635563e-01j  3.69316790e-02+4.83047907e-01j\n",
            "  2.56239118e-02+5.00087820e-01j  1.36251580e-02+5.17805295e-01j\n",
            "  8.79908820e-04+5.36255588e-01j -1.26735592e-02+5.55499948e-01j\n",
            " -2.71040656e-02+5.75606463e-01j -4.24885624e-02+5.96651061e-01j\n",
            " -5.89133574e-02+6.18718687e-01j -7.64755650e-02+6.41904698e-01j\n",
            " -9.52848366e-02+6.66316533e-01j -1.15465433e-01+6.92075704e-01j\n",
            " -1.37158725e-01+7.19320201e-01j -1.60526220e-01+7.48207409e-01j\n",
            " -1.85753260e-01+7.78917657e-01j -2.13053563e-01+8.11658591e-01j\n",
            " -2.42674844e-01+8.46670579e-01j -2.74905826e-01+8.84233447e-01j\n",
            " -3.10085064e-01+9.24674967e-01j -3.48612137e-01+9.68381616e-01j\n",
            " -3.90962017e-01+1.01581238e+00j -4.37703678e-01+1.06751667e+00j\n",
            " -4.89524517e-01+1.12415773e+00j -5.47262791e-01+1.18654389e+00j\n",
            " -6.11951339e-01+1.25567055e+00j -6.84877445e-01+1.33277769e+00j\n",
            " -7.67666234e-01+1.41943006e+00j -8.62399177e-01+1.51763103e+00j\n",
            " -9.71786233e-01+1.62998804e+00j -1.09942226e+00+1.75995902e+00j\n",
            " -1.25018011e+00+1.91223010e+00j -1.43083366e+00+2.09331440e+00j\n",
            " -1.65108475e+00+2.31253884e+00j -1.92533639e+00+2.58374816e+00j\n",
            " -2.27593211e+00+2.92841787e+00j -2.73950204e+00+3.38175264e+00j\n",
            " -3.38055291e+00+4.00574588e+00j -4.32421524e+00+4.92064886e+00j\n",
            " -5.84932951e+00+6.39442374e+00j -8.72906505e+00+9.17006822e+00j\n",
            " -1.61982661e+01+1.63561767e+01j -8.19702875e+01+7.95696930e+01j\n",
            "  2.91529289e+01-2.72077247e+01j  1.28208536e+01-1.15042521e+01j\n",
            "  8.39672639e+00-7.24381680e+00j  6.33813403e+00-5.25643670e+00j\n",
            "  5.14911330e+00-4.10452877e+00j  4.37552141e+00-3.35166813e+00j\n",
            "  3.83259233e+00-2.82029262e+00j  3.43100337e+00-2.42455791e+00j\n",
            "  3.12229670e+00-2.11788915e+00j  2.87790953e+00-1.87282962e+00j\n",
            "  2.67991526e+00-1.67214316e+00j  2.51649514e+00-1.50446259e+00j\n",
            "  2.37954197e+00-1.36198683e+00j  2.26330990e+00-1.23918346e+00j\n",
            "  2.16361384e+00-1.13201921e+00j  2.07733383e+00-1.03748371e+00j\n",
            "  2.00209715e+00-9.53283951e-01j  1.93606788e+00-8.77641946e-01j\n",
            "  1.87780384e+00-8.09157253e-01j  1.82615706e+00-7.46711196e-01j\n",
            "  1.78020296e+00-6.89398810e-01j  1.73918920e+00-6.36479532e-01j\n",
            "  1.70249797e+00-5.87340899e-01j  1.66961782e+00-5.41471395e-01j\n",
            "  1.64012240e+00-4.98439862e-01j  1.61365410e+00-4.57879702e-01j\n",
            "  1.58991146e+00-4.19476588e-01j  1.56863925e+00-3.82958819e-01j\n",
            "  1.54962069e+00-3.48089662e-01j  1.53267128e+00-3.14661208e-01j\n",
            "  1.51763382e+00-2.82489403e-01j  1.50437447e+00-2.51409977e-01j\n",
            "  1.49277947e+00-2.21275087e-01j  1.48275261e+00-1.91950518e-01j\n",
            "  1.47421310e+00-1.63313315e-01j  1.46709386e+00-1.35249768e-01j\n",
            "  1.46134019e+00-1.07653659e-01j  1.45690866e+00-8.04247362e-02j\n",
            "  1.45376631e+00-5.34673357e-02j  1.45189004e+00-2.66891368e-02j]\n"
          ],
          "name": "stdout"
        }
      ]
    },
    {
      "cell_type": "code",
      "metadata": {
        "id": "eGYZDBrdF52W"
      },
      "source": [
        "freq=np.fft.fftfreq(t.shape[-1])\n",
        "#print(t.shape)"
      ],
      "execution_count": 26,
      "outputs": []
    },
    {
      "cell_type": "code",
      "metadata": {
        "id": "ZBR17nA0HupQ",
        "outputId": "5ab05920-399d-4462-ec05-c751bee7fd88",
        "colab": {
          "base_uri": "https://localhost:8080/",
          "height": 0
        }
      },
      "source": [
        "plt.plot(freq,sp.real, freq, sp.imag)"
      ],
      "execution_count": 27,
      "outputs": [
        {
          "output_type": "execute_result",
          "data": {
            "text/plain": [
              "[<matplotlib.lines.Line2D at 0x7f89a51938d0>,\n",
              " <matplotlib.lines.Line2D at 0x7f89a5193c88>]"
            ]
          },
          "metadata": {
            "tags": []
          },
          "execution_count": 27
        },
        {
          "output_type": "display_data",
          "data": {
            "image/png": "[encoded data removed]",
            "text/plain": [
              "<Figure size 432x288 with 1 Axes>"
            ]
          },
          "metadata": {
            "tags": [],
            "needs_background": "light"
          }
        }
      ]
    },
    {
      "cell_type": "code",
      "metadata": {
        "id": "ePr87ifHIlqs",
        "outputId": "b4702833-e724-4346-cfe9-0377541a5f75",
        "colab": {
          "base_uri": "https://localhost:8080/",
          "height": 0
        }
      },
      "source": [
        "plt.plot(freq,z)"
      ],
      "execution_count": 28,
      "outputs": [
        {
          "output_type": "execute_result",
          "data": {
            "text/plain": [
              "[<matplotlib.lines.Line2D at 0x7f89a4d06f60>]"
            ]
          },
          "metadata": {
            "tags": []
          },
          "execution_count": 28
        },
        {
          "output_type": "display_data",
          "data": {
            "image/png": "[encoded data removed]",
            "text/plain": [
              "<Figure size 432x288 with 1 Axes>"
            ]
          },
          "metadata": {
            "tags": [],
            "needs_background": "light"
          }
        }
      ]
    },
    {
      "cell_type": "code",
      "metadata": {
        "id": "QqZBPzZMFUrP",
        "outputId": "1c6befd7-1d22-49dc-fa1b-b44fb203ac85",
        "colab": {
          "base_uri": "https://localhost:8080/"
        }
      },
      "source": [
        "z=np.abs(sp)\n",
        "print(z)"
      ],
      "execution_count": 29,
      "outputs": [
        {
          "output_type": "stream",
          "text": [
            "[  1.45126613   1.45213532   1.45474921   1.45912678   1.46530012\n",
            "   1.47331494   1.48323144   1.49512552   1.50909019   1.52523753\n",
            "   1.54370097   1.56463827   1.58823509   1.61470943   1.6443172\n",
            "   1.67735905   1.71418896   1.75522504   1.80096326   1.85199495\n",
            "   1.90902941   1.97292352   2.0447207    2.12570323   2.21746325\n",
            "   2.32200092   2.44186247   2.58033862   2.74175639   2.93192011\n",
            "   3.1587986    3.43363569   3.7728227    4.20122187   4.75844664\n",
            "   5.51170271   6.58487086   8.23420122  11.08953993  17.22562342\n",
            "  39.8767294  114.23862778  23.01973803  12.66043948   8.66621663\n",
            "   6.55069635   5.24157782   4.35213998   3.70884054   3.22221582\n",
            "   2.84146384   2.5355966    2.28463876   2.07513495   1.89769057\n",
            "   1.74554756   1.61372028   1.49845036   1.39685109   1.30666865\n",
            "   1.2261178    1.15376616   1.08845124   1.02921979   0.9752828\n",
            "   0.92598164   0.88076225   0.83915522   0.80076026   0.76523395\n",
            "   0.73228005   0.70164168   0.67309503   0.64644424   0.62151717\n",
            "   0.59816199   0.57624425   0.5556445    0.53625631   0.51798453\n",
            "   0.50074386   0.48445767   0.46905689   0.45447918   0.44066812\n",
            "   0.42757255   0.41514598   0.40334615   0.39213449   0.38147584\n",
            "   0.37133803   0.36169164   0.3525097    0.34376751   0.33544236\n",
            "   0.32751342   0.31996152   0.31276907   0.30591986   0.29939897\n",
            "   0.2931927    0.28728843   0.28167453   0.27634035   0.27127605\n",
            "   0.26647262   0.26192179   0.25761595   0.25354817   0.24971206\n",
            "   0.24610183   0.24271217   0.23953826   0.23657571   0.23382057\n",
            "   0.23126925   0.22891852   0.22676552   0.22480765   0.22304265\n",
            "   0.2214685    0.22008345   0.218886     0.21787487   0.217049\n",
            "   0.21640752   0.21594979   0.21567533   0.21558388   0.21567533\n",
            "   0.21594979   0.21640752   0.217049     0.21787487   0.218886\n",
            "   0.22008345   0.2214685    0.22304265   0.22480765   0.22676552\n",
            "   0.22891852   0.23126925   0.23382057   0.23657571   0.23953826\n",
            "   0.24271217   0.24610183   0.24971206   0.25354817   0.25761595\n",
            "   0.26192179   0.26647262   0.27127605   0.27634035   0.28167453\n",
            "   0.28728843   0.2931927    0.29939897   0.30591986   0.31276907\n",
            "   0.31996152   0.32751342   0.33544236   0.34376751   0.3525097\n",
            "   0.36169164   0.37133803   0.38147584   0.39213449   0.40334615\n",
            "   0.41514598   0.42757255   0.44066812   0.45447918   0.46905689\n",
            "   0.48445767   0.50074386   0.51798453   0.53625631   0.5556445\n",
            "   0.57624425   0.59816199   0.62151717   0.64644424   0.67309503\n",
            "   0.70164168   0.73228005   0.76523395   0.80076026   0.83915522\n",
            "   0.88076225   0.92598164   0.9752828    1.02921979   1.08845124\n",
            "   1.15376616   1.2261178    1.30666865   1.39685109   1.49845036\n",
            "   1.61372028   1.74554756   1.89769057   2.07513495   2.28463876\n",
            "   2.5355966    2.84146384   3.22221582   3.70884054   4.35213998\n",
            "   5.24157782   6.55069635   8.66621663  12.66043948  23.01973803\n",
            " 114.23862778  39.8767294   17.22562342  11.08953993   8.23420122\n",
            "   6.58487086   5.51170271   4.75844664   4.20122187   3.7728227\n",
            "   3.43363569   3.1587986    2.93192011   2.74175639   2.58033862\n",
            "   2.44186247   2.32200092   2.21746325   2.12570323   2.0447207\n",
            "   1.97292352   1.90902941   1.85199495   1.80096326   1.75522504\n",
            "   1.71418896   1.67735905   1.6443172    1.61470943   1.58823509\n",
            "   1.56463827   1.54370097   1.52523753   1.50909019   1.49512552\n",
            "   1.48323144   1.47331494   1.46530012   1.45912678   1.45474921\n",
            "   1.45213532]\n"
          ],
          "name": "stdout"
        }
      ]
    },
    {
      "cell_type": "code",
      "metadata": {
        "id": "wvvtN-DfJFib"
      },
      "source": [
        ""
      ],
      "execution_count": 29,
      "outputs": []
    },
    {
      "cell_type": "markdown",
      "metadata": {
        "id": "BHSkHqh1JHy4"
      },
      "source": [
        "# TRANSFORMADA DEL TÍO FOURIER"
      ]
    },
    {
      "cell_type": "markdown",
      "metadata": {
        "id": "5pzbL6pKJQ9g"
      },
      "source": [
        ""
      ]
    },
    {
      "cell_type": "code",
      "metadata": {
        "id": "IWG2WEe3SbTx"
      },
      "source": [
        ""
      ],
      "execution_count": null,
      "outputs": []
    },
    {
      "cell_type": "code",
      "metadata": {
        "id": "NURPU0RlJtI9"
      },
      "source": [
        "import matplotlib.pyplot as plt\n",
        "import pandas as pd\n",
        "import numpy as np\n",
        "from scipy import signal\n",
        "from scipy import fftpack\n"
      ],
      "execution_count": 90,
      "outputs": []
    },
    {
      "cell_type": "code",
      "metadata": {
        "id": "8XbShTWjKvNI"
      },
      "source": [
        "data=pd.read_csv('NZ007.txt',names=['time','amp'],skiprows=3,sep='\\s+',engine='python')\n",
        "data.head(10)"
      ],
      "execution_count": null,
      "outputs": []
    },
    {
      "cell_type": "code",
      "metadata": {
        "id": "r7jIwqw2NSjM"
      },
      "source": [
        "data.info()"
      ],
      "execution_count": null,
      "outputs": []
    },
    {
      "cell_type": "code",
      "metadata": {
        "id": "5rOXBuB9QC7r",
        "outputId": "641cbcba-eb25-4010-faea-adbe3e228b4f",
        "colab": {
          "base_uri": "https://localhost:8080/",
          "height": 204
        }
      },
      "source": [
        "data['fft']=np.fft.fft(data['signal_filter'])\n",
        "data.head(5)\n"
      ],
      "execution_count": 135,
      "outputs": [
        {
          "output_type": "execute_result",
          "data": {
            "text/html": [
              "<div>\n",
              "<style scoped>\n",
              "    .dataframe tbody tr th:only-of-type {\n",
              "        vertical-align: middle;\n",
              "    }\n",
              "\n",
              "    .dataframe tbody tr th {\n",
              "        vertical-align: top;\n",
              "    }\n",
              "\n",
              "    .dataframe thead th {\n",
              "        text-align: right;\n",
              "    }\n",
              "</style>\n",
              "<table border=\"1\" class=\"dataframe\">\n",
              "  <thead>\n",
              "    <tr style=\"text-align: right;\">\n",
              "      <th></th>\n",
              "      <th>time</th>\n",
              "      <th>amp</th>\n",
              "      <th>fft</th>\n",
              "      <th>asb</th>\n",
              "      <th>fase</th>\n",
              "      <th>freq</th>\n",
              "      <th>filtro</th>\n",
              "      <th>signal_filter</th>\n",
              "    </tr>\n",
              "  </thead>\n",
              "  <tbody>\n",
              "    <tr>\n",
              "      <th>0</th>\n",
              "      <td>0.00</td>\n",
              "      <td>-0.244690</td>\n",
              "      <td>13.838794-0.000000j</td>\n",
              "      <td>12.538717</td>\n",
              "      <td>0.000000</td>\n",
              "      <td>0.000000</td>\n",
              "      <td>0.001571</td>\n",
              "      <td>-0.000384</td>\n",
              "    </tr>\n",
              "    <tr>\n",
              "      <th>1</th>\n",
              "      <td>0.02</td>\n",
              "      <td>0.055570</td>\n",
              "      <td>43.041462+22.215780j</td>\n",
              "      <td>44.592832</td>\n",
              "      <td>0.054723</td>\n",
              "      <td>0.019101</td>\n",
              "      <td>0.004712</td>\n",
              "      <td>0.000262</td>\n",
              "    </tr>\n",
              "    <tr>\n",
              "      <th>2</th>\n",
              "      <td>0.04</td>\n",
              "      <td>0.034080</td>\n",
              "      <td>3.100171+29.423475j</td>\n",
              "      <td>14.363567</td>\n",
              "      <td>-0.514534</td>\n",
              "      <td>0.038203</td>\n",
              "      <td>0.007854</td>\n",
              "      <td>0.000268</td>\n",
              "    </tr>\n",
              "    <tr>\n",
              "      <th>3</th>\n",
              "      <td>0.06</td>\n",
              "      <td>-0.035078</td>\n",
              "      <td>23.437134+54.915609j</td>\n",
              "      <td>45.257840</td>\n",
              "      <td>0.163313</td>\n",
              "      <td>0.057304</td>\n",
              "      <td>0.010995</td>\n",
              "      <td>-0.000386</td>\n",
              "    </tr>\n",
              "    <tr>\n",
              "      <th>4</th>\n",
              "      <td>0.08</td>\n",
              "      <td>0.065622</td>\n",
              "      <td>-22.689074+36.965522j</td>\n",
              "      <td>18.912769</td>\n",
              "      <td>-0.856562</td>\n",
              "      <td>0.076405</td>\n",
              "      <td>0.014137</td>\n",
              "      <td>0.000928</td>\n",
              "    </tr>\n",
              "  </tbody>\n",
              "</table>\n",
              "</div>"
            ],
            "text/plain": [
              "   time       amp                   fft  ...      freq    filtro  signal_filter\n",
              "0  0.00 -0.244690   13.838794-0.000000j  ...  0.000000  0.001571      -0.000384\n",
              "1  0.02  0.055570  43.041462+22.215780j  ...  0.019101  0.004712       0.000262\n",
              "2  0.04  0.034080   3.100171+29.423475j  ...  0.038203  0.007854       0.000268\n",
              "3  0.06 -0.035078  23.437134+54.915609j  ...  0.057304  0.010995      -0.000386\n",
              "4  0.08  0.065622 -22.689074+36.965522j  ...  0.076405  0.014137       0.000928\n",
              "\n",
              "[5 rows x 8 columns]"
            ]
          },
          "metadata": {
            "tags": []
          },
          "execution_count": 135
        }
      ]
    },
    {
      "cell_type": "code",
      "metadata": {
        "id": "3Jg42pANQp7j"
      },
      "source": [
        "data['asb']= np.abs(data['fft'])\n",
        "data.head(5)"
      ],
      "execution_count": null,
      "outputs": []
    },
    {
      "cell_type": "code",
      "metadata": {
        "id": "n3_1bG4WaD5H"
      },
      "source": [
        "data['fase'].iloc[0]=0"
      ],
      "execution_count": null,
      "outputs": []
    },
    {
      "cell_type": "code",
      "metadata": {
        "id": "EJRUICZf1gFY"
      },
      "source": [
        ""
      ],
      "execution_count": null,
      "outputs": []
    },
    {
      "cell_type": "code",
      "metadata": {
        "id": "rsMBK1mTY3tb",
        "outputId": "d18138d1-2d26-4941-b28a-5ccd14373e6d",
        "colab": {
          "base_uri": "https://localhost:8080/",
          "height": 204
        }
      },
      "source": [
        "#data['fase']=np.arctan(data['fft'].values.imag/data['fft'].values.real)\n",
        "data.head(5)"
      ],
      "execution_count": 71,
      "outputs": [
        {
          "output_type": "execute_result",
          "data": {
            "text/html": [
              "<div>\n",
              "<style scoped>\n",
              "    .dataframe tbody tr th:only-of-type {\n",
              "        vertical-align: middle;\n",
              "    }\n",
              "\n",
              "    .dataframe tbody tr th {\n",
              "        vertical-align: top;\n",
              "    }\n",
              "\n",
              "    .dataframe thead th {\n",
              "        text-align: right;\n",
              "    }\n",
              "</style>\n",
              "<table border=\"1\" class=\"dataframe\">\n",
              "  <thead>\n",
              "    <tr style=\"text-align: right;\">\n",
              "      <th></th>\n",
              "      <th>time</th>\n",
              "      <th>amp</th>\n",
              "      <th>fft</th>\n",
              "      <th>asb</th>\n",
              "      <th>fase</th>\n",
              "    </tr>\n",
              "  </thead>\n",
              "  <tbody>\n",
              "    <tr>\n",
              "      <th>0</th>\n",
              "      <td>0.00</td>\n",
              "      <td>-0.244690</td>\n",
              "      <td>12.538717-0.000000j</td>\n",
              "      <td>12.538717</td>\n",
              "      <td>0.000000</td>\n",
              "    </tr>\n",
              "    <tr>\n",
              "      <th>1</th>\n",
              "      <td>0.02</td>\n",
              "      <td>0.055570</td>\n",
              "      <td>44.526080+2.439021j</td>\n",
              "      <td>44.592832</td>\n",
              "      <td>0.054723</td>\n",
              "    </tr>\n",
              "    <tr>\n",
              "      <th>2</th>\n",
              "      <td>0.04</td>\n",
              "      <td>0.034080</td>\n",
              "      <td>12.503803-7.068732j</td>\n",
              "      <td>14.363567</td>\n",
              "      <td>-0.514534</td>\n",
              "    </tr>\n",
              "    <tr>\n",
              "      <th>3</th>\n",
              "      <td>0.06</td>\n",
              "      <td>-0.035078</td>\n",
              "      <td>44.655640+7.358390j</td>\n",
              "      <td>45.257840</td>\n",
              "      <td>0.163313</td>\n",
              "    </tr>\n",
              "    <tr>\n",
              "      <th>4</th>\n",
              "      <td>0.08</td>\n",
              "      <td>0.065622</td>\n",
              "      <td>12.388602-14.290394j</td>\n",
              "      <td>18.912769</td>\n",
              "      <td>-0.856562</td>\n",
              "    </tr>\n",
              "  </tbody>\n",
              "</table>\n",
              "</div>"
            ],
            "text/plain": [
              "   time       amp                   fft        asb      fase\n",
              "0  0.00 -0.244690   12.538717-0.000000j  12.538717  0.000000\n",
              "1  0.02  0.055570   44.526080+2.439021j  44.592832  0.054723\n",
              "2  0.04  0.034080   12.503803-7.068732j  14.363567 -0.514534\n",
              "3  0.06 -0.035078   44.655640+7.358390j  45.257840  0.163313\n",
              "4  0.08  0.065622  12.388602-14.290394j  18.912769 -0.856562"
            ]
          },
          "metadata": {
            "tags": []
          },
          "execution_count": 71
        }
      ]
    },
    {
      "cell_type": "code",
      "metadata": {
        "id": "NRqCyZd3dKaN",
        "outputId": "5eca2099-bc52-4bf6-aafd-8dc569596c09",
        "colab": {
          "base_uri": "https://localhost:8080/",
          "height": 204
        }
      },
      "source": [
        "data.tail()"
      ],
      "execution_count": 81,
      "outputs": [
        {
          "output_type": "execute_result",
          "data": {
            "text/html": [
              "<div>\n",
              "<style scoped>\n",
              "    .dataframe tbody tr th:only-of-type {\n",
              "        vertical-align: middle;\n",
              "    }\n",
              "\n",
              "    .dataframe tbody tr th {\n",
              "        vertical-align: top;\n",
              "    }\n",
              "\n",
              "    .dataframe thead th {\n",
              "        text-align: right;\n",
              "    }\n",
              "</style>\n",
              "<table border=\"1\" class=\"dataframe\">\n",
              "  <thead>\n",
              "    <tr style=\"text-align: right;\">\n",
              "      <th></th>\n",
              "      <th>time</th>\n",
              "      <th>amp</th>\n",
              "      <th>fft</th>\n",
              "      <th>asb</th>\n",
              "      <th>fase</th>\n",
              "    </tr>\n",
              "  </thead>\n",
              "  <tbody>\n",
              "    <tr>\n",
              "      <th>16443</th>\n",
              "      <td>328.86</td>\n",
              "      <td>0.72716</td>\n",
              "      <td>44.916568-12.419795j</td>\n",
              "      <td>46.602031</td>\n",
              "      <td>-0.269768</td>\n",
              "    </tr>\n",
              "    <tr>\n",
              "      <th>16444</th>\n",
              "      <td>328.88</td>\n",
              "      <td>0.61736</td>\n",
              "      <td>12.388602+14.290394j</td>\n",
              "      <td>18.912769</td>\n",
              "      <td>0.856562</td>\n",
              "    </tr>\n",
              "    <tr>\n",
              "      <th>16445</th>\n",
              "      <td>328.90</td>\n",
              "      <td>0.54991</td>\n",
              "      <td>44.655640-7.358390j</td>\n",
              "      <td>45.257840</td>\n",
              "      <td>-0.163313</td>\n",
              "    </tr>\n",
              "    <tr>\n",
              "      <th>16446</th>\n",
              "      <td>328.92</td>\n",
              "      <td>0.59976</td>\n",
              "      <td>12.503803+7.068732j</td>\n",
              "      <td>14.363567</td>\n",
              "      <td>0.514534</td>\n",
              "    </tr>\n",
              "    <tr>\n",
              "      <th>16447</th>\n",
              "      <td>328.94</td>\n",
              "      <td>0.41080</td>\n",
              "      <td>44.526080-2.439021j</td>\n",
              "      <td>44.592832</td>\n",
              "      <td>-0.054723</td>\n",
              "    </tr>\n",
              "  </tbody>\n",
              "</table>\n",
              "</div>"
            ],
            "text/plain": [
              "         time      amp                   fft        asb      fase\n",
              "16443  328.86  0.72716  44.916568-12.419795j  46.602031 -0.269768\n",
              "16444  328.88  0.61736  12.388602+14.290394j  18.912769  0.856562\n",
              "16445  328.90  0.54991   44.655640-7.358390j  45.257840 -0.163313\n",
              "16446  328.92  0.59976   12.503803+7.068732j  14.363567  0.514534\n",
              "16447  328.94  0.41080   44.526080-2.439021j  44.592832 -0.054723"
            ]
          },
          "metadata": {
            "tags": []
          },
          "execution_count": 81
        }
      ]
    },
    {
      "cell_type": "code",
      "metadata": {
        "id": "X7QLkwVLdcQs",
        "outputId": "23735f0d-452b-4475-e439-bc8cfc178df1",
        "colab": {
          "base_uri": "https://localhost:8080/",
          "height": 204
        }
      },
      "source": [
        "T=328.94\n",
        "w=(2*np.pi)/T\n",
        "data['freq']=np.arange(0,len(data)*w,step=w)\n",
        "data.head()"
      ],
      "execution_count": 86,
      "outputs": [
        {
          "output_type": "execute_result",
          "data": {
            "text/html": [
              "<div>\n",
              "<style scoped>\n",
              "    .dataframe tbody tr th:only-of-type {\n",
              "        vertical-align: middle;\n",
              "    }\n",
              "\n",
              "    .dataframe tbody tr th {\n",
              "        vertical-align: top;\n",
              "    }\n",
              "\n",
              "    .dataframe thead th {\n",
              "        text-align: right;\n",
              "    }\n",
              "</style>\n",
              "<table border=\"1\" class=\"dataframe\">\n",
              "  <thead>\n",
              "    <tr style=\"text-align: right;\">\n",
              "      <th></th>\n",
              "      <th>time</th>\n",
              "      <th>amp</th>\n",
              "      <th>fft</th>\n",
              "      <th>asb</th>\n",
              "      <th>fase</th>\n",
              "      <th>freq</th>\n",
              "    </tr>\n",
              "  </thead>\n",
              "  <tbody>\n",
              "    <tr>\n",
              "      <th>0</th>\n",
              "      <td>0.00</td>\n",
              "      <td>-0.244690</td>\n",
              "      <td>12.538717-0.000000j</td>\n",
              "      <td>12.538717</td>\n",
              "      <td>0.000000</td>\n",
              "      <td>0.000000</td>\n",
              "    </tr>\n",
              "    <tr>\n",
              "      <th>1</th>\n",
              "      <td>0.02</td>\n",
              "      <td>0.055570</td>\n",
              "      <td>44.526080+2.439021j</td>\n",
              "      <td>44.592832</td>\n",
              "      <td>0.054723</td>\n",
              "      <td>0.019101</td>\n",
              "    </tr>\n",
              "    <tr>\n",
              "      <th>2</th>\n",
              "      <td>0.04</td>\n",
              "      <td>0.034080</td>\n",
              "      <td>12.503803-7.068732j</td>\n",
              "      <td>14.363567</td>\n",
              "      <td>-0.514534</td>\n",
              "      <td>0.038203</td>\n",
              "    </tr>\n",
              "    <tr>\n",
              "      <th>3</th>\n",
              "      <td>0.06</td>\n",
              "      <td>-0.035078</td>\n",
              "      <td>44.655640+7.358390j</td>\n",
              "      <td>45.257840</td>\n",
              "      <td>0.163313</td>\n",
              "      <td>0.057304</td>\n",
              "    </tr>\n",
              "    <tr>\n",
              "      <th>4</th>\n",
              "      <td>0.08</td>\n",
              "      <td>0.065622</td>\n",
              "      <td>12.388602-14.290394j</td>\n",
              "      <td>18.912769</td>\n",
              "      <td>-0.856562</td>\n",
              "      <td>0.076405</td>\n",
              "    </tr>\n",
              "  </tbody>\n",
              "</table>\n",
              "</div>"
            ],
            "text/plain": [
              "   time       amp                   fft        asb      fase      freq\n",
              "0  0.00 -0.244690   12.538717-0.000000j  12.538717  0.000000  0.000000\n",
              "1  0.02  0.055570   44.526080+2.439021j  44.592832  0.054723  0.019101\n",
              "2  0.04  0.034080   12.503803-7.068732j  14.363567 -0.514534  0.038203\n",
              "3  0.06 -0.035078   44.655640+7.358390j  45.257840  0.163313  0.057304\n",
              "4  0.08  0.065622  12.388602-14.290394j  18.912769 -0.856562  0.076405"
            ]
          },
          "metadata": {
            "tags": []
          },
          "execution_count": 86
        }
      ]
    },
    {
      "cell_type": "code",
      "metadata": {
        "id": "GlHqcXiyScS7"
      },
      "source": [
        "help(np.fft.fftfreq)"
      ],
      "execution_count": null,
      "outputs": []
    },
    {
      "cell_type": "code",
      "metadata": {
        "id": "szfKUb1jTZWw"
      },
      "source": [
        "\n",
        "print(len(freq))\n"
      ],
      "execution_count": null,
      "outputs": []
    },
    {
      "cell_type": "code",
      "metadata": {
        "id": "HV7G0ZqgVIt0",
        "outputId": "c611102a-0f1a-4ea3-e81d-e2ac3631334b",
        "colab": {
          "base_uri": "https://localhost:8080/",
          "height": 282
        }
      },
      "source": [
        "plt.plot(data['time'],data['amp'])"
      ],
      "execution_count": 57,
      "outputs": [
        {
          "output_type": "execute_result",
          "data": {
            "text/plain": [
              "[<matplotlib.lines.Line2D at 0x7f89a466a160>]"
            ]
          },
          "metadata": {
            "tags": []
          },
          "execution_count": 57
        },
        {
          "output_type": "display_data",
          "data": {
            "image/png": "[encoded data removed]",
            "text/plain": [
              "<Figure size 432x288 with 1 Axes>"
            ]
          },
          "metadata": {
            "tags": [],
            "needs_background": "light"
          }
        }
      ]
    },
    {
      "cell_type": "code",
      "metadata": {
        "id": "RBD7Ud5IV2xH",
        "outputId": "aedd5693-aca2-416c-8f03-64b8cf80542b",
        "colab": {
          "base_uri": "https://localhost:8080/"
        }
      },
      "source": [
        "window=signal.cosine(100)\n",
        "print(len(window))"
      ],
      "execution_count": 97,
      "outputs": [
        {
          "output_type": "stream",
          "text": [
            "100\n"
          ],
          "name": "stdout"
        }
      ]
    },
    {
      "cell_type": "code",
      "metadata": {
        "id": "0714UC84w93Y"
      },
      "source": [
        "data=data.drop('filtro1',axis=1)"
      ],
      "execution_count": 111,
      "outputs": []
    },
    {
      "cell_type": "code",
      "metadata": {
        "id": "Nn4qvPMIvPNH"
      },
      "source": [
        "data['filtro']=1\n",
        "data"
      ],
      "execution_count": null,
      "outputs": []
    },
    {
      "cell_type": "code",
      "metadata": {
        "id": "jy39PAErvmfG"
      },
      "source": [
        "data['filtro'].iloc[data.index<1000]=signal.cosine(1000)\n",
        "data['filtro'].iloc[data.index>15447]=signal.cosine(1000)\n",
        "data.tail()"
      ],
      "execution_count": null,
      "outputs": []
    },
    {
      "cell_type": "code",
      "metadata": {
        "id": "vYxyQR_AztCl"
      },
      "source": [
        "data['signal_filter']= data['filtro']*data['amp']"
      ],
      "execution_count": 131,
      "outputs": []
    },
    {
      "cell_type": "code",
      "metadata": {
        "id": "3z85bsoe0FGJ",
        "outputId": "b8e24b09-7070-45a5-b8f3-cf3c540b7641",
        "colab": {
          "base_uri": "https://localhost:8080/",
          "height": 282
        }
      },
      "source": [
        "plt.plot(data['time'],data['signal_filter'])"
      ],
      "execution_count": 132,
      "outputs": [
        {
          "output_type": "execute_result",
          "data": {
            "text/plain": [
              "[<matplotlib.lines.Line2D at 0x7f899822c7b8>]"
            ]
          },
          "metadata": {
            "tags": []
          },
          "execution_count": 132
        },
        {
          "output_type": "display_data",
          "data": {
            "image/png": "[encoded data removed]",
            "text/plain": [
              "<Figure size 432x288 with 1 Axes>"
            ]
          },
          "metadata": {
            "tags": [],
            "needs_background": "light"
          }
        }
      ]
    },
    {
      "cell_type": "code",
      "metadata": {
        "id": "kPNdNPtByiSp",
        "outputId": "bd6f1978-ac42-43c2-916e-7fdfd936904f",
        "colab": {
          "base_uri": "https://localhost:8080/",
          "height": 286
        }
      },
      "source": [
        "plt.loglog(data['freq'],data['fase'],'r*')"
      ],
      "execution_count": 139,
      "outputs": [
        {
          "output_type": "execute_result",
          "data": {
            "text/plain": [
              "[<matplotlib.lines.Line2D at 0x7f8997e427b8>]"
            ]
          },
          "metadata": {
            "tags": []
          },
          "execution_count": 139
        },
        {
          "output_type": "display_data",
          "data": {
            "image/png": "[encoded data removed]",
            "text/plain": [
              "<Figure size 432x288 with 1 Axes>"
            ]
          },
          "metadata": {
            "tags": [],
            "needs_background": "light"
          }
        }
      ]
    },
    {
      "cell_type": "code",
      "metadata": {
        "id": "dyWylu_Nfn7H",
        "outputId": "21a629c2-3b31-4326-96e3-c182dbefc030",
        "colab": {
          "base_uri": "https://localhost:8080/",
          "height": 286
        }
      },
      "source": [
        "plt.loglog(data['freq'],data['asb'])"
      ],
      "execution_count": 91,
      "outputs": [
        {
          "output_type": "execute_result",
          "data": {
            "text/plain": [
              "[<matplotlib.lines.Line2D at 0x7f8999b73978>]"
            ]
          },
          "metadata": {
            "tags": []
          },
          "execution_count": 91
        },
        {
          "output_type": "display_data",
          "data": {
            "image/png": "[encoded data removed]",
            "text/plain": [
              "<Figure size 432x288 with 1 Axes>"
            ]
          },
          "metadata": {
            "tags": [],
            "needs_background": "light"
          }
        }
      ]
    },
    {
      "cell_type": "code",
      "metadata": {
        "id": "z99E3aEdT43l",
        "outputId": "19aec959-1d34-4c4e-81e0-972562bc2faf",
        "colab": {
          "base_uri": "https://localhost:8080/",
          "height": 282
        }
      },
      "source": [
        "plt.plot(freq, data['fft'].values.real)"
      ],
      "execution_count": 56,
      "outputs": [
        {
          "output_type": "execute_result",
          "data": {
            "text/plain": [
              "[<matplotlib.lines.Line2D at 0x7f89a4c53eb8>]"
            ]
          },
          "metadata": {
            "tags": []
          },
          "execution_count": 56
        },
        {
          "output_type": "display_data",
          "data": {
            "image/png": "[encoded data removed]",
            "text/plain": [
              "<Figure size 432x288 with 1 Axes>"
            ]
          },
          "metadata": {
            "tags": [],
            "needs_background": "light"
          }
        }
      ]
    }
  ]
}