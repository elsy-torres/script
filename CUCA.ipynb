{
  "nbformat": 4,
  "nbformat_minor": 0,
  "metadata": {
    "colab": {
      "name": "CUCA.ipynb",
      "provenance": [],
      "authorship_tag": "ABX9TyO3Fdeo4Vuq5hgD9c85qNh5",
      "include_colab_link": true
    },
    "kernelspec": {
      "name": "python3",
      "display_name": "Python 3"
    }
  },
  "cells": [
    {
      "cell_type": "markdown",
      "metadata": {
        "id": "view-in-github",
        "colab_type": "text"
      },
      "source": [
        "<a href=\"https://colab.research.google.com/github/elsy-torres/script/blob/main/CUCA.ipynb\" target=\"_parent\"><img src=\"https://colab.research.google.com/assets/colab-badge.svg\" alt=\"Open In Colab\"/></a>"
      ]
    },
    {
      "cell_type": "markdown",
      "metadata": {
        "id": "FSJ1eWZ1RGZR"
      },
      "source": [
        "## Catalogo IRIS"
      ]
    },
    {
      "cell_type": "code",
      "metadata": {
        "id": "OWzxsbK8SY8a"
      },
      "source": [
        "import matplotlib.pyplot as plt\n",
        "import pandas as pd\n",
        "import numpy as np\n",
        "import matplotlib.patches as patches\n",
        "import matplotlib.path as path\n",
        "import matplotlib as mpl\n"
      ],
      "execution_count": null,
      "outputs": []
    },
    {
      "cell_type": "code",
      "metadata": {
        "colab": {
          "base_uri": "https://localhost:8080/"
        },
        "id": "MfsVjsMzTEgD",
        "outputId": "3ef540ea-436b-4425-9e1b-653cdc38328b"
      },
      "source": [
        "data=pd.read_csv('data-02_IRIS.csv',names=['depth','Mag','date','N','X','NE'],skiprows=18,sep=',',engine='python')\n",
        "print(data)"
      ],
      "execution_count": null,
      "outputs": [
        {
          "output_type": "stream",
          "text": [
            "     depth   Mag        date   N     X  NE\n",
            "0     10.0  3.35  04/04/2010   0  17.0   1\n",
            "1     10.0  3.36  04/04/2010   0  18.0   5\n",
            "2     10.0  3.13  04/04/2010   0  19.0   5\n",
            "3     10.0  3.26  04/04/2010   0  20.0   2\n",
            "4     10.0  3.08  05/04/2010   1  21.0   6\n",
            "..     ...   ...         ...  ..   ...  ..\n",
            "556    9.9  3.35  06/07/2010  93   NaN  21\n",
            "557   13.4  3.02  07/07/2010  94   NaN  21\n",
            "558    9.3  3.28  08/07/2010  95   NaN  21\n",
            "559    5.5  3.02  09/07/2010  96   NaN  21\n",
            "560    6.3  3.03  12/07/2010  99   NaN  21\n",
            "\n",
            "[561 rows x 6 columns]\n"
          ],
          "name": "stdout"
        }
      ]
    },
    {
      "cell_type": "code",
      "metadata": {
        "id": "mcJ-BjLxCJXl"
      },
      "source": [
        "rango=np.arange(1,6,0.25)"
      ],
      "execution_count": null,
      "outputs": []
    },
    {
      "cell_type": "code",
      "metadata": {
        "id": "hUvPWsA8CZVo"
      },
      "source": [
        "rango_1=np.arange(2.75,6,0.25)"
      ],
      "execution_count": null,
      "outputs": []
    },
    {
      "cell_type": "code",
      "metadata": {
        "colab": {
          "base_uri": "https://localhost:8080/",
          "height": 308
        },
        "id": "WDGdfjoRB5OO",
        "outputId": "1e704d61-c553-495c-b619-efd35f85ed6d"
      },
      "source": [
        "fig = plt.figure(figsize=(10,5))\n",
        "fig, ax = plt.subplots()\n",
        "\n",
        "plt.style.use('bmh')\n",
        "\n",
        "n=plt.hist(data['Mag'], bins=rango,facecolor='b', edgecolor='magenta')\n",
        "plt.xticks(rango,fontsize=6)\n",
        "ax.set_xlabel('Magnitud (Mw)')\n",
        "\n",
        "ax.set_ylabel('Número de eventos por días')\n",
        "ax.set_title('HISTOGRAMA DE MAGNITUD')\n",
        "\n",
        "_=plt.show()"
      ],
      "execution_count": null,
      "outputs": [
        {
          "output_type": "display_data",
          "data": {
            "text/plain": [
              "<Figure size 720x360 with 0 Axes>"
            ]
          },
          "metadata": {
            "tags": []
          }
        },
        {
          "output_type": "display_data",
          "data": {
            "image/png": "[encoded data removed]",
            "text/plain": [
              "<Figure size 432x288 with 1 Axes>"
            ]
          },
          "metadata": {
            "tags": [],
            "needs_background": "light"
          }
        }
      ]
    },
    {
      "cell_type": "code",
      "metadata": {
        "id": "kWplOeO1POgu"
      },
      "source": [
        "x=np.arange(2,10)"
      ],
      "execution_count": null,
      "outputs": []
    },
    {
      "cell_type": "code",
      "metadata": {
        "colab": {
          "base_uri": "https://localhost:8080/"
        },
        "id": "f-gRjnNUWzkw",
        "outputId": "9eb3879a-1c80-44c9-8866-d0742bcdbe5b"
      },
      "source": [
        "print(n[0])"
      ],
      "execution_count": null,
      "outputs": [
        {
          "output_type": "stream",
          "text": [
            "[  0.   0.   0.   0.   0.   0.   0.   0. 190.  63.  69.  34.  38.  11.\n",
            "   9.   2.   1.   1.   0.]\n"
          ],
          "name": "stdout"
        }
      ]
    },
    {
      "cell_type": "code",
      "metadata": {
        "id": "_x_86ExEQ8Ar"
      },
      "source": [
        "y=np.log(n[0][9:18]/561)\n"
      ],
      "execution_count": null,
      "outputs": []
    },
    {
      "cell_type": "code",
      "metadata": {
        "colab": {
          "base_uri": "https://localhost:8080/"
        },
        "id": "23HXmM5_Tfc0",
        "outputId": "2c8c69ae-8e21-4621-d3ed-1eba4d962cce"
      },
      "source": [
        "m_0,b_0 = np.polyfit(rango[9:18],y,deg = 1)\n",
        "print(\"m:{}\\t b:{}\".format(m,b_0))"
      ],
      "execution_count": null,
      "outputs": [
        {
          "output_type": "stream",
          "text": [
            "m:-1.7287952920643472\t b:6.292796206162888\n"
          ],
          "name": "stdout"
        }
      ]
    },
    {
      "cell_type": "code",
      "metadata": {
        "id": "nXJfuln7ToTY"
      },
      "source": [
        "y_r = m_0*rango[9:18] +b_0"
      ],
      "execution_count": null,
      "outputs": []
    },
    {
      "cell_type": "code",
      "metadata": {
        "colab": {
          "base_uri": "https://localhost:8080/",
          "height": 296
        },
        "id": "qOQfBDirIP7p",
        "outputId": "75f9f57b-5278-4096-a92d-b743863fc139"
      },
      "source": [
        "fig = plt.figure(figsize=(6,4))\n",
        "\n",
        "plt.plot(rango[9:18],y,'bo')\n",
        "plt.plot(rango[0:8],n[0][0:8],'bo')\n",
        "plt.plot(rango[9:18],y_r,'--')\n",
        "\n",
        "plt.xlabel('Magnitud (Mw)')\n",
        "plt.ylabel('log(N/Ntotal)')\n",
        "plt.title('DISTRIBUCIÓN DE MAGNITUD')\n",
        "\n",
        "plt.rc('grid', linestyle=\"-\", color='gray')\n",
        "plt.grid(True)\n",
        "_=plt.show()"
      ],
      "execution_count": null,
      "outputs": [
        {
          "output_type": "display_data",
          "data": {
            "image/png": "[encoded data removed]",
            "text/plain": [
              "<Figure size 432x288 with 1 Axes>"
            ]
          },
          "metadata": {
            "tags": [],
            "needs_background": "light"
          }
        }
      ]
    },
    {
      "cell_type": "markdown",
      "metadata": {
        "id": "n-bJ_xMCRLa7"
      },
      "source": [
        "## Catalogo RESNOM"
      ]
    },
    {
      "cell_type": "code",
      "metadata": {
        "colab": {
          "base_uri": "https://localhost:8080/"
        },
        "id": "9zxt8p54RQ_q",
        "outputId": "6a928aac-a2b1-4dd4-8357-4f85a3409345"
      },
      "source": [
        "data_1=pd.read_csv('data-02.csv',names=['depth','Mag','date','N','X','NE'],skiprows=18,sep=',',engine='python')\n",
        "print(data_1)"
      ],
      "execution_count": null,
      "outputs": [
        {
          "output_type": "stream",
          "text": [
            "          depth  Mag  date    N   X  NE\n",
            "0    05/04/2010  4.0   3.8  4.0   1 NaN\n",
            "1    05/04/2010  3.7   3.5  3.7   1 NaN\n",
            "2    05/04/2010  3.8   3.5  3.8   1 NaN\n",
            "3    05/04/2010  3.5   3.3  3.5   1 NaN\n",
            "4    05/04/2010  4.0   3.8  4.0   1 NaN\n",
            "..          ...  ...   ...  ...  ..  ..\n",
            "413  07/07/2010  3.1   2.9  3.1  94 NaN\n",
            "414  08/07/2010  3.3   3.0  3.3  95 NaN\n",
            "415  09/07/2010  3.0   2.8  3.0  96 NaN\n",
            "416  11/07/2010  3.2   2.9  3.2  98 NaN\n",
            "417  12/07/2010  3.2   3.0  3.2  99 NaN\n",
            "\n",
            "[418 rows x 6 columns]\n"
          ],
          "name": "stdout"
        }
      ]
    },
    {
      "cell_type": "code",
      "metadata": {
        "colab": {
          "base_uri": "https://localhost:8080/",
          "height": 308
        },
        "id": "PZ5Dzm3lSz7B",
        "outputId": "5fc5ea28-03e9-4260-8b44-15b10abfa715"
      },
      "source": [
        "fig = plt.figure(figsize=(10,5))\n",
        "fig, ax = plt.subplots()\n",
        "\n",
        "plt.style.use('bmh')\n",
        "\n",
        "m=plt.hist(data_1['Mag'], bins=rango,facecolor='magenta', edgecolor='magenta')\n",
        "plt.xticks(rango,fontsize=6)\n",
        "ax.set_xlabel('Magnitud (Mw)')\n",
        "\n",
        "ax.set_ylabel('Número de eventos por días')\n",
        "ax.set_title('HISTOGRAMA DE MAGNITUD')\n",
        "\n",
        "_=plt.show()"
      ],
      "execution_count": null,
      "outputs": [
        {
          "output_type": "display_data",
          "data": {
            "text/plain": [
              "<Figure size 720x360 with 0 Axes>"
            ]
          },
          "metadata": {
            "tags": []
          }
        },
        {
          "output_type": "display_data",
          "data": {
            "image/png": "[encoded data removed]",
            "text/plain": [
              "<Figure size 432x288 with 1 Axes>"
            ]
          },
          "metadata": {
            "tags": [],
            "needs_background": "light"
          }
        }
      ]
    },
    {
      "cell_type": "code",
      "metadata": {
        "colab": {
          "base_uri": "https://localhost:8080/"
        },
        "id": "ofmY4jhUX2cb",
        "outputId": "34b2ab02-11bd-4b5f-d639-c489e35059b9"
      },
      "source": [
        "print(m[0])"
      ],
      "execution_count": null,
      "outputs": [
        {
          "output_type": "stream",
          "text": [
            "[  0.   0.   0.   0.   0.   0.   0.   0. 190.  63.  69.  34.  38.  11.\n",
            "   9.   2.   1.   1.   0.]\n"
          ],
          "name": "stdout"
        }
      ]
    },
    {
      "cell_type": "code",
      "metadata": {
        "id": "DPfSibluYDde"
      },
      "source": [
        "y_1=np.log(n[0][9:18]/561)\n"
      ],
      "execution_count": null,
      "outputs": []
    },
    {
      "cell_type": "code",
      "metadata": {
        "colab": {
          "base_uri": "https://localhost:8080/"
        },
        "id": "IcvlJaiXYMlL",
        "outputId": "d1ab87a0-4b0e-456f-9f5d-549189f1707d"
      },
      "source": [
        "m_1,b_1 = np.polyfit(rango[9:18],y_1,deg = 1)\n",
        "print(\"m:{}\\t b:{}\".format(m_1,b_1))"
      ],
      "execution_count": null,
      "outputs": [
        {
          "output_type": "stream",
          "text": [
            "m:-2.4254431126573683\t b:6.292796206162888\n"
          ],
          "name": "stdout"
        }
      ]
    },
    {
      "cell_type": "code",
      "metadata": {
        "id": "rSZ-pMQAYXKa"
      },
      "source": [
        "y_r0 = m_0*rango[9:18] +b_0"
      ],
      "execution_count": null,
      "outputs": []
    },
    {
      "cell_type": "code",
      "metadata": {
        "colab": {
          "base_uri": "https://localhost:8080/",
          "height": 296
        },
        "id": "KW-OQQiuY_NH",
        "outputId": "886385cf-6ec9-496a-844f-1ff5a2eda4fb"
      },
      "source": [
        "fig = plt.figure(figsize=(6,4))\n",
        "\n",
        "plt.plot(rango[9:18],y_1,'mo')\n",
        "plt.plot(rango[0:8],m[0][0:8],'mo')\n",
        "plt.plot(rango[9:18],y_r0,'--')\n",
        "\n",
        "plt.xlabel('Magnitud (Mw)')\n",
        "plt.ylabel('log(N/Ntotal)')\n",
        "plt.title('DISTRIBUCIÓN DE MAGNITUD')\n",
        "\n",
        "plt.rc('grid', linestyle=\"-\", color='gray')\n",
        "plt.grid(True)\n",
        "_=plt.show()"
      ],
      "execution_count": null,
      "outputs": [
        {
          "output_type": "display_data",
          "data": {
            "image/png": "[encoded data removed]",
            "text/plain": [
              "<Figure size 432x288 with 1 Axes>"
            ]
          },
          "metadata": {
            "tags": [],
            "needs_background": "light"
          }
        }
      ]
    }
  ]
}