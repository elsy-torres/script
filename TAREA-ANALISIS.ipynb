{
  "nbformat": 4,
  "nbformat_minor": 0,
  "metadata": {
    "colab": {
      "name": "FFT.ipynb",
      "provenance": [],
      "toc_visible": true,
      "authorship_tag": "ABX9TyMu6zZMEdjBMvK2VRusBLs+",
      "include_colab_link": true
    },
    "kernelspec": {
      "name": "python3",
      "display_name": "Python 3"
    }
  },
  "cells": [
    {
      "cell_type": "markdown",
      "metadata": {
        "id": "view-in-github",
        "colab_type": "text"
      },
      "source": [
        "<a href=\"https://colab.research.google.com/github/elsy-torres/script/blob/main/TAREA-ANALISIS.ipynb\" target=\"_parent\"><img src=\"https://colab.research.google.com/assets/colab-badge.svg\" alt=\"Open In Colab\"/></a>"
      ]
    },
    {
      "cell_type": "code",
      "metadata": {
        "id": "lAA33gEyMVTo"
      },
      "source": [
        "import matplotlib.pyplot as plt\n",
        "import pandas as pd\n",
        "import numpy as np\n",
        "from scipy import signal\n",
        "from scipy import fftpack"
      ],
      "execution_count": 16,
      "outputs": []
    },
    {
      "cell_type": "markdown",
      "metadata": {
        "id": "JEygYt6FRoHN"
      },
      "source": [
        "#Cargar datos "
      ]
    },
    {
      "cell_type": "code",
      "metadata": {
        "id": "uMU0-V7YRr5O",
        "outputId": "e5d6e398-8f75-463e-f6b3-ce30f4ba1cfd",
        "colab": {
          "base_uri": "https://localhost:8080/",
          "height": 359
        }
      },
      "source": [
        "data=pd.read_csv('NZ007.txt',names=['time','amp'],skiprows=3,sep='\\s+',engine='python')\n",
        "data.head(10)"
      ],
      "execution_count": 17,
      "outputs": [
        {
          "output_type": "execute_result",
          "data": {
            "text/html": [
              "<div>\n",
              "<style scoped>\n",
              "    .dataframe tbody tr th:only-of-type {\n",
              "        vertical-align: middle;\n",
              "    }\n",
              "\n",
              "    .dataframe tbody tr th {\n",
              "        vertical-align: top;\n",
              "    }\n",
              "\n",
              "    .dataframe thead th {\n",
              "        text-align: right;\n",
              "    }\n",
              "</style>\n",
              "<table border=\"1\" class=\"dataframe\">\n",
              "  <thead>\n",
              "    <tr style=\"text-align: right;\">\n",
              "      <th></th>\n",
              "      <th>time</th>\n",
              "      <th>amp</th>\n",
              "    </tr>\n",
              "  </thead>\n",
              "  <tbody>\n",
              "    <tr>\n",
              "      <th>0</th>\n",
              "      <td>0.00</td>\n",
              "      <td>-0.244690</td>\n",
              "    </tr>\n",
              "    <tr>\n",
              "      <th>1</th>\n",
              "      <td>0.02</td>\n",
              "      <td>0.055570</td>\n",
              "    </tr>\n",
              "    <tr>\n",
              "      <th>2</th>\n",
              "      <td>0.04</td>\n",
              "      <td>0.034080</td>\n",
              "    </tr>\n",
              "    <tr>\n",
              "      <th>3</th>\n",
              "      <td>0.06</td>\n",
              "      <td>-0.035078</td>\n",
              "    </tr>\n",
              "    <tr>\n",
              "      <th>4</th>\n",
              "      <td>0.08</td>\n",
              "      <td>0.065622</td>\n",
              "    </tr>\n",
              "    <tr>\n",
              "      <th>5</th>\n",
              "      <td>0.10</td>\n",
              "      <td>0.045962</td>\n",
              "    </tr>\n",
              "    <tr>\n",
              "      <th>6</th>\n",
              "      <td>0.12</td>\n",
              "      <td>0.007326</td>\n",
              "    </tr>\n",
              "    <tr>\n",
              "      <th>7</th>\n",
              "      <td>0.14</td>\n",
              "      <td>-0.012271</td>\n",
              "    </tr>\n",
              "    <tr>\n",
              "      <th>8</th>\n",
              "      <td>0.16</td>\n",
              "      <td>-0.046718</td>\n",
              "    </tr>\n",
              "    <tr>\n",
              "      <th>9</th>\n",
              "      <td>0.18</td>\n",
              "      <td>-0.049188</td>\n",
              "    </tr>\n",
              "  </tbody>\n",
              "</table>\n",
              "</div>"
            ],
            "text/plain": [
              "   time       amp\n",
              "0  0.00 -0.244690\n",
              "1  0.02  0.055570\n",
              "2  0.04  0.034080\n",
              "3  0.06 -0.035078\n",
              "4  0.08  0.065622\n",
              "5  0.10  0.045962\n",
              "6  0.12  0.007326\n",
              "7  0.14 -0.012271\n",
              "8  0.16 -0.046718\n",
              "9  0.18 -0.049188"
            ]
          },
          "metadata": {
            "tags": []
          },
          "execution_count": 17
        }
      ]
    },
    {
      "cell_type": "code",
      "metadata": {
        "id": "SxhtkwqgCt4h",
        "outputId": "37085a45-fc57-42f8-bbfe-1870bfe618a8",
        "colab": {
          "base_uri": "https://localhost:8080/"
        }
      },
      "source": [
        "y_1= data['amp'].iloc[0:6000]\n",
        "print(len(y_1))"
      ],
      "execution_count": 18,
      "outputs": [
        {
          "output_type": "stream",
          "text": [
            "6000\n"
          ],
          "name": "stdout"
        }
      ]
    },
    {
      "cell_type": "code",
      "metadata": {
        "id": "04xHBhjoSA5g",
        "outputId": "71e25633-562b-4344-aff9-4303af32ae52",
        "colab": {
          "base_uri": "https://localhost:8080/",
          "height": 204
        }
      },
      "source": [
        "data.tail()"
      ],
      "execution_count": 19,
      "outputs": [
        {
          "output_type": "execute_result",
          "data": {
            "text/html": [
              "<div>\n",
              "<style scoped>\n",
              "    .dataframe tbody tr th:only-of-type {\n",
              "        vertical-align: middle;\n",
              "    }\n",
              "\n",
              "    .dataframe tbody tr th {\n",
              "        vertical-align: top;\n",
              "    }\n",
              "\n",
              "    .dataframe thead th {\n",
              "        text-align: right;\n",
              "    }\n",
              "</style>\n",
              "<table border=\"1\" class=\"dataframe\">\n",
              "  <thead>\n",
              "    <tr style=\"text-align: right;\">\n",
              "      <th></th>\n",
              "      <th>time</th>\n",
              "      <th>amp</th>\n",
              "    </tr>\n",
              "  </thead>\n",
              "  <tbody>\n",
              "    <tr>\n",
              "      <th>16443</th>\n",
              "      <td>328.86</td>\n",
              "      <td>0.72716</td>\n",
              "    </tr>\n",
              "    <tr>\n",
              "      <th>16444</th>\n",
              "      <td>328.88</td>\n",
              "      <td>0.61736</td>\n",
              "    </tr>\n",
              "    <tr>\n",
              "      <th>16445</th>\n",
              "      <td>328.90</td>\n",
              "      <td>0.54991</td>\n",
              "    </tr>\n",
              "    <tr>\n",
              "      <th>16446</th>\n",
              "      <td>328.92</td>\n",
              "      <td>0.59976</td>\n",
              "    </tr>\n",
              "    <tr>\n",
              "      <th>16447</th>\n",
              "      <td>328.94</td>\n",
              "      <td>0.41080</td>\n",
              "    </tr>\n",
              "  </tbody>\n",
              "</table>\n",
              "</div>"
            ],
            "text/plain": [
              "         time      amp\n",
              "16443  328.86  0.72716\n",
              "16444  328.88  0.61736\n",
              "16445  328.90  0.54991\n",
              "16446  328.92  0.59976\n",
              "16447  328.94  0.41080"
            ]
          },
          "metadata": {
            "tags": []
          },
          "execution_count": 19
        }
      ]
    },
    {
      "cell_type": "code",
      "metadata": {
        "id": "G4lctop-R0Ld",
        "outputId": "9d6e1953-c4f4-4d67-ded2-a2f17892a221",
        "colab": {
          "base_uri": "https://localhost:8080/"
        }
      },
      "source": [
        "print(len(data))"
      ],
      "execution_count": 20,
      "outputs": [
        {
          "output_type": "stream",
          "text": [
            "16448\n"
          ],
          "name": "stdout"
        }
      ]
    },
    {
      "cell_type": "markdown",
      "metadata": {
        "id": "s5eB2LoUR8Cf"
      },
      "source": [
        "# Declarar vector en el dominio de la frcuencia"
      ]
    },
    {
      "cell_type": "markdown",
      "metadata": {
        "id": "a5KZOf5lTOGp"
      },
      "source": [
        "##Vector para el sismograma completo"
      ]
    },
    {
      "cell_type": "code",
      "metadata": {
        "id": "ioFi6MacR7Ma",
        "outputId": "3ec51169-3c52-41e7-dccc-3ab5f0efca4e",
        "colab": {
          "base_uri": "https://localhost:8080/"
        }
      },
      "source": [
        "fo=1/328.94\n",
        "N=len(data)\n",
        "F_N=(N/2)*fo\n",
        "t=np.arange(fo,F_N,fo)\n",
        "print(t)"
      ],
      "execution_count": 21,
      "outputs": [
        {
          "output_type": "stream",
          "text": [
            "[3.04006810e-03 6.08013620e-03 9.12020429e-03 ... 2.49923998e+01\n",
            " 2.49954399e+01 2.49984800e+01]\n"
          ],
          "name": "stdout"
        }
      ]
    },
    {
      "cell_type": "code",
      "metadata": {
        "id": "RiqK_M2g-R64"
      },
      "source": [
        ""
      ],
      "execution_count": 21,
      "outputs": []
    },
    {
      "cell_type": "code",
      "metadata": {
        "id": "J3RoEP5c5qXZ"
      },
      "source": [
        "fo=1/120\n",
        "n=len(y_1)\n",
        "F_N1=(n/2)*fo\n",
        "f_1=np.arange(0,F_N1,fo)"
      ],
      "execution_count": 22,
      "outputs": []
    },
    {
      "cell_type": "code",
      "metadata": {
        "id": "tcG5ceUC-6wV"
      },
      "source": [
        "#f_2=np.arange(120*fo,F_N1,fo)\n",
        "#print(f_2)"
      ],
      "execution_count": 23,
      "outputs": []
    },
    {
      "cell_type": "code",
      "metadata": {
        "id": "ZRs5Va7e6NHI"
      },
      "source": [
        "#print(len(f_2))"
      ],
      "execution_count": 24,
      "outputs": []
    },
    {
      "cell_type": "markdown",
      "metadata": {
        "id": "wPeqW4zXopQG"
      },
      "source": [
        "# Vector de tiempo de 0 a 120 s"
      ]
    },
    {
      "cell_type": "code",
      "metadata": {
        "id": "kyZoegNGb_vU",
        "outputId": "e9c95bab-8678-44c2-e00f-b1742383b6e5",
        "colab": {
          "base_uri": "https://localhost:8080/"
        }
      },
      "source": [
        "t_1= np.arange(0,120,0.02)\n",
        "print(len(t_1))"
      ],
      "execution_count": 25,
      "outputs": [
        {
          "output_type": "stream",
          "text": [
            "6000\n"
          ],
          "name": "stdout"
        }
      ]
    },
    {
      "cell_type": "markdown",
      "metadata": {
        "id": "ExGBj3oqoyEP"
      },
      "source": [
        "# Vector de tiempo de 120 a 240 s"
      ]
    },
    {
      "cell_type": "code",
      "metadata": {
        "id": "JfyajrXxof8z",
        "outputId": "894526d3-916d-4731-fc23-26ab3f65686d",
        "colab": {
          "base_uri": "https://localhost:8080/"
        }
      },
      "source": [
        "t_2=np.arange(120,240,0.02)\n",
        "print(len(t_2))"
      ],
      "execution_count": 26,
      "outputs": [
        {
          "output_type": "stream",
          "text": [
            "6000\n"
          ],
          "name": "stdout"
        }
      ]
    },
    {
      "cell_type": "code",
      "metadata": {
        "id": "1iivvSG3S4Kp",
        "outputId": "58d3e708-3194-4b4c-dd0e-424cb7290703",
        "colab": {
          "base_uri": "https://localhost:8080/"
        }
      },
      "source": [
        "y_1= data['amp'].iloc[0:6000]\n",
        "print(len(y_1))"
      ],
      "execution_count": 27,
      "outputs": [
        {
          "output_type": "stream",
          "text": [
            "6000\n"
          ],
          "name": "stdout"
        }
      ]
    },
    {
      "cell_type": "code",
      "metadata": {
        "id": "U7i9JS97pVOp",
        "outputId": "3ca2a702-dc6f-407d-f5a1-013da22ea69d",
        "colab": {
          "base_uri": "https://localhost:8080/"
        }
      },
      "source": [
        "y_2=data['amp'].iloc[6000:12000]\n",
        "print(len(y_2))"
      ],
      "execution_count": 28,
      "outputs": [
        {
          "output_type": "stream",
          "text": [
            "6000\n"
          ],
          "name": "stdout"
        }
      ]
    },
    {
      "cell_type": "markdown",
      "metadata": {
        "id": "bVsLTHpEVqdD"
      },
      "source": [
        "# Declarar vector de filtro"
      ]
    },
    {
      "cell_type": "code",
      "metadata": {
        "id": "MtHRaxtdVr-N",
        "outputId": "3198ec84-e383-43aa-faf6-898551c1b6d4",
        "colab": {
          "base_uri": "https://localhost:8080/",
          "height": 0
        }
      },
      "source": [
        "data['filtro']=1\n",
        "data"
      ],
      "execution_count": 29,
      "outputs": [
        {
          "output_type": "execute_result",
          "data": {
            "text/html": [
              "<div>\n",
              "<style scoped>\n",
              "    .dataframe tbody tr th:only-of-type {\n",
              "        vertical-align: middle;\n",
              "    }\n",
              "\n",
              "    .dataframe tbody tr th {\n",
              "        vertical-align: top;\n",
              "    }\n",
              "\n",
              "    .dataframe thead th {\n",
              "        text-align: right;\n",
              "    }\n",
              "</style>\n",
              "<table border=\"1\" class=\"dataframe\">\n",
              "  <thead>\n",
              "    <tr style=\"text-align: right;\">\n",
              "      <th></th>\n",
              "      <th>time</th>\n",
              "      <th>amp</th>\n",
              "      <th>filtro</th>\n",
              "    </tr>\n",
              "  </thead>\n",
              "  <tbody>\n",
              "    <tr>\n",
              "      <th>0</th>\n",
              "      <td>0.00</td>\n",
              "      <td>-0.244690</td>\n",
              "      <td>1</td>\n",
              "    </tr>\n",
              "    <tr>\n",
              "      <th>1</th>\n",
              "      <td>0.02</td>\n",
              "      <td>0.055570</td>\n",
              "      <td>1</td>\n",
              "    </tr>\n",
              "    <tr>\n",
              "      <th>2</th>\n",
              "      <td>0.04</td>\n",
              "      <td>0.034080</td>\n",
              "      <td>1</td>\n",
              "    </tr>\n",
              "    <tr>\n",
              "      <th>3</th>\n",
              "      <td>0.06</td>\n",
              "      <td>-0.035078</td>\n",
              "      <td>1</td>\n",
              "    </tr>\n",
              "    <tr>\n",
              "      <th>4</th>\n",
              "      <td>0.08</td>\n",
              "      <td>0.065622</td>\n",
              "      <td>1</td>\n",
              "    </tr>\n",
              "    <tr>\n",
              "      <th>...</th>\n",
              "      <td>...</td>\n",
              "      <td>...</td>\n",
              "      <td>...</td>\n",
              "    </tr>\n",
              "    <tr>\n",
              "      <th>16443</th>\n",
              "      <td>328.86</td>\n",
              "      <td>0.727160</td>\n",
              "      <td>1</td>\n",
              "    </tr>\n",
              "    <tr>\n",
              "      <th>16444</th>\n",
              "      <td>328.88</td>\n",
              "      <td>0.617360</td>\n",
              "      <td>1</td>\n",
              "    </tr>\n",
              "    <tr>\n",
              "      <th>16445</th>\n",
              "      <td>328.90</td>\n",
              "      <td>0.549910</td>\n",
              "      <td>1</td>\n",
              "    </tr>\n",
              "    <tr>\n",
              "      <th>16446</th>\n",
              "      <td>328.92</td>\n",
              "      <td>0.599760</td>\n",
              "      <td>1</td>\n",
              "    </tr>\n",
              "    <tr>\n",
              "      <th>16447</th>\n",
              "      <td>328.94</td>\n",
              "      <td>0.410800</td>\n",
              "      <td>1</td>\n",
              "    </tr>\n",
              "  </tbody>\n",
              "</table>\n",
              "<p>16448 rows × 3 columns</p>\n",
              "</div>"
            ],
            "text/plain": [
              "         time       amp  filtro\n",
              "0        0.00 -0.244690       1\n",
              "1        0.02  0.055570       1\n",
              "2        0.04  0.034080       1\n",
              "3        0.06 -0.035078       1\n",
              "4        0.08  0.065622       1\n",
              "...       ...       ...     ...\n",
              "16443  328.86  0.727160       1\n",
              "16444  328.88  0.617360       1\n",
              "16445  328.90  0.549910       1\n",
              "16446  328.92  0.599760       1\n",
              "16447  328.94  0.410800       1\n",
              "\n",
              "[16448 rows x 3 columns]"
            ]
          },
          "metadata": {
            "tags": []
          },
          "execution_count": 29
        }
      ]
    },
    {
      "cell_type": "code",
      "metadata": {
        "id": "CpxSmIgxq6Ul"
      },
      "source": [
        "#matriz=np.ones(len(t_1)),np.ones(len(t_2))\n",
        "#print(matriz)\n",
        "#print(matriz[0])"
      ],
      "execution_count": 30,
      "outputs": []
    },
    {
      "cell_type": "code",
      "metadata": {
        "id": "PWOhPJpC3HET"
      },
      "source": [
        "filtro_1=np.ones(len(t_1))"
      ],
      "execution_count": 31,
      "outputs": []
    },
    {
      "cell_type": "code",
      "metadata": {
        "id": "33rCaJVwVy0x",
        "outputId": "99123a17-3ec9-41f1-bfb9-db5c3daf5993",
        "colab": {
          "base_uri": "https://localhost:8080/",
          "height": 0
        }
      },
      "source": [
        "data['filtro'].iloc[data.index<1000]=signal.cosine(1000)\n",
        "data['filtro'].iloc[data.index>15447]=signal.cosine(1000)\n",
        "data.tail()"
      ],
      "execution_count": 32,
      "outputs": [
        {
          "output_type": "stream",
          "text": [
            "/usr/local/lib/python3.6/dist-packages/pandas/core/indexing.py:670: SettingWithCopyWarning: \n",
            "A value is trying to be set on a copy of a slice from a DataFrame\n",
            "\n",
            "See the caveats in the documentation: https://pandas.pydata.org/pandas-docs/stable/user_guide/indexing.html#returning-a-view-versus-a-copy\n",
            "  iloc._setitem_with_indexer(indexer, value)\n"
          ],
          "name": "stderr"
        },
        {
          "output_type": "execute_result",
          "data": {
            "text/html": [
              "<div>\n",
              "<style scoped>\n",
              "    .dataframe tbody tr th:only-of-type {\n",
              "        vertical-align: middle;\n",
              "    }\n",
              "\n",
              "    .dataframe tbody tr th {\n",
              "        vertical-align: top;\n",
              "    }\n",
              "\n",
              "    .dataframe thead th {\n",
              "        text-align: right;\n",
              "    }\n",
              "</style>\n",
              "<table border=\"1\" class=\"dataframe\">\n",
              "  <thead>\n",
              "    <tr style=\"text-align: right;\">\n",
              "      <th></th>\n",
              "      <th>time</th>\n",
              "      <th>amp</th>\n",
              "      <th>filtro</th>\n",
              "    </tr>\n",
              "  </thead>\n",
              "  <tbody>\n",
              "    <tr>\n",
              "      <th>16443</th>\n",
              "      <td>328.86</td>\n",
              "      <td>0.72716</td>\n",
              "      <td>0.014137</td>\n",
              "    </tr>\n",
              "    <tr>\n",
              "      <th>16444</th>\n",
              "      <td>328.88</td>\n",
              "      <td>0.61736</td>\n",
              "      <td>0.010995</td>\n",
              "    </tr>\n",
              "    <tr>\n",
              "      <th>16445</th>\n",
              "      <td>328.90</td>\n",
              "      <td>0.54991</td>\n",
              "      <td>0.007854</td>\n",
              "    </tr>\n",
              "    <tr>\n",
              "      <th>16446</th>\n",
              "      <td>328.92</td>\n",
              "      <td>0.59976</td>\n",
              "      <td>0.004712</td>\n",
              "    </tr>\n",
              "    <tr>\n",
              "      <th>16447</th>\n",
              "      <td>328.94</td>\n",
              "      <td>0.41080</td>\n",
              "      <td>0.001571</td>\n",
              "    </tr>\n",
              "  </tbody>\n",
              "</table>\n",
              "</div>"
            ],
            "text/plain": [
              "         time      amp    filtro\n",
              "16443  328.86  0.72716  0.014137\n",
              "16444  328.88  0.61736  0.010995\n",
              "16445  328.90  0.54991  0.007854\n",
              "16446  328.92  0.59976  0.004712\n",
              "16447  328.94  0.41080  0.001571"
            ]
          },
          "metadata": {
            "tags": []
          },
          "execution_count": 32
        }
      ]
    },
    {
      "cell_type": "code",
      "metadata": {
        "id": "X6dNwcMOyjdp"
      },
      "source": [
        "filtro_1[0:600]=signal.cosine(600)\n",
        "filtro_1[5400:6000]=signal.cosine(600)"
      ],
      "execution_count": 33,
      "outputs": []
    },
    {
      "cell_type": "code",
      "metadata": {
        "id": "v23LVVbT2Mb-",
        "outputId": "dbee4ee6-6d42-4de2-91bc-fc189959f277",
        "colab": {
          "base_uri": "https://localhost:8080/"
        }
      },
      "source": [
        "signal_filter_1=filtro_1*y_1\n",
        "print(signal_filter_1)"
      ],
      "execution_count": 34,
      "outputs": [
        {
          "output_type": "stream",
          "text": [
            "0      -0.000641\n",
            "1       0.000436\n",
            "2       0.000446\n",
            "3      -0.000643\n",
            "4       0.001546\n",
            "          ...   \n",
            "5995   -0.081302\n",
            "5996   -0.061997\n",
            "5997   -0.045641\n",
            "5998   -0.032686\n",
            "5999   -0.011643\n",
            "Name: amp, Length: 6000, dtype: float64\n"
          ],
          "name": "stdout"
        }
      ]
    },
    {
      "cell_type": "code",
      "metadata": {
        "id": "RVZtvSqw2QUU",
        "outputId": "238149fe-28ee-4d97-ab97-9b032338d253",
        "colab": {
          "base_uri": "https://localhost:8080/"
        }
      },
      "source": [
        "signal_filter_2=filtro_1*y_2\n",
        "print(signal_filter_2)"
      ],
      "execution_count": 35,
      "outputs": [
        {
          "output_type": "stream",
          "text": [
            "6000    -0.011314\n",
            "6001    -0.034751\n",
            "6002    -0.062011\n",
            "6003    -0.088649\n",
            "6004    -0.111235\n",
            "           ...   \n",
            "11995   -0.067084\n",
            "11996   -0.052615\n",
            "11997   -0.038596\n",
            "11998   -0.023003\n",
            "11999   -0.007696\n",
            "Name: amp, Length: 6000, dtype: float64\n"
          ],
          "name": "stdout"
        }
      ]
    },
    {
      "cell_type": "code",
      "metadata": {
        "id": "-_tVY2HZWEvJ",
        "outputId": "6afae569-4b16-453a-bd52-ea2345193328",
        "colab": {
          "base_uri": "https://localhost:8080/",
          "height": 0
        }
      },
      "source": [
        "data['signal_filter']= data['filtro']*data['amp']\n",
        "data.head()"
      ],
      "execution_count": 36,
      "outputs": [
        {
          "output_type": "execute_result",
          "data": {
            "text/html": [
              "<div>\n",
              "<style scoped>\n",
              "    .dataframe tbody tr th:only-of-type {\n",
              "        vertical-align: middle;\n",
              "    }\n",
              "\n",
              "    .dataframe tbody tr th {\n",
              "        vertical-align: top;\n",
              "    }\n",
              "\n",
              "    .dataframe thead th {\n",
              "        text-align: right;\n",
              "    }\n",
              "</style>\n",
              "<table border=\"1\" class=\"dataframe\">\n",
              "  <thead>\n",
              "    <tr style=\"text-align: right;\">\n",
              "      <th></th>\n",
              "      <th>time</th>\n",
              "      <th>amp</th>\n",
              "      <th>filtro</th>\n",
              "      <th>signal_filter</th>\n",
              "    </tr>\n",
              "  </thead>\n",
              "  <tbody>\n",
              "    <tr>\n",
              "      <th>0</th>\n",
              "      <td>0.00</td>\n",
              "      <td>-0.244690</td>\n",
              "      <td>0.001571</td>\n",
              "      <td>-0.000384</td>\n",
              "    </tr>\n",
              "    <tr>\n",
              "      <th>1</th>\n",
              "      <td>0.02</td>\n",
              "      <td>0.055570</td>\n",
              "      <td>0.004712</td>\n",
              "      <td>0.000262</td>\n",
              "    </tr>\n",
              "    <tr>\n",
              "      <th>2</th>\n",
              "      <td>0.04</td>\n",
              "      <td>0.034080</td>\n",
              "      <td>0.007854</td>\n",
              "      <td>0.000268</td>\n",
              "    </tr>\n",
              "    <tr>\n",
              "      <th>3</th>\n",
              "      <td>0.06</td>\n",
              "      <td>-0.035078</td>\n",
              "      <td>0.010995</td>\n",
              "      <td>-0.000386</td>\n",
              "    </tr>\n",
              "    <tr>\n",
              "      <th>4</th>\n",
              "      <td>0.08</td>\n",
              "      <td>0.065622</td>\n",
              "      <td>0.014137</td>\n",
              "      <td>0.000928</td>\n",
              "    </tr>\n",
              "  </tbody>\n",
              "</table>\n",
              "</div>"
            ],
            "text/plain": [
              "   time       amp    filtro  signal_filter\n",
              "0  0.00 -0.244690  0.001571      -0.000384\n",
              "1  0.02  0.055570  0.004712       0.000262\n",
              "2  0.04  0.034080  0.007854       0.000268\n",
              "3  0.06 -0.035078  0.010995      -0.000386\n",
              "4  0.08  0.065622  0.014137       0.000928"
            ]
          },
          "metadata": {
            "tags": []
          },
          "execution_count": 36
        }
      ]
    },
    {
      "cell_type": "markdown",
      "metadata": {
        "id": "roi3rT7bWYkx"
      },
      "source": [
        "# Gráficos"
      ]
    },
    {
      "cell_type": "code",
      "metadata": {
        "id": "g8LDbKd4WShA",
        "outputId": "f170dd8e-2afe-4b5d-a92c-663516abf58c",
        "colab": {
          "base_uri": "https://localhost:8080/",
          "height": 0
        }
      },
      "source": [
        "plt.plot(data['time'],data['amp'])\n",
        "_=plt.show()"
      ],
      "execution_count": 37,
      "outputs": [
        {
          "output_type": "display_data",
          "data": {
            "image/png": "[encoded data removed]",
            "text/plain": [
              "<Figure size 432x288 with 1 Axes>"
            ]
          },
          "metadata": {
            "tags": [],
            "needs_background": "light"
          }
        }
      ]
    },
    {
      "cell_type": "code",
      "metadata": {
        "id": "4Ql-wK40WdIF",
        "outputId": "eb34968c-765a-47a8-d01e-b56b62b31e7f",
        "colab": {
          "base_uri": "https://localhost:8080/",
          "height": 0
        }
      },
      "source": [
        "plt.plot(data['time'],data['signal_filter'])\n",
        "_=plt.show()"
      ],
      "execution_count": 38,
      "outputs": [
        {
          "output_type": "display_data",
          "data": {
            "image/png": "[encoded data removed]",
            "text/plain": [
              "<Figure size 432x288 with 1 Axes>"
            ]
          },
          "metadata": {
            "tags": [],
            "needs_background": "light"
          }
        }
      ]
    },
    {
      "cell_type": "markdown",
      "metadata": {
        "id": "nfKN_yXxpv-j"
      },
      "source": [
        "# Cortes de ventana de 0-120, 120-240 sin filtrar\n"
      ]
    },
    {
      "cell_type": "code",
      "metadata": {
        "id": "NVuuQD9_b90O",
        "outputId": "8871608d-9406-43c1-a4c1-650cbe6247f8",
        "colab": {
          "base_uri": "https://localhost:8080/",
          "height": 0
        }
      },
      "source": [
        "plt.plot(t_1,y_1)\n",
        "_=plt.show()"
      ],
      "execution_count": 39,
      "outputs": [
        {
          "output_type": "display_data",
          "data": {
            "image/png": "[encoded data removed]",
            "text/plain": [
              "<Figure size 432x288 with 1 Axes>"
            ]
          },
          "metadata": {
            "tags": [],
            "needs_background": "light"
          }
        }
      ]
    },
    {
      "cell_type": "code",
      "metadata": {
        "id": "KVX6nwtO3xmV",
        "outputId": "a0031349-b229-4145-e615-195b180d93af",
        "colab": {
          "base_uri": "https://localhost:8080/",
          "height": 0
        }
      },
      "source": [
        "plt.plot(t_1,signal_filter_1)\n",
        "_=plt.show()"
      ],
      "execution_count": 40,
      "outputs": [
        {
          "output_type": "display_data",
          "data": {
            "image/png": "[encoded data removed]",
            "text/plain": [
              "<Figure size 432x288 with 1 Axes>"
            ]
          },
          "metadata": {
            "tags": [],
            "needs_background": "light"
          }
        }
      ]
    },
    {
      "cell_type": "code",
      "metadata": {
        "id": "_-TKJzqIp5uv",
        "outputId": "110caa91-f508-4b8f-fa01-27d0332d2df3",
        "colab": {
          "base_uri": "https://localhost:8080/",
          "height": 0
        }
      },
      "source": [
        "plt.plot(t_2,y_2)\n",
        "_=plt.show()"
      ],
      "execution_count": 41,
      "outputs": [
        {
          "output_type": "display_data",
          "data": {
            "image/png": "[encoded data removed]",
            "text/plain": [
              "<Figure size 432x288 with 1 Axes>"
            ]
          },
          "metadata": {
            "tags": [],
            "needs_background": "light"
          }
        }
      ]
    },
    {
      "cell_type": "code",
      "metadata": {
        "id": "mH5CIbFu34mj",
        "outputId": "59659e77-2f26-4875-a41a-290125b04da3",
        "colab": {
          "base_uri": "https://localhost:8080/",
          "height": 0
        }
      },
      "source": [
        "plt.plot(t_2,signal_filter_2)\n",
        "_=plt.show()"
      ],
      "execution_count": 42,
      "outputs": [
        {
          "output_type": "display_data",
          "data": {
            "image/png": "[encoded data removed]",
            "text/plain": [
              "<Figure size 432x288 with 1 Axes>"
            ]
          },
          "metadata": {
            "tags": [],
            "needs_background": "light"
          }
        }
      ]
    },
    {
      "cell_type": "markdown",
      "metadata": {
        "id": "pdqcrarrWlwL"
      },
      "source": [
        "# Realizar la transformada"
      ]
    },
    {
      "cell_type": "code",
      "metadata": {
        "id": "x5ztZcEAWSfa",
        "outputId": "a678b278-0981-43ca-94ec-e13532acb75d",
        "colab": {
          "base_uri": "https://localhost:8080/",
          "height": 0
        }
      },
      "source": [
        "data['fft']=np.fft.fft(data['signal_filter'])\n",
        "data.head()"
      ],
      "execution_count": 43,
      "outputs": [
        {
          "output_type": "execute_result",
          "data": {
            "text/html": [
              "<div>\n",
              "<style scoped>\n",
              "    .dataframe tbody tr th:only-of-type {\n",
              "        vertical-align: middle;\n",
              "    }\n",
              "\n",
              "    .dataframe tbody tr th {\n",
              "        vertical-align: top;\n",
              "    }\n",
              "\n",
              "    .dataframe thead th {\n",
              "        text-align: right;\n",
              "    }\n",
              "</style>\n",
              "<table border=\"1\" class=\"dataframe\">\n",
              "  <thead>\n",
              "    <tr style=\"text-align: right;\">\n",
              "      <th></th>\n",
              "      <th>time</th>\n",
              "      <th>amp</th>\n",
              "      <th>filtro</th>\n",
              "      <th>signal_filter</th>\n",
              "      <th>fft</th>\n",
              "    </tr>\n",
              "  </thead>\n",
              "  <tbody>\n",
              "    <tr>\n",
              "      <th>0</th>\n",
              "      <td>0.00</td>\n",
              "      <td>-0.244690</td>\n",
              "      <td>0.001571</td>\n",
              "      <td>-0.000384</td>\n",
              "      <td>13.838794-0.000000j</td>\n",
              "    </tr>\n",
              "    <tr>\n",
              "      <th>1</th>\n",
              "      <td>0.02</td>\n",
              "      <td>0.055570</td>\n",
              "      <td>0.004712</td>\n",
              "      <td>0.000262</td>\n",
              "      <td>43.041462+22.215780j</td>\n",
              "    </tr>\n",
              "    <tr>\n",
              "      <th>2</th>\n",
              "      <td>0.04</td>\n",
              "      <td>0.034080</td>\n",
              "      <td>0.007854</td>\n",
              "      <td>0.000268</td>\n",
              "      <td>3.100171+29.423475j</td>\n",
              "    </tr>\n",
              "    <tr>\n",
              "      <th>3</th>\n",
              "      <td>0.06</td>\n",
              "      <td>-0.035078</td>\n",
              "      <td>0.010995</td>\n",
              "      <td>-0.000386</td>\n",
              "      <td>23.437134+54.915609j</td>\n",
              "    </tr>\n",
              "    <tr>\n",
              "      <th>4</th>\n",
              "      <td>0.08</td>\n",
              "      <td>0.065622</td>\n",
              "      <td>0.014137</td>\n",
              "      <td>0.000928</td>\n",
              "      <td>-22.689074+36.965522j</td>\n",
              "    </tr>\n",
              "  </tbody>\n",
              "</table>\n",
              "</div>"
            ],
            "text/plain": [
              "   time       amp    filtro  signal_filter                   fft\n",
              "0  0.00 -0.244690  0.001571      -0.000384   13.838794-0.000000j\n",
              "1  0.02  0.055570  0.004712       0.000262  43.041462+22.215780j\n",
              "2  0.04  0.034080  0.007854       0.000268   3.100171+29.423475j\n",
              "3  0.06 -0.035078  0.010995      -0.000386  23.437134+54.915609j\n",
              "4  0.08  0.065622  0.014137       0.000928 -22.689074+36.965522j"
            ]
          },
          "metadata": {
            "tags": []
          },
          "execution_count": 43
        }
      ]
    },
    {
      "cell_type": "code",
      "metadata": {
        "id": "zVJJuvPcPH0X",
        "outputId": "76613def-71e4-46b7-b77e-9b865d3d0f34",
        "colab": {
          "base_uri": "https://localhost:8080/"
        }
      },
      "source": [
        "n_max=np.max(data['fft'])\n",
        "print(n_max)"
      ],
      "execution_count": 44,
      "outputs": [
        {
          "output_type": "stream",
          "text": [
            "(15736.778162199342+207.93518572416633j)\n"
          ],
          "name": "stdout"
        }
      ]
    },
    {
      "cell_type": "code",
      "metadata": {
        "id": "H9pWlgO24q_j",
        "outputId": "2f339d43-804b-4c0b-df86-719f38e1d8a0",
        "colab": {
          "base_uri": "https://localhost:8080/"
        }
      },
      "source": [
        "fft_1=np.fft.fft(signal_filter_1)\n",
        "print(fft_1)"
      ],
      "execution_count": 45,
      "outputs": [
        {
          "output_type": "stream",
          "text": [
            "[89.40948361 +0.j         88.0897012  -3.24456974j\n",
            " 82.5949093  +2.10771775j ... 69.861184  -18.50110287j\n",
            " 82.5949093  -2.10771775j 88.0897012  +3.24456974j]\n"
          ],
          "name": "stdout"
        }
      ]
    },
    {
      "cell_type": "code",
      "metadata": {
        "id": "_XxjWfCF4ybE",
        "outputId": "3078739c-2ec2-4da2-f48c-dff7d3b25d39",
        "colab": {
          "base_uri": "https://localhost:8080/"
        }
      },
      "source": [
        "fft_2=np.fft.fft(signal_filter_2)\n",
        "print(fft_2)"
      ],
      "execution_count": 46,
      "outputs": [
        {
          "output_type": "stream",
          "text": [
            "[501.95929115  +0.j         449.13224274-146.02838955j\n",
            " 264.17885501-279.02881248j ... -39.03984732+269.77143875j\n",
            " 264.17885501+279.02881248j 449.13224274+146.02838955j]\n"
          ],
          "name": "stdout"
        }
      ]
    },
    {
      "cell_type": "markdown",
      "metadata": {
        "id": "8taa3TUlWwt4"
      },
      "source": [
        "#Calcular la amplitud espectral"
      ]
    },
    {
      "cell_type": "code",
      "metadata": {
        "id": "TYp8BciAWvPW",
        "outputId": "19847a2a-acb1-4b10-805b-207fe962aeb6",
        "colab": {
          "base_uri": "https://localhost:8080/",
          "height": 0
        }
      },
      "source": [
        "data['asb']= ((np.absolute(data['fft']))/16448)*2\n",
        "data.head()"
      ],
      "execution_count": 47,
      "outputs": [
        {
          "output_type": "execute_result",
          "data": {
            "text/html": [
              "<div>\n",
              "<style scoped>\n",
              "    .dataframe tbody tr th:only-of-type {\n",
              "        vertical-align: middle;\n",
              "    }\n",
              "\n",
              "    .dataframe tbody tr th {\n",
              "        vertical-align: top;\n",
              "    }\n",
              "\n",
              "    .dataframe thead th {\n",
              "        text-align: right;\n",
              "    }\n",
              "</style>\n",
              "<table border=\"1\" class=\"dataframe\">\n",
              "  <thead>\n",
              "    <tr style=\"text-align: right;\">\n",
              "      <th></th>\n",
              "      <th>time</th>\n",
              "      <th>amp</th>\n",
              "      <th>filtro</th>\n",
              "      <th>signal_filter</th>\n",
              "      <th>fft</th>\n",
              "      <th>asb</th>\n",
              "    </tr>\n",
              "  </thead>\n",
              "  <tbody>\n",
              "    <tr>\n",
              "      <th>0</th>\n",
              "      <td>0.00</td>\n",
              "      <td>-0.244690</td>\n",
              "      <td>0.001571</td>\n",
              "      <td>-0.000384</td>\n",
              "      <td>13.838794-0.000000j</td>\n",
              "      <td>0.001683</td>\n",
              "    </tr>\n",
              "    <tr>\n",
              "      <th>1</th>\n",
              "      <td>0.02</td>\n",
              "      <td>0.055570</td>\n",
              "      <td>0.004712</td>\n",
              "      <td>0.000262</td>\n",
              "      <td>43.041462+22.215780j</td>\n",
              "      <td>0.005890</td>\n",
              "    </tr>\n",
              "    <tr>\n",
              "      <th>2</th>\n",
              "      <td>0.04</td>\n",
              "      <td>0.034080</td>\n",
              "      <td>0.007854</td>\n",
              "      <td>0.000268</td>\n",
              "      <td>3.100171+29.423475j</td>\n",
              "      <td>0.003598</td>\n",
              "    </tr>\n",
              "    <tr>\n",
              "      <th>3</th>\n",
              "      <td>0.06</td>\n",
              "      <td>-0.035078</td>\n",
              "      <td>0.010995</td>\n",
              "      <td>-0.000386</td>\n",
              "      <td>23.437134+54.915609j</td>\n",
              "      <td>0.007260</td>\n",
              "    </tr>\n",
              "    <tr>\n",
              "      <th>4</th>\n",
              "      <td>0.08</td>\n",
              "      <td>0.065622</td>\n",
              "      <td>0.014137</td>\n",
              "      <td>0.000928</td>\n",
              "      <td>-22.689074+36.965522j</td>\n",
              "      <td>0.005274</td>\n",
              "    </tr>\n",
              "  </tbody>\n",
              "</table>\n",
              "</div>"
            ],
            "text/plain": [
              "   time       amp    filtro  signal_filter                   fft       asb\n",
              "0  0.00 -0.244690  0.001571      -0.000384   13.838794-0.000000j  0.001683\n",
              "1  0.02  0.055570  0.004712       0.000262  43.041462+22.215780j  0.005890\n",
              "2  0.04  0.034080  0.007854       0.000268   3.100171+29.423475j  0.003598\n",
              "3  0.06 -0.035078  0.010995      -0.000386  23.437134+54.915609j  0.007260\n",
              "4  0.08  0.065622  0.014137       0.000928 -22.689074+36.965522j  0.005274"
            ]
          },
          "metadata": {
            "tags": []
          },
          "execution_count": 47
        }
      ]
    },
    {
      "cell_type": "code",
      "metadata": {
        "id": "YFa_Ho0oRIgV",
        "outputId": "e73c82f4-2327-47f7-b2cd-0010437da62b",
        "colab": {
          "base_uri": "https://localhost:8080/"
        }
      },
      "source": [
        "n_max=np.max(data['asb'])\n",
        "print(n_max)"
      ],
      "execution_count": 48,
      "outputs": [
        {
          "output_type": "stream",
          "text": [
            "2.359831327025997\n"
          ],
          "name": "stdout"
        }
      ]
    },
    {
      "cell_type": "code",
      "metadata": {
        "id": "Wx4FH4mV5AGV",
        "outputId": "fa757920-f286-4a08-8414-57aa03e9bd24",
        "colab": {
          "base_uri": "https://localhost:8080/"
        }
      },
      "source": [
        "asb_1=np.abs(fft_1)\n",
        "print(asb_1)"
      ],
      "execution_count": 49,
      "outputs": [
        {
          "output_type": "stream",
          "text": [
            "[89.40948361 88.14943386 82.62179807 ... 72.26946684 82.62179807\n",
            " 88.14943386]\n"
          ],
          "name": "stdout"
        }
      ]
    },
    {
      "cell_type": "code",
      "metadata": {
        "id": "QL6dmkar5GJI",
        "outputId": "242e2bf1-dd48-4a34-cd1c-76188cd409ba",
        "colab": {
          "base_uri": "https://localhost:8080/"
        }
      },
      "source": [
        "asb_2=np.abs(fft_2)\n",
        "print(asb_2)"
      ],
      "execution_count": 50,
      "outputs": [
        {
          "output_type": "stream",
          "text": [
            "[501.95929115 472.27540908 384.24932743 ... 272.58161869 384.24932743\n",
            " 472.27540908]\n"
          ],
          "name": "stdout"
        }
      ]
    },
    {
      "cell_type": "code",
      "metadata": {
        "id": "CDTnvX1kGOWq",
        "outputId": "06887392-6e9b-4a92-ecc0-314ff238f76b",
        "colab": {
          "base_uri": "https://localhost:8080/"
        }
      },
      "source": [
        "print(len(asb_1))"
      ],
      "execution_count": 51,
      "outputs": [
        {
          "output_type": "stream",
          "text": [
            "6000\n"
          ],
          "name": "stdout"
        }
      ]
    },
    {
      "cell_type": "code",
      "metadata": {
        "id": "7EixA0rHGTMb",
        "outputId": "7c5ebc59-e8a4-4fa6-828c-10fdb2bdc1dd",
        "colab": {
          "base_uri": "https://localhost:8080/"
        }
      },
      "source": [
        "print(len(asb_2))"
      ],
      "execution_count": 52,
      "outputs": [
        {
          "output_type": "stream",
          "text": [
            "6000\n"
          ],
          "name": "stdout"
        }
      ]
    },
    {
      "cell_type": "markdown",
      "metadata": {
        "id": "1ddwNnxGW4SP"
      },
      "source": [
        "# Calcular la fase"
      ]
    },
    {
      "cell_type": "code",
      "metadata": {
        "id": "0aouqxCOW6Ot",
        "outputId": "29673af2-61f6-425a-bef8-55498cf0f1f9",
        "colab": {
          "base_uri": "https://localhost:8080/",
          "height": 0
        }
      },
      "source": [
        "data['fase']=np.arctan((data['fft'].values.imag/data['fft'].values.real)*np.pi/180)\n",
        "data.head()"
      ],
      "execution_count": 53,
      "outputs": [
        {
          "output_type": "execute_result",
          "data": {
            "text/html": [
              "<div>\n",
              "<style scoped>\n",
              "    .dataframe tbody tr th:only-of-type {\n",
              "        vertical-align: middle;\n",
              "    }\n",
              "\n",
              "    .dataframe tbody tr th {\n",
              "        vertical-align: top;\n",
              "    }\n",
              "\n",
              "    .dataframe thead th {\n",
              "        text-align: right;\n",
              "    }\n",
              "</style>\n",
              "<table border=\"1\" class=\"dataframe\">\n",
              "  <thead>\n",
              "    <tr style=\"text-align: right;\">\n",
              "      <th></th>\n",
              "      <th>time</th>\n",
              "      <th>amp</th>\n",
              "      <th>filtro</th>\n",
              "      <th>signal_filter</th>\n",
              "      <th>fft</th>\n",
              "      <th>asb</th>\n",
              "      <th>fase</th>\n",
              "    </tr>\n",
              "  </thead>\n",
              "  <tbody>\n",
              "    <tr>\n",
              "      <th>0</th>\n",
              "      <td>0.00</td>\n",
              "      <td>-0.244690</td>\n",
              "      <td>0.001571</td>\n",
              "      <td>-0.000384</td>\n",
              "      <td>13.838794-0.000000j</td>\n",
              "      <td>0.001683</td>\n",
              "      <td>-1.792253e-17</td>\n",
              "    </tr>\n",
              "    <tr>\n",
              "      <th>1</th>\n",
              "      <td>0.02</td>\n",
              "      <td>0.055570</td>\n",
              "      <td>0.004712</td>\n",
              "      <td>0.000262</td>\n",
              "      <td>43.041462+22.215780j</td>\n",
              "      <td>0.005890</td>\n",
              "      <td>9.008245e-03</td>\n",
              "    </tr>\n",
              "    <tr>\n",
              "      <th>2</th>\n",
              "      <td>0.04</td>\n",
              "      <td>0.034080</td>\n",
              "      <td>0.007854</td>\n",
              "      <td>0.000268</td>\n",
              "      <td>3.100171+29.423475j</td>\n",
              "      <td>0.003598</td>\n",
              "      <td>1.641572e-01</td>\n",
              "    </tr>\n",
              "    <tr>\n",
              "      <th>3</th>\n",
              "      <td>0.06</td>\n",
              "      <td>-0.035078</td>\n",
              "      <td>0.010995</td>\n",
              "      <td>-0.000386</td>\n",
              "      <td>23.437134+54.915609j</td>\n",
              "      <td>0.007260</td>\n",
              "      <td>4.087208e-02</td>\n",
              "    </tr>\n",
              "    <tr>\n",
              "      <th>4</th>\n",
              "      <td>0.08</td>\n",
              "      <td>0.065622</td>\n",
              "      <td>0.014137</td>\n",
              "      <td>0.000928</td>\n",
              "      <td>-22.689074+36.965522j</td>\n",
              "      <td>0.005274</td>\n",
              "      <td>-2.842762e-02</td>\n",
              "    </tr>\n",
              "  </tbody>\n",
              "</table>\n",
              "</div>"
            ],
            "text/plain": [
              "   time       amp    filtro  ...                   fft       asb          fase\n",
              "0  0.00 -0.244690  0.001571  ...   13.838794-0.000000j  0.001683 -1.792253e-17\n",
              "1  0.02  0.055570  0.004712  ...  43.041462+22.215780j  0.005890  9.008245e-03\n",
              "2  0.04  0.034080  0.007854  ...   3.100171+29.423475j  0.003598  1.641572e-01\n",
              "3  0.06 -0.035078  0.010995  ...  23.437134+54.915609j  0.007260  4.087208e-02\n",
              "4  0.08  0.065622  0.014137  ... -22.689074+36.965522j  0.005274 -2.842762e-02\n",
              "\n",
              "[5 rows x 7 columns]"
            ]
          },
          "metadata": {
            "tags": []
          },
          "execution_count": 53
        }
      ]
    },
    {
      "cell_type": "code",
      "metadata": {
        "id": "reYBM2Z1Yo7m",
        "outputId": "6d78330c-034d-4276-a82b-d33366f7ba49",
        "colab": {
          "base_uri": "https://localhost:8080/",
          "height": 0
        }
      },
      "source": [
        "data['angle']=np.angle(data['fft'])\n",
        "data.head()"
      ],
      "execution_count": 54,
      "outputs": [
        {
          "output_type": "execute_result",
          "data": {
            "text/html": [
              "<div>\n",
              "<style scoped>\n",
              "    .dataframe tbody tr th:only-of-type {\n",
              "        vertical-align: middle;\n",
              "    }\n",
              "\n",
              "    .dataframe tbody tr th {\n",
              "        vertical-align: top;\n",
              "    }\n",
              "\n",
              "    .dataframe thead th {\n",
              "        text-align: right;\n",
              "    }\n",
              "</style>\n",
              "<table border=\"1\" class=\"dataframe\">\n",
              "  <thead>\n",
              "    <tr style=\"text-align: right;\">\n",
              "      <th></th>\n",
              "      <th>time</th>\n",
              "      <th>amp</th>\n",
              "      <th>filtro</th>\n",
              "      <th>signal_filter</th>\n",
              "      <th>fft</th>\n",
              "      <th>asb</th>\n",
              "      <th>fase</th>\n",
              "      <th>angle</th>\n",
              "    </tr>\n",
              "  </thead>\n",
              "  <tbody>\n",
              "    <tr>\n",
              "      <th>0</th>\n",
              "      <td>0.00</td>\n",
              "      <td>-0.244690</td>\n",
              "      <td>0.001571</td>\n",
              "      <td>-0.000384</td>\n",
              "      <td>13.838794-0.000000j</td>\n",
              "      <td>0.001683</td>\n",
              "      <td>-1.792253e-17</td>\n",
              "      <td>-1.026885e-15</td>\n",
              "    </tr>\n",
              "    <tr>\n",
              "      <th>1</th>\n",
              "      <td>0.02</td>\n",
              "      <td>0.055570</td>\n",
              "      <td>0.004712</td>\n",
              "      <td>0.000262</td>\n",
              "      <td>43.041462+22.215780j</td>\n",
              "      <td>0.005890</td>\n",
              "      <td>9.008245e-03</td>\n",
              "      <td>4.764827e-01</td>\n",
              "    </tr>\n",
              "    <tr>\n",
              "      <th>2</th>\n",
              "      <td>0.04</td>\n",
              "      <td>0.034080</td>\n",
              "      <td>0.007854</td>\n",
              "      <td>0.000268</td>\n",
              "      <td>3.100171+29.423475j</td>\n",
              "      <td>0.003598</td>\n",
              "      <td>1.641572e-01</td>\n",
              "      <td>1.465820e+00</td>\n",
              "    </tr>\n",
              "    <tr>\n",
              "      <th>3</th>\n",
              "      <td>0.06</td>\n",
              "      <td>-0.035078</td>\n",
              "      <td>0.010995</td>\n",
              "      <td>-0.000386</td>\n",
              "      <td>23.437134+54.915609j</td>\n",
              "      <td>0.007260</td>\n",
              "      <td>4.087208e-02</td>\n",
              "      <td>1.167415e+00</td>\n",
              "    </tr>\n",
              "    <tr>\n",
              "      <th>4</th>\n",
              "      <td>0.08</td>\n",
              "      <td>0.065622</td>\n",
              "      <td>0.014137</td>\n",
              "      <td>0.000928</td>\n",
              "      <td>-22.689074+36.965522j</td>\n",
              "      <td>0.005274</td>\n",
              "      <td>-2.842762e-02</td>\n",
              "      <td>2.121294e+00</td>\n",
              "    </tr>\n",
              "  </tbody>\n",
              "</table>\n",
              "</div>"
            ],
            "text/plain": [
              "   time       amp    filtro  ...       asb          fase         angle\n",
              "0  0.00 -0.244690  0.001571  ...  0.001683 -1.792253e-17 -1.026885e-15\n",
              "1  0.02  0.055570  0.004712  ...  0.005890  9.008245e-03  4.764827e-01\n",
              "2  0.04  0.034080  0.007854  ...  0.003598  1.641572e-01  1.465820e+00\n",
              "3  0.06 -0.035078  0.010995  ...  0.007260  4.087208e-02  1.167415e+00\n",
              "4  0.08  0.065622  0.014137  ...  0.005274 -2.842762e-02  2.121294e+00\n",
              "\n",
              "[5 rows x 8 columns]"
            ]
          },
          "metadata": {
            "tags": []
          },
          "execution_count": 54
        }
      ]
    },
    {
      "cell_type": "code",
      "metadata": {
        "id": "5qZ2fsJ_JCfb"
      },
      "source": [
        "angle_1=np.angle(fft_1)"
      ],
      "execution_count": 55,
      "outputs": []
    },
    {
      "cell_type": "code",
      "metadata": {
        "id": "dN0Rkq_pJKVW"
      },
      "source": [
        "angle_2=np.angle(fft_2)"
      ],
      "execution_count": 56,
      "outputs": []
    },
    {
      "cell_type": "code",
      "metadata": {
        "id": "bb2obH2PZ05L",
        "outputId": "cdf748b8-ae59-4473-f2c3-669278ddcef4",
        "colab": {
          "base_uri": "https://localhost:8080/",
          "height": 0
        }
      },
      "source": [
        "data['ANGLE']=np.degrees(data['angle'])\n",
        "data.head()"
      ],
      "execution_count": 57,
      "outputs": [
        {
          "output_type": "execute_result",
          "data": {
            "text/html": [
              "<div>\n",
              "<style scoped>\n",
              "    .dataframe tbody tr th:only-of-type {\n",
              "        vertical-align: middle;\n",
              "    }\n",
              "\n",
              "    .dataframe tbody tr th {\n",
              "        vertical-align: top;\n",
              "    }\n",
              "\n",
              "    .dataframe thead th {\n",
              "        text-align: right;\n",
              "    }\n",
              "</style>\n",
              "<table border=\"1\" class=\"dataframe\">\n",
              "  <thead>\n",
              "    <tr style=\"text-align: right;\">\n",
              "      <th></th>\n",
              "      <th>time</th>\n",
              "      <th>amp</th>\n",
              "      <th>filtro</th>\n",
              "      <th>signal_filter</th>\n",
              "      <th>fft</th>\n",
              "      <th>asb</th>\n",
              "      <th>fase</th>\n",
              "      <th>angle</th>\n",
              "      <th>ANGLE</th>\n",
              "    </tr>\n",
              "  </thead>\n",
              "  <tbody>\n",
              "    <tr>\n",
              "      <th>0</th>\n",
              "      <td>0.00</td>\n",
              "      <td>-0.244690</td>\n",
              "      <td>0.001571</td>\n",
              "      <td>-0.000384</td>\n",
              "      <td>13.838794-0.000000j</td>\n",
              "      <td>0.001683</td>\n",
              "      <td>-1.792253e-17</td>\n",
              "      <td>-1.026885e-15</td>\n",
              "      <td>-5.883620e-14</td>\n",
              "    </tr>\n",
              "    <tr>\n",
              "      <th>1</th>\n",
              "      <td>0.02</td>\n",
              "      <td>0.055570</td>\n",
              "      <td>0.004712</td>\n",
              "      <td>0.000262</td>\n",
              "      <td>43.041462+22.215780j</td>\n",
              "      <td>0.005890</td>\n",
              "      <td>9.008245e-03</td>\n",
              "      <td>4.764827e-01</td>\n",
              "      <td>2.730045e+01</td>\n",
              "    </tr>\n",
              "    <tr>\n",
              "      <th>2</th>\n",
              "      <td>0.04</td>\n",
              "      <td>0.034080</td>\n",
              "      <td>0.007854</td>\n",
              "      <td>0.000268</td>\n",
              "      <td>3.100171+29.423475j</td>\n",
              "      <td>0.003598</td>\n",
              "      <td>1.641572e-01</td>\n",
              "      <td>1.465820e+00</td>\n",
              "      <td>8.398529e+01</td>\n",
              "    </tr>\n",
              "    <tr>\n",
              "      <th>3</th>\n",
              "      <td>0.06</td>\n",
              "      <td>-0.035078</td>\n",
              "      <td>0.010995</td>\n",
              "      <td>-0.000386</td>\n",
              "      <td>23.437134+54.915609j</td>\n",
              "      <td>0.007260</td>\n",
              "      <td>4.087208e-02</td>\n",
              "      <td>1.167415e+00</td>\n",
              "      <td>6.688796e+01</td>\n",
              "    </tr>\n",
              "    <tr>\n",
              "      <th>4</th>\n",
              "      <td>0.08</td>\n",
              "      <td>0.065622</td>\n",
              "      <td>0.014137</td>\n",
              "      <td>0.000928</td>\n",
              "      <td>-22.689074+36.965522j</td>\n",
              "      <td>0.005274</td>\n",
              "      <td>-2.842762e-02</td>\n",
              "      <td>2.121294e+00</td>\n",
              "      <td>1.215412e+02</td>\n",
              "    </tr>\n",
              "  </tbody>\n",
              "</table>\n",
              "</div>"
            ],
            "text/plain": [
              "   time       amp    filtro  ...          fase         angle         ANGLE\n",
              "0  0.00 -0.244690  0.001571  ... -1.792253e-17 -1.026885e-15 -5.883620e-14\n",
              "1  0.02  0.055570  0.004712  ...  9.008245e-03  4.764827e-01  2.730045e+01\n",
              "2  0.04  0.034080  0.007854  ...  1.641572e-01  1.465820e+00  8.398529e+01\n",
              "3  0.06 -0.035078  0.010995  ...  4.087208e-02  1.167415e+00  6.688796e+01\n",
              "4  0.08  0.065622  0.014137  ... -2.842762e-02  2.121294e+00  1.215412e+02\n",
              "\n",
              "[5 rows x 9 columns]"
            ]
          },
          "metadata": {
            "tags": []
          },
          "execution_count": 57
        }
      ]
    },
    {
      "cell_type": "markdown",
      "metadata": {
        "id": "RiDWB4grXBP3"
      },
      "source": [
        "#Gráficos"
      ]
    },
    {
      "cell_type": "markdown",
      "metadata": {
        "id": "S7nu6cq8XT2D"
      },
      "source": [
        "# Espectro de ampitud en el dominio de la frecuencia"
      ]
    },
    {
      "cell_type": "code",
      "metadata": {
        "id": "aG6i9raLXDkj",
        "outputId": "4151bc88-bb02-4d4c-d6a5-ce8128ac204b",
        "colab": {
          "base_uri": "https://localhost:8080/",
          "height": 0
        }
      },
      "source": [
        "plt.semilogx(t,data['asb'].iloc[0:8223])\n",
        "_=plt.show()"
      ],
      "execution_count": 58,
      "outputs": [
        {
          "output_type": "display_data",
          "data": {
            "image/png": "[encoded data removed]",
            "text/plain": [
              "<Figure size 432x288 with 1 Axes>"
            ]
          },
          "metadata": {
            "tags": [],
            "needs_background": "light"
          }
        }
      ]
    },
    {
      "cell_type": "markdown",
      "metadata": {
        "id": "Zt4Ihc1oXZLv"
      },
      "source": [
        "# Espectro de amplitud en el dominio del tiempo"
      ]
    },
    {
      "cell_type": "code",
      "metadata": {
        "id": "RXbB8w8hXd3M",
        "outputId": "8d94078d-7c47-4e76-fc3e-f2de407d4b11",
        "colab": {
          "base_uri": "https://localhost:8080/",
          "height": 269
        }
      },
      "source": [
        "plt.semilogx(data['time'].iloc[0:8224],data['asb'].iloc[0:8224])\n",
        "_=plt.show()"
      ],
      "execution_count": 59,
      "outputs": [
        {
          "output_type": "display_data",
          "data": {
            "image/png": "[encoded data removed]",
            "text/plain": [
              "<Figure size 432x288 with 1 Axes>"
            ]
          },
          "metadata": {
            "tags": [],
            "needs_background": "light"
          }
        }
      ]
    },
    {
      "cell_type": "code",
      "metadata": {
        "id": "ncDk59aS2j8q",
        "outputId": "0344eda1-417a-4c89-a541-48c573ef01a0",
        "colab": {
          "base_uri": "https://localhost:8080/",
          "height": 180
        }
      },
      "source": [
        "plt.plot(w,(data['asb'][0:8223]))\n",
        "_=plt.show()"
      ],
      "execution_count": 60,
      "outputs": [
        {
          "output_type": "error",
          "ename": "NameError",
          "evalue": "ignored",
          "traceback": [
            "\u001b[0;31m---------------------------------------------------------------------------\u001b[0m",
            "\u001b[0;31mNameError\u001b[0m                                 Traceback (most recent call last)",
            "\u001b[0;32m<ipython-input-60-515b32857017>\u001b[0m in \u001b[0;36m<module>\u001b[0;34m()\u001b[0m\n\u001b[0;32m----> 1\u001b[0;31m \u001b[0mplt\u001b[0m\u001b[0;34m.\u001b[0m\u001b[0mplot\u001b[0m\u001b[0;34m(\u001b[0m\u001b[0mw\u001b[0m\u001b[0;34m,\u001b[0m\u001b[0;34m(\u001b[0m\u001b[0mdata\u001b[0m\u001b[0;34m[\u001b[0m\u001b[0;34m'asb'\u001b[0m\u001b[0;34m]\u001b[0m\u001b[0;34m[\u001b[0m\u001b[0;36m0\u001b[0m\u001b[0;34m:\u001b[0m\u001b[0;36m8223\u001b[0m\u001b[0;34m]\u001b[0m\u001b[0;34m)\u001b[0m\u001b[0;34m)\u001b[0m\u001b[0;34m\u001b[0m\u001b[0;34m\u001b[0m\u001b[0m\n\u001b[0m\u001b[1;32m      2\u001b[0m \u001b[0m_\u001b[0m\u001b[0;34m=\u001b[0m\u001b[0mplt\u001b[0m\u001b[0;34m.\u001b[0m\u001b[0mshow\u001b[0m\u001b[0;34m(\u001b[0m\u001b[0;34m)\u001b[0m\u001b[0;34m\u001b[0m\u001b[0;34m\u001b[0m\u001b[0m\n",
            "\u001b[0;31mNameError\u001b[0m: name 'w' is not defined"
          ]
        }
      ]
    },
    {
      "cell_type": "markdown",
      "metadata": {
        "id": "ePe73LaJXsEH"
      },
      "source": [
        "#FASE"
      ]
    },
    {
      "cell_type": "markdown",
      "metadata": {
        "id": "rOwh_dawXuCr"
      },
      "source": [
        "## ESPECTRO DE FASE EN EL DOMINIO DE LA FRECUENCIA"
      ]
    },
    {
      "cell_type": "code",
      "metadata": {
        "id": "KKiFrXJJXznX"
      },
      "source": [
        "plt.plot(t,(data['angle'].iloc[0:8224]))\n",
        "_=plt.show()"
      ],
      "execution_count": null,
      "outputs": []
    },
    {
      "cell_type": "code",
      "metadata": {
        "id": "vPVR0qKrApNB"
      },
      "source": [
        "w=1./t\n",
        "print(w)"
      ],
      "execution_count": null,
      "outputs": []
    },
    {
      "cell_type": "code",
      "metadata": {
        "id": "rSvnPaXG0Q1g"
      },
      "source": [
        "plt.plot(w,data['angle'][0:8223])\n",
        "_=plt.show()"
      ],
      "execution_count": null,
      "outputs": []
    },
    {
      "cell_type": "code",
      "metadata": {
        "id": "7am_P2GUMPoV"
      },
      "source": [
        "print(t)"
      ],
      "execution_count": null,
      "outputs": []
    },
    {
      "cell_type": "code",
      "metadata": {
        "id": "mlSsV2Vq95cv"
      },
      "source": [
        "dato_1=data['angle'][0]\n",
        "print(dato_1)"
      ],
      "execution_count": null,
      "outputs": []
    },
    {
      "cell_type": "code",
      "metadata": {
        "id": "l3Aospc67k0q"
      },
      "source": [
        "plt.loglog(f_1,asb_1[0:3000])\n",
        "_=plt.show()"
      ],
      "execution_count": null,
      "outputs": []
    },
    {
      "cell_type": "code",
      "metadata": {
        "id": "71K9rYCP8R4K"
      },
      "source": [
        "plt.semilogx(t_1[0:3000],asb_1[0:3000])\n",
        "_=plt.show()"
      ],
      "execution_count": null,
      "outputs": []
    },
    {
      "cell_type": "markdown",
      "metadata": {
        "id": "gOmSKA98Havw"
      },
      "source": [
        "# Espectro"
      ]
    },
    {
      "cell_type": "code",
      "metadata": {
        "id": "kFXuhHOsHaQY"
      },
      "source": [
        "plt.plot(f_1,angle_1[0:3000])\n",
        "_=plt.show()"
      ],
      "execution_count": null,
      "outputs": []
    },
    {
      "cell_type": "code",
      "metadata": {
        "id": "qjhzxNOvGZki"
      },
      "source": [
        "plt.loglog(f_1,asb_2[0:3000])\n",
        "_=plt.show()"
      ],
      "execution_count": null,
      "outputs": []
    },
    {
      "cell_type": "code",
      "metadata": {
        "id": "ZrY6sq-zGhA_"
      },
      "source": [
        "plt.loglog(t_1[0:3000],asb_2[0:3000])\n",
        "_=plt.show()"
      ],
      "execution_count": null,
      "outputs": []
    },
    {
      "cell_type": "markdown",
      "metadata": {
        "id": "cwPZiZibHeUB"
      },
      "source": [
        "# Espectro"
      ]
    },
    {
      "cell_type": "code",
      "metadata": {
        "id": "3F-EA82XJ_r1"
      },
      "source": [
        "plt.plot(f_1,angle_2[0:3000])\n",
        "_=plt.show()"
      ],
      "execution_count": null,
      "outputs": []
    }
  ]
}