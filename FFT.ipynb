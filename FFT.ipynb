{
  "nbformat": 4,
  "nbformat_minor": 0,
  "metadata": {
    "colab": {
      "name": "FFT.ipynb",
      "provenance": [],
      "toc_visible": true,
      "authorship_tag": "ABX9TyMNJXDusaHohK11yf0Buw58",
      "include_colab_link": true
    },
    "kernelspec": {
      "name": "python3",
      "display_name": "Python 3"
    }
  },
  "cells": [
    {
      "cell_type": "markdown",
      "metadata": {
        "id": "view-in-github",
        "colab_type": "text"
      },
      "source": [
        "<a href=\"https://colab.research.google.com/github/elsy-torres/script/blob/main/FFT.ipynb\" target=\"_parent\"><img src=\"https://colab.research.google.com/assets/colab-badge.svg\" alt=\"Open In Colab\"/></a>"
      ]
    },
    {
      "cell_type": "code",
      "metadata": {
        "id": "lAA33gEyMVTo"
      },
      "source": [
        "import matplotlib.pyplot as plt\n",
        "import pandas as pd\n",
        "import numpy as np\n",
        "from scipy import signal\n",
        "from scipy import fftpack"
      ],
      "execution_count": 2,
      "outputs": []
    },
    {
      "cell_type": "markdown",
      "metadata": {
        "id": "JEygYt6FRoHN"
      },
      "source": [
        "#Cargar datos "
      ]
    },
    {
      "cell_type": "code",
      "metadata": {
        "id": "uMU0-V7YRr5O"
      },
      "source": [
        "data=pd.read_csv('NZ007.txt',names=['time','amp'],skiprows=3,sep='\\s+',engine='python')\n",
        "data.head(10)"
      ],
      "execution_count": null,
      "outputs": []
    },
    {
      "cell_type": "code",
      "metadata": {
        "id": "04xHBhjoSA5g"
      },
      "source": [
        "data.tail()"
      ],
      "execution_count": null,
      "outputs": []
    },
    {
      "cell_type": "code",
      "metadata": {
        "id": "G4lctop-R0Ld"
      },
      "source": [
        "print(len(data))"
      ],
      "execution_count": null,
      "outputs": []
    },
    {
      "cell_type": "markdown",
      "metadata": {
        "id": "s5eB2LoUR8Cf"
      },
      "source": [
        "# Declarar vector en el dominio de la frcuencia"
      ]
    },
    {
      "cell_type": "markdown",
      "metadata": {
        "id": "a5KZOf5lTOGp"
      },
      "source": [
        "##Vector para el sismograma completo"
      ]
    },
    {
      "cell_type": "code",
      "metadata": {
        "id": "ioFi6MacR7Ma"
      },
      "source": [
        "fo=1/328.94\n",
        "N=len(data)\n",
        "F_N=(N/2)*fo\n",
        "t=np.arange(0,F_N,fo)\n",
        "print(t)"
      ],
      "execution_count": null,
      "outputs": []
    },
    {
      "cell_type": "markdown",
      "metadata": {
        "id": "wPeqW4zXopQG"
      },
      "source": [
        "# Vector de tiempo de 0 a 120 s"
      ]
    },
    {
      "cell_type": "code",
      "metadata": {
        "id": "kyZoegNGb_vU",
        "outputId": "e95eb775-c31d-4c18-faf6-16be3d9e5ca0",
        "colab": {
          "base_uri": "https://localhost:8080/"
        }
      },
      "source": [
        "t_1= np.arange(0,120,0.02)\n",
        "print(len(t_1))"
      ],
      "execution_count": 89,
      "outputs": [
        {
          "output_type": "stream",
          "text": [
            "6000\n"
          ],
          "name": "stdout"
        }
      ]
    },
    {
      "cell_type": "markdown",
      "metadata": {
        "id": "ExGBj3oqoyEP"
      },
      "source": [
        "# Vector de tiempo de 120 a 240 s"
      ]
    },
    {
      "cell_type": "code",
      "metadata": {
        "id": "JfyajrXxof8z",
        "outputId": "97ffa9e8-23d8-4bcc-d078-25584d6df947",
        "colab": {
          "base_uri": "https://localhost:8080/"
        }
      },
      "source": [
        "t_2=np.arange(120,240,0.02)\n",
        "print(len(t_2))"
      ],
      "execution_count": 90,
      "outputs": [
        {
          "output_type": "stream",
          "text": [
            "6000\n"
          ],
          "name": "stdout"
        }
      ]
    },
    {
      "cell_type": "code",
      "metadata": {
        "id": "1iivvSG3S4Kp",
        "outputId": "63d05270-b9e4-487f-de0c-ffbc9e9ab707",
        "colab": {
          "base_uri": "https://localhost:8080/"
        }
      },
      "source": [
        "y_1= data['amp'].iloc[0:6000]\n",
        "print(len(y_1))"
      ],
      "execution_count": 93,
      "outputs": [
        {
          "output_type": "stream",
          "text": [
            "6000\n"
          ],
          "name": "stdout"
        }
      ]
    },
    {
      "cell_type": "code",
      "metadata": {
        "id": "U7i9JS97pVOp",
        "outputId": "f003f61e-d7ad-43f2-8f3c-28142cf0c24f",
        "colab": {
          "base_uri": "https://localhost:8080/"
        }
      },
      "source": [
        "y_2=data['amp'].iloc[6000:12000]\n",
        "print(len(y_2))"
      ],
      "execution_count": 95,
      "outputs": [
        {
          "output_type": "stream",
          "text": [
            "6000\n"
          ],
          "name": "stdout"
        }
      ]
    },
    {
      "cell_type": "markdown",
      "metadata": {
        "id": "bVsLTHpEVqdD"
      },
      "source": [
        "#Filtro"
      ]
    },
    {
      "cell_type": "code",
      "metadata": {
        "id": "MtHRaxtdVr-N"
      },
      "source": [
        "data['filtro']=1\n",
        "data"
      ],
      "execution_count": null,
      "outputs": []
    },
    {
      "cell_type": "code",
      "metadata": {
        "id": "CpxSmIgxq6Ul",
        "outputId": "257f6fe1-39e3-4d26-b170-625bc69e713e",
        "colab": {
          "base_uri": "https://localhost:8080/"
        }
      },
      "source": [
        "A=[A, np.ones(len(t_1)),np.ones(len(t_2))]\n",
        "print(A)\n"
      ],
      "execution_count": 106,
      "outputs": [
        {
          "output_type": "stream",
          "text": [
            "[(array([1., 1., 1., ..., 1., 1., 1.]), array([1., 1., 1., ..., 1., 1., 1.])), array([1., 1., 1., ..., 1., 1., 1.]), array([1., 1., 1., ..., 1., 1., 1.])]\n"
          ],
          "name": "stdout"
        }
      ]
    },
    {
      "cell_type": "code",
      "metadata": {
        "id": "33rCaJVwVy0x",
        "outputId": "d61ff4f5-5489-4c56-c95d-7239a5953906",
        "colab": {
          "base_uri": "https://localhost:8080/",
          "height": 204
        }
      },
      "source": [
        "data['filtro'].iloc[data.index<1000]=signal.cosine(1000)\n",
        "data['filtro'].iloc[data.index>15447]=signal.cosine(1000)\n",
        "data.tail()"
      ],
      "execution_count": 16,
      "outputs": [
        {
          "output_type": "execute_result",
          "data": {
            "text/html": [
              "<div>\n",
              "<style scoped>\n",
              "    .dataframe tbody tr th:only-of-type {\n",
              "        vertical-align: middle;\n",
              "    }\n",
              "\n",
              "    .dataframe tbody tr th {\n",
              "        vertical-align: top;\n",
              "    }\n",
              "\n",
              "    .dataframe thead th {\n",
              "        text-align: right;\n",
              "    }\n",
              "</style>\n",
              "<table border=\"1\" class=\"dataframe\">\n",
              "  <thead>\n",
              "    <tr style=\"text-align: right;\">\n",
              "      <th></th>\n",
              "      <th>time</th>\n",
              "      <th>amp</th>\n",
              "      <th>filtro</th>\n",
              "    </tr>\n",
              "  </thead>\n",
              "  <tbody>\n",
              "    <tr>\n",
              "      <th>16443</th>\n",
              "      <td>328.86</td>\n",
              "      <td>0.72716</td>\n",
              "      <td>0.014137</td>\n",
              "    </tr>\n",
              "    <tr>\n",
              "      <th>16444</th>\n",
              "      <td>328.88</td>\n",
              "      <td>0.61736</td>\n",
              "      <td>0.010995</td>\n",
              "    </tr>\n",
              "    <tr>\n",
              "      <th>16445</th>\n",
              "      <td>328.90</td>\n",
              "      <td>0.54991</td>\n",
              "      <td>0.007854</td>\n",
              "    </tr>\n",
              "    <tr>\n",
              "      <th>16446</th>\n",
              "      <td>328.92</td>\n",
              "      <td>0.59976</td>\n",
              "      <td>0.004712</td>\n",
              "    </tr>\n",
              "    <tr>\n",
              "      <th>16447</th>\n",
              "      <td>328.94</td>\n",
              "      <td>0.41080</td>\n",
              "      <td>0.001571</td>\n",
              "    </tr>\n",
              "  </tbody>\n",
              "</table>\n",
              "</div>"
            ],
            "text/plain": [
              "         time      amp    filtro\n",
              "16443  328.86  0.72716  0.014137\n",
              "16444  328.88  0.61736  0.010995\n",
              "16445  328.90  0.54991  0.007854\n",
              "16446  328.92  0.59976  0.004712\n",
              "16447  328.94  0.41080  0.001571"
            ]
          },
          "metadata": {
            "tags": []
          },
          "execution_count": 16
        }
      ]
    },
    {
      "cell_type": "code",
      "metadata": {
        "id": "-_tVY2HZWEvJ",
        "outputId": "b9af3345-a244-4a94-f78d-aabdd35604b5",
        "colab": {
          "base_uri": "https://localhost:8080/",
          "height": 204
        }
      },
      "source": [
        "data['signal_filter']= data['filtro']*data['amp']\n",
        "data.head()"
      ],
      "execution_count": 19,
      "outputs": [
        {
          "output_type": "execute_result",
          "data": {
            "text/html": [
              "<div>\n",
              "<style scoped>\n",
              "    .dataframe tbody tr th:only-of-type {\n",
              "        vertical-align: middle;\n",
              "    }\n",
              "\n",
              "    .dataframe tbody tr th {\n",
              "        vertical-align: top;\n",
              "    }\n",
              "\n",
              "    .dataframe thead th {\n",
              "        text-align: right;\n",
              "    }\n",
              "</style>\n",
              "<table border=\"1\" class=\"dataframe\">\n",
              "  <thead>\n",
              "    <tr style=\"text-align: right;\">\n",
              "      <th></th>\n",
              "      <th>time</th>\n",
              "      <th>amp</th>\n",
              "      <th>filtro</th>\n",
              "      <th>signal_filter</th>\n",
              "    </tr>\n",
              "  </thead>\n",
              "  <tbody>\n",
              "    <tr>\n",
              "      <th>0</th>\n",
              "      <td>0.00</td>\n",
              "      <td>-0.244690</td>\n",
              "      <td>0.001571</td>\n",
              "      <td>-0.000384</td>\n",
              "    </tr>\n",
              "    <tr>\n",
              "      <th>1</th>\n",
              "      <td>0.02</td>\n",
              "      <td>0.055570</td>\n",
              "      <td>0.004712</td>\n",
              "      <td>0.000262</td>\n",
              "    </tr>\n",
              "    <tr>\n",
              "      <th>2</th>\n",
              "      <td>0.04</td>\n",
              "      <td>0.034080</td>\n",
              "      <td>0.007854</td>\n",
              "      <td>0.000268</td>\n",
              "    </tr>\n",
              "    <tr>\n",
              "      <th>3</th>\n",
              "      <td>0.06</td>\n",
              "      <td>-0.035078</td>\n",
              "      <td>0.010995</td>\n",
              "      <td>-0.000386</td>\n",
              "    </tr>\n",
              "    <tr>\n",
              "      <th>4</th>\n",
              "      <td>0.08</td>\n",
              "      <td>0.065622</td>\n",
              "      <td>0.014137</td>\n",
              "      <td>0.000928</td>\n",
              "    </tr>\n",
              "  </tbody>\n",
              "</table>\n",
              "</div>"
            ],
            "text/plain": [
              "   time       amp    filtro  signal_filter\n",
              "0  0.00 -0.244690  0.001571      -0.000384\n",
              "1  0.02  0.055570  0.004712       0.000262\n",
              "2  0.04  0.034080  0.007854       0.000268\n",
              "3  0.06 -0.035078  0.010995      -0.000386\n",
              "4  0.08  0.065622  0.014137       0.000928"
            ]
          },
          "metadata": {
            "tags": []
          },
          "execution_count": 19
        }
      ]
    },
    {
      "cell_type": "markdown",
      "metadata": {
        "id": "roi3rT7bWYkx"
      },
      "source": [
        "# Gráficos"
      ]
    },
    {
      "cell_type": "code",
      "metadata": {
        "id": "g8LDbKd4WShA",
        "outputId": "a6d0b1ba-a9ff-4adb-ab9a-a50e0d51716c",
        "colab": {
          "base_uri": "https://localhost:8080/",
          "height": 265
        }
      },
      "source": [
        "plt.plot(data['time'],data['amp'])\n",
        "_=plt.show()"
      ],
      "execution_count": 20,
      "outputs": [
        {
          "output_type": "display_data",
          "data": {
            "image/png": "[encoded data removed]",
            "text/plain": [
              "<Figure size 432x288 with 1 Axes>"
            ]
          },
          "metadata": {
            "tags": [],
            "needs_background": "light"
          }
        }
      ]
    },
    {
      "cell_type": "code",
      "metadata": {
        "id": "4Ql-wK40WdIF",
        "outputId": "e05dff44-1332-4d8a-dc9f-6b79707b6df9",
        "colab": {
          "base_uri": "https://localhost:8080/",
          "height": 265
        }
      },
      "source": [
        "plt.plot(data['time'],data['signal_filter'])\n",
        "_=plt.show()"
      ],
      "execution_count": 21,
      "outputs": [
        {
          "output_type": "display_data",
          "data": {
            "image/png": "[encoded data removed]",
            "text/plain": [
              "<Figure size 432x288 with 1 Axes>"
            ]
          },
          "metadata": {
            "tags": [],
            "needs_background": "light"
          }
        }
      ]
    },
    {
      "cell_type": "markdown",
      "metadata": {
        "id": "nfKN_yXxpv-j"
      },
      "source": [
        "# Cortes de ventana de 0-120, 120-240 sin filtrar\n"
      ]
    },
    {
      "cell_type": "code",
      "metadata": {
        "id": "NVuuQD9_b90O",
        "outputId": "c94a5fe7-1146-4adc-a4ad-2b2ba6c78a51",
        "colab": {
          "base_uri": "https://localhost:8080/",
          "height": 265
        }
      },
      "source": [
        "plt.plot(t_1,y_1)\n",
        "_=plt.show()"
      ],
      "execution_count": 96,
      "outputs": [
        {
          "output_type": "display_data",
          "data": {
            "image/png": "[encoded data removed]",
            "text/plain": [
              "<Figure size 432x288 with 1 Axes>"
            ]
          },
          "metadata": {
            "tags": [],
            "needs_background": "light"
          }
        }
      ]
    },
    {
      "cell_type": "code",
      "metadata": {
        "id": "_-TKJzqIp5uv",
        "outputId": "3adaffc9-d157-4653-ecd8-4ce5d5f2792b",
        "colab": {
          "base_uri": "https://localhost:8080/",
          "height": 268
        }
      },
      "source": [
        "plt.plot(t_2,y_2)\n",
        "_=plt.show()"
      ],
      "execution_count": 97,
      "outputs": [
        {
          "output_type": "display_data",
          "data": {
            "image/png": "[encoded data removed]",
            "text/plain": [
              "<Figure size 432x288 with 1 Axes>"
            ]
          },
          "metadata": {
            "tags": [],
            "needs_background": "light"
          }
        }
      ]
    },
    {
      "cell_type": "markdown",
      "metadata": {
        "id": "pdqcrarrWlwL"
      },
      "source": [
        "# Realizar la transformada"
      ]
    },
    {
      "cell_type": "code",
      "metadata": {
        "id": "x5ztZcEAWSfa",
        "outputId": "252af321-76a0-425f-c911-52a11e45bb23",
        "colab": {
          "base_uri": "https://localhost:8080/",
          "height": 204
        }
      },
      "source": [
        "data['fft']=np.fft.fft(data['signal_filter'])\n",
        "data.head()"
      ],
      "execution_count": 22,
      "outputs": [
        {
          "output_type": "execute_result",
          "data": {
            "text/html": [
              "<div>\n",
              "<style scoped>\n",
              "    .dataframe tbody tr th:only-of-type {\n",
              "        vertical-align: middle;\n",
              "    }\n",
              "\n",
              "    .dataframe tbody tr th {\n",
              "        vertical-align: top;\n",
              "    }\n",
              "\n",
              "    .dataframe thead th {\n",
              "        text-align: right;\n",
              "    }\n",
              "</style>\n",
              "<table border=\"1\" class=\"dataframe\">\n",
              "  <thead>\n",
              "    <tr style=\"text-align: right;\">\n",
              "      <th></th>\n",
              "      <th>time</th>\n",
              "      <th>amp</th>\n",
              "      <th>filtro</th>\n",
              "      <th>signal_filter</th>\n",
              "      <th>fft</th>\n",
              "    </tr>\n",
              "  </thead>\n",
              "  <tbody>\n",
              "    <tr>\n",
              "      <th>0</th>\n",
              "      <td>0.00</td>\n",
              "      <td>-0.244690</td>\n",
              "      <td>0.001571</td>\n",
              "      <td>-0.000384</td>\n",
              "      <td>13.838794-0.000000j</td>\n",
              "    </tr>\n",
              "    <tr>\n",
              "      <th>1</th>\n",
              "      <td>0.02</td>\n",
              "      <td>0.055570</td>\n",
              "      <td>0.004712</td>\n",
              "      <td>0.000262</td>\n",
              "      <td>43.041462+22.215780j</td>\n",
              "    </tr>\n",
              "    <tr>\n",
              "      <th>2</th>\n",
              "      <td>0.04</td>\n",
              "      <td>0.034080</td>\n",
              "      <td>0.007854</td>\n",
              "      <td>0.000268</td>\n",
              "      <td>3.100171+29.423475j</td>\n",
              "    </tr>\n",
              "    <tr>\n",
              "      <th>3</th>\n",
              "      <td>0.06</td>\n",
              "      <td>-0.035078</td>\n",
              "      <td>0.010995</td>\n",
              "      <td>-0.000386</td>\n",
              "      <td>23.437134+54.915609j</td>\n",
              "    </tr>\n",
              "    <tr>\n",
              "      <th>4</th>\n",
              "      <td>0.08</td>\n",
              "      <td>0.065622</td>\n",
              "      <td>0.014137</td>\n",
              "      <td>0.000928</td>\n",
              "      <td>-22.689074+36.965522j</td>\n",
              "    </tr>\n",
              "  </tbody>\n",
              "</table>\n",
              "</div>"
            ],
            "text/plain": [
              "   time       amp    filtro  signal_filter                   fft\n",
              "0  0.00 -0.244690  0.001571      -0.000384   13.838794-0.000000j\n",
              "1  0.02  0.055570  0.004712       0.000262  43.041462+22.215780j\n",
              "2  0.04  0.034080  0.007854       0.000268   3.100171+29.423475j\n",
              "3  0.06 -0.035078  0.010995      -0.000386  23.437134+54.915609j\n",
              "4  0.08  0.065622  0.014137       0.000928 -22.689074+36.965522j"
            ]
          },
          "metadata": {
            "tags": []
          },
          "execution_count": 22
        }
      ]
    },
    {
      "cell_type": "markdown",
      "metadata": {
        "id": "8taa3TUlWwt4"
      },
      "source": [
        "#Calcular la amplitud espectral"
      ]
    },
    {
      "cell_type": "code",
      "metadata": {
        "id": "TYp8BciAWvPW",
        "outputId": "fb68d852-2549-4299-fe72-a33f3982076a",
        "colab": {
          "base_uri": "https://localhost:8080/",
          "height": 204
        }
      },
      "source": [
        "data['asb']= np.abs(data['fft'])\n",
        "data.head()"
      ],
      "execution_count": 23,
      "outputs": [
        {
          "output_type": "execute_result",
          "data": {
            "text/html": [
              "<div>\n",
              "<style scoped>\n",
              "    .dataframe tbody tr th:only-of-type {\n",
              "        vertical-align: middle;\n",
              "    }\n",
              "\n",
              "    .dataframe tbody tr th {\n",
              "        vertical-align: top;\n",
              "    }\n",
              "\n",
              "    .dataframe thead th {\n",
              "        text-align: right;\n",
              "    }\n",
              "</style>\n",
              "<table border=\"1\" class=\"dataframe\">\n",
              "  <thead>\n",
              "    <tr style=\"text-align: right;\">\n",
              "      <th></th>\n",
              "      <th>time</th>\n",
              "      <th>amp</th>\n",
              "      <th>filtro</th>\n",
              "      <th>signal_filter</th>\n",
              "      <th>fft</th>\n",
              "      <th>asb</th>\n",
              "    </tr>\n",
              "  </thead>\n",
              "  <tbody>\n",
              "    <tr>\n",
              "      <th>0</th>\n",
              "      <td>0.00</td>\n",
              "      <td>-0.244690</td>\n",
              "      <td>0.001571</td>\n",
              "      <td>-0.000384</td>\n",
              "      <td>13.838794-0.000000j</td>\n",
              "      <td>13.838794</td>\n",
              "    </tr>\n",
              "    <tr>\n",
              "      <th>1</th>\n",
              "      <td>0.02</td>\n",
              "      <td>0.055570</td>\n",
              "      <td>0.004712</td>\n",
              "      <td>0.000262</td>\n",
              "      <td>43.041462+22.215780j</td>\n",
              "      <td>48.436642</td>\n",
              "    </tr>\n",
              "    <tr>\n",
              "      <th>2</th>\n",
              "      <td>0.04</td>\n",
              "      <td>0.034080</td>\n",
              "      <td>0.007854</td>\n",
              "      <td>0.000268</td>\n",
              "      <td>3.100171+29.423475j</td>\n",
              "      <td>29.586347</td>\n",
              "    </tr>\n",
              "    <tr>\n",
              "      <th>3</th>\n",
              "      <td>0.06</td>\n",
              "      <td>-0.035078</td>\n",
              "      <td>0.010995</td>\n",
              "      <td>-0.000386</td>\n",
              "      <td>23.437134+54.915609j</td>\n",
              "      <td>59.707817</td>\n",
              "    </tr>\n",
              "    <tr>\n",
              "      <th>4</th>\n",
              "      <td>0.08</td>\n",
              "      <td>0.065622</td>\n",
              "      <td>0.014137</td>\n",
              "      <td>0.000928</td>\n",
              "      <td>-22.689074+36.965522j</td>\n",
              "      <td>43.373308</td>\n",
              "    </tr>\n",
              "  </tbody>\n",
              "</table>\n",
              "</div>"
            ],
            "text/plain": [
              "   time       amp    filtro  signal_filter                   fft        asb\n",
              "0  0.00 -0.244690  0.001571      -0.000384   13.838794-0.000000j  13.838794\n",
              "1  0.02  0.055570  0.004712       0.000262  43.041462+22.215780j  48.436642\n",
              "2  0.04  0.034080  0.007854       0.000268   3.100171+29.423475j  29.586347\n",
              "3  0.06 -0.035078  0.010995      -0.000386  23.437134+54.915609j  59.707817\n",
              "4  0.08  0.065622  0.014137       0.000928 -22.689074+36.965522j  43.373308"
            ]
          },
          "metadata": {
            "tags": []
          },
          "execution_count": 23
        }
      ]
    },
    {
      "cell_type": "markdown",
      "metadata": {
        "id": "1ddwNnxGW4SP"
      },
      "source": [
        "# Calcular la fase"
      ]
    },
    {
      "cell_type": "code",
      "metadata": {
        "id": "0aouqxCOW6Ot",
        "outputId": "5ec262a5-a468-4fe1-8a4f-05783b7816c5",
        "colab": {
          "base_uri": "https://localhost:8080/",
          "height": 204
        }
      },
      "source": [
        "data['fase']=np.arctan((data['fft'].values.imag/data['fft'].values.real)*np.pi/180)\n",
        "data.head()"
      ],
      "execution_count": 64,
      "outputs": [
        {
          "output_type": "execute_result",
          "data": {
            "text/html": [
              "<div>\n",
              "<style scoped>\n",
              "    .dataframe tbody tr th:only-of-type {\n",
              "        vertical-align: middle;\n",
              "    }\n",
              "\n",
              "    .dataframe tbody tr th {\n",
              "        vertical-align: top;\n",
              "    }\n",
              "\n",
              "    .dataframe thead th {\n",
              "        text-align: right;\n",
              "    }\n",
              "</style>\n",
              "<table border=\"1\" class=\"dataframe\">\n",
              "  <thead>\n",
              "    <tr style=\"text-align: right;\">\n",
              "      <th></th>\n",
              "      <th>time</th>\n",
              "      <th>amp</th>\n",
              "      <th>filtro</th>\n",
              "      <th>signal_filter</th>\n",
              "      <th>fft</th>\n",
              "      <th>asb</th>\n",
              "      <th>fase</th>\n",
              "      <th>angle</th>\n",
              "      <th>ANGLE</th>\n",
              "    </tr>\n",
              "  </thead>\n",
              "  <tbody>\n",
              "    <tr>\n",
              "      <th>0</th>\n",
              "      <td>0.00</td>\n",
              "      <td>-0.244690</td>\n",
              "      <td>0.001571</td>\n",
              "      <td>-0.000384</td>\n",
              "      <td>13.838794-0.000000j</td>\n",
              "      <td>13.838794</td>\n",
              "      <td>-1.792253e-17</td>\n",
              "      <td>-1.026885e-15</td>\n",
              "      <td>0.241533-0.000000j</td>\n",
              "    </tr>\n",
              "    <tr>\n",
              "      <th>1</th>\n",
              "      <td>0.02</td>\n",
              "      <td>0.055570</td>\n",
              "      <td>0.004712</td>\n",
              "      <td>0.000262</td>\n",
              "      <td>43.041462+22.215780j</td>\n",
              "      <td>48.436642</td>\n",
              "      <td>9.008245e-03</td>\n",
              "      <td>4.764827e-01</td>\n",
              "      <td>0.751215+0.387739j</td>\n",
              "    </tr>\n",
              "    <tr>\n",
              "      <th>2</th>\n",
              "      <td>0.04</td>\n",
              "      <td>0.034080</td>\n",
              "      <td>0.007854</td>\n",
              "      <td>0.000268</td>\n",
              "      <td>3.100171+29.423475j</td>\n",
              "      <td>29.586347</td>\n",
              "      <td>1.641572e-01</td>\n",
              "      <td>1.465820e+00</td>\n",
              "      <td>0.054108+0.513537j</td>\n",
              "    </tr>\n",
              "    <tr>\n",
              "      <th>3</th>\n",
              "      <td>0.06</td>\n",
              "      <td>-0.035078</td>\n",
              "      <td>0.010995</td>\n",
              "      <td>-0.000386</td>\n",
              "      <td>23.437134+54.915609j</td>\n",
              "      <td>59.707817</td>\n",
              "      <td>4.087208e-02</td>\n",
              "      <td>1.167415e+00</td>\n",
              "      <td>0.409055+0.958458j</td>\n",
              "    </tr>\n",
              "    <tr>\n",
              "      <th>4</th>\n",
              "      <td>0.08</td>\n",
              "      <td>0.065622</td>\n",
              "      <td>0.014137</td>\n",
              "      <td>0.000928</td>\n",
              "      <td>-22.689074+36.965522j</td>\n",
              "      <td>43.373308</td>\n",
              "      <td>-2.842762e-02</td>\n",
              "      <td>2.121294e+00</td>\n",
              "      <td>-0.395999+0.645170j</td>\n",
              "    </tr>\n",
              "  </tbody>\n",
              "</table>\n",
              "</div>"
            ],
            "text/plain": [
              "   time       amp    filtro  ...          fase         angle               ANGLE\n",
              "0  0.00 -0.244690  0.001571  ... -1.792253e-17 -1.026885e-15  0.241533-0.000000j\n",
              "1  0.02  0.055570  0.004712  ...  9.008245e-03  4.764827e-01  0.751215+0.387739j\n",
              "2  0.04  0.034080  0.007854  ...  1.641572e-01  1.465820e+00  0.054108+0.513537j\n",
              "3  0.06 -0.035078  0.010995  ...  4.087208e-02  1.167415e+00  0.409055+0.958458j\n",
              "4  0.08  0.065622  0.014137  ... -2.842762e-02  2.121294e+00 -0.395999+0.645170j\n",
              "\n",
              "[5 rows x 9 columns]"
            ]
          },
          "metadata": {
            "tags": []
          },
          "execution_count": 64
        }
      ]
    },
    {
      "cell_type": "code",
      "metadata": {
        "id": "reYBM2Z1Yo7m",
        "outputId": "fe382b17-8c5a-416d-dd3e-de69008ff3c3",
        "colab": {
          "base_uri": "https://localhost:8080/",
          "height": 204
        }
      },
      "source": [
        "data['angle']=np.angle(data['fft'])\n",
        "data.head()"
      ],
      "execution_count": 74,
      "outputs": [
        {
          "output_type": "execute_result",
          "data": {
            "text/html": [
              "<div>\n",
              "<style scoped>\n",
              "    .dataframe tbody tr th:only-of-type {\n",
              "        vertical-align: middle;\n",
              "    }\n",
              "\n",
              "    .dataframe tbody tr th {\n",
              "        vertical-align: top;\n",
              "    }\n",
              "\n",
              "    .dataframe thead th {\n",
              "        text-align: right;\n",
              "    }\n",
              "</style>\n",
              "<table border=\"1\" class=\"dataframe\">\n",
              "  <thead>\n",
              "    <tr style=\"text-align: right;\">\n",
              "      <th></th>\n",
              "      <th>time</th>\n",
              "      <th>amp</th>\n",
              "      <th>filtro</th>\n",
              "      <th>signal_filter</th>\n",
              "      <th>fft</th>\n",
              "      <th>asb</th>\n",
              "      <th>fase</th>\n",
              "      <th>angle</th>\n",
              "      <th>ANGLE</th>\n",
              "    </tr>\n",
              "  </thead>\n",
              "  <tbody>\n",
              "    <tr>\n",
              "      <th>0</th>\n",
              "      <td>0.00</td>\n",
              "      <td>-0.244690</td>\n",
              "      <td>0.001571</td>\n",
              "      <td>-0.000384</td>\n",
              "      <td>13.838794-0.000000j</td>\n",
              "      <td>13.838794</td>\n",
              "      <td>-1.792253e-17</td>\n",
              "      <td>-1.026885e-15</td>\n",
              "      <td>-1.792253e-17</td>\n",
              "    </tr>\n",
              "    <tr>\n",
              "      <th>1</th>\n",
              "      <td>0.02</td>\n",
              "      <td>0.055570</td>\n",
              "      <td>0.004712</td>\n",
              "      <td>0.000262</td>\n",
              "      <td>43.041462+22.215780j</td>\n",
              "      <td>48.436642</td>\n",
              "      <td>9.008245e-03</td>\n",
              "      <td>4.764827e-01</td>\n",
              "      <td>8.316192e-03</td>\n",
              "    </tr>\n",
              "    <tr>\n",
              "      <th>2</th>\n",
              "      <td>0.04</td>\n",
              "      <td>0.034080</td>\n",
              "      <td>0.007854</td>\n",
              "      <td>0.000268</td>\n",
              "      <td>3.100171+29.423475j</td>\n",
              "      <td>29.586347</td>\n",
              "      <td>1.641572e-01</td>\n",
              "      <td>1.465820e+00</td>\n",
              "      <td>2.558338e-02</td>\n",
              "    </tr>\n",
              "    <tr>\n",
              "      <th>3</th>\n",
              "      <td>0.06</td>\n",
              "      <td>-0.035078</td>\n",
              "      <td>0.010995</td>\n",
              "      <td>-0.000386</td>\n",
              "      <td>23.437134+54.915609j</td>\n",
              "      <td>59.707817</td>\n",
              "      <td>4.087208e-02</td>\n",
              "      <td>1.167415e+00</td>\n",
              "      <td>2.037524e-02</td>\n",
              "    </tr>\n",
              "    <tr>\n",
              "      <th>4</th>\n",
              "      <td>0.08</td>\n",
              "      <td>0.065622</td>\n",
              "      <td>0.014137</td>\n",
              "      <td>0.000928</td>\n",
              "      <td>-22.689074+36.965522j</td>\n",
              "      <td>43.373308</td>\n",
              "      <td>-2.842762e-02</td>\n",
              "      <td>2.121294e+00</td>\n",
              "      <td>3.702356e-02</td>\n",
              "    </tr>\n",
              "  </tbody>\n",
              "</table>\n",
              "</div>"
            ],
            "text/plain": [
              "   time       amp    filtro  ...          fase         angle         ANGLE\n",
              "0  0.00 -0.244690  0.001571  ... -1.792253e-17 -1.026885e-15 -1.792253e-17\n",
              "1  0.02  0.055570  0.004712  ...  9.008245e-03  4.764827e-01  8.316192e-03\n",
              "2  0.04  0.034080  0.007854  ...  1.641572e-01  1.465820e+00  2.558338e-02\n",
              "3  0.06 -0.035078  0.010995  ...  4.087208e-02  1.167415e+00  2.037524e-02\n",
              "4  0.08  0.065622  0.014137  ... -2.842762e-02  2.121294e+00  3.702356e-02\n",
              "\n",
              "[5 rows x 9 columns]"
            ]
          },
          "metadata": {
            "tags": []
          },
          "execution_count": 74
        }
      ]
    },
    {
      "cell_type": "code",
      "metadata": {
        "id": "bb2obH2PZ05L",
        "outputId": "b1882340-ea9b-4b6e-ba03-af28f05fa61a",
        "colab": {
          "base_uri": "https://localhost:8080/",
          "height": 204
        }
      },
      "source": [
        "data['ANGLE']= data['angle']*(180/np.pi)\n",
        "data.head()"
      ],
      "execution_count": 79,
      "outputs": [
        {
          "output_type": "execute_result",
          "data": {
            "text/html": [
              "<div>\n",
              "<style scoped>\n",
              "    .dataframe tbody tr th:only-of-type {\n",
              "        vertical-align: middle;\n",
              "    }\n",
              "\n",
              "    .dataframe tbody tr th {\n",
              "        vertical-align: top;\n",
              "    }\n",
              "\n",
              "    .dataframe thead th {\n",
              "        text-align: right;\n",
              "    }\n",
              "</style>\n",
              "<table border=\"1\" class=\"dataframe\">\n",
              "  <thead>\n",
              "    <tr style=\"text-align: right;\">\n",
              "      <th></th>\n",
              "      <th>time</th>\n",
              "      <th>amp</th>\n",
              "      <th>filtro</th>\n",
              "      <th>signal_filter</th>\n",
              "      <th>fft</th>\n",
              "      <th>asb</th>\n",
              "      <th>fase</th>\n",
              "      <th>angle</th>\n",
              "      <th>ANGLE</th>\n",
              "    </tr>\n",
              "  </thead>\n",
              "  <tbody>\n",
              "    <tr>\n",
              "      <th>0</th>\n",
              "      <td>0.00</td>\n",
              "      <td>-0.244690</td>\n",
              "      <td>0.001571</td>\n",
              "      <td>-0.000384</td>\n",
              "      <td>13.838794-0.000000j</td>\n",
              "      <td>13.838794</td>\n",
              "      <td>-1.792253e-17</td>\n",
              "      <td>-1.026885e-15</td>\n",
              "      <td>-5.883620e-14</td>\n",
              "    </tr>\n",
              "    <tr>\n",
              "      <th>1</th>\n",
              "      <td>0.02</td>\n",
              "      <td>0.055570</td>\n",
              "      <td>0.004712</td>\n",
              "      <td>0.000262</td>\n",
              "      <td>43.041462+22.215780j</td>\n",
              "      <td>48.436642</td>\n",
              "      <td>9.008245e-03</td>\n",
              "      <td>4.764827e-01</td>\n",
              "      <td>2.730045e+01</td>\n",
              "    </tr>\n",
              "    <tr>\n",
              "      <th>2</th>\n",
              "      <td>0.04</td>\n",
              "      <td>0.034080</td>\n",
              "      <td>0.007854</td>\n",
              "      <td>0.000268</td>\n",
              "      <td>3.100171+29.423475j</td>\n",
              "      <td>29.586347</td>\n",
              "      <td>1.641572e-01</td>\n",
              "      <td>1.465820e+00</td>\n",
              "      <td>8.398529e+01</td>\n",
              "    </tr>\n",
              "    <tr>\n",
              "      <th>3</th>\n",
              "      <td>0.06</td>\n",
              "      <td>-0.035078</td>\n",
              "      <td>0.010995</td>\n",
              "      <td>-0.000386</td>\n",
              "      <td>23.437134+54.915609j</td>\n",
              "      <td>59.707817</td>\n",
              "      <td>4.087208e-02</td>\n",
              "      <td>1.167415e+00</td>\n",
              "      <td>6.688796e+01</td>\n",
              "    </tr>\n",
              "    <tr>\n",
              "      <th>4</th>\n",
              "      <td>0.08</td>\n",
              "      <td>0.065622</td>\n",
              "      <td>0.014137</td>\n",
              "      <td>0.000928</td>\n",
              "      <td>-22.689074+36.965522j</td>\n",
              "      <td>43.373308</td>\n",
              "      <td>-2.842762e-02</td>\n",
              "      <td>2.121294e+00</td>\n",
              "      <td>1.215412e+02</td>\n",
              "    </tr>\n",
              "  </tbody>\n",
              "</table>\n",
              "</div>"
            ],
            "text/plain": [
              "   time       amp    filtro  ...          fase         angle         ANGLE\n",
              "0  0.00 -0.244690  0.001571  ... -1.792253e-17 -1.026885e-15 -5.883620e-14\n",
              "1  0.02  0.055570  0.004712  ...  9.008245e-03  4.764827e-01  2.730045e+01\n",
              "2  0.04  0.034080  0.007854  ...  1.641572e-01  1.465820e+00  8.398529e+01\n",
              "3  0.06 -0.035078  0.010995  ...  4.087208e-02  1.167415e+00  6.688796e+01\n",
              "4  0.08  0.065622  0.014137  ... -2.842762e-02  2.121294e+00  1.215412e+02\n",
              "\n",
              "[5 rows x 9 columns]"
            ]
          },
          "metadata": {
            "tags": []
          },
          "execution_count": 79
        }
      ]
    },
    {
      "cell_type": "markdown",
      "metadata": {
        "id": "RiDWB4grXBP3"
      },
      "source": [
        "#Gráficos"
      ]
    },
    {
      "cell_type": "markdown",
      "metadata": {
        "id": "S7nu6cq8XT2D"
      },
      "source": [
        "# Espectro de ampitud en el dominio de la frecuencia"
      ]
    },
    {
      "cell_type": "code",
      "metadata": {
        "id": "aG6i9raLXDkj",
        "outputId": "8e0222d3-8f1f-401c-bd97-89a157354d9f",
        "colab": {
          "base_uri": "https://localhost:8080/",
          "height": 269
        }
      },
      "source": [
        "plt.loglog(t,data['asb'].iloc[0:8224])\n",
        "_=plt.show()"
      ],
      "execution_count": 27,
      "outputs": [
        {
          "output_type": "display_data",
          "data": {
            "image/png": "[encoded data removed]",
            "text/plain": [
              "<Figure size 432x288 with 1 Axes>"
            ]
          },
          "metadata": {
            "tags": [],
            "needs_background": "light"
          }
        }
      ]
    },
    {
      "cell_type": "markdown",
      "metadata": {
        "id": "Zt4Ihc1oXZLv"
      },
      "source": [
        "# Espectro de amplitud en el dominio del tiempo"
      ]
    },
    {
      "cell_type": "code",
      "metadata": {
        "id": "RXbB8w8hXd3M",
        "outputId": "6fb83c19-12dc-49b0-e24c-dbd380ea0522",
        "colab": {
          "base_uri": "https://localhost:8080/",
          "height": 269
        }
      },
      "source": [
        "plt.loglog(data['time'].iloc[0:8224],data['asb'].iloc[0:8224])\n",
        "_=plt.show()"
      ],
      "execution_count": 29,
      "outputs": [
        {
          "output_type": "display_data",
          "data": {
            "image/png": "[encoded data removed]",
            "text/plain": [
              "<Figure size 432x288 with 1 Axes>"
            ]
          },
          "metadata": {
            "tags": [],
            "needs_background": "light"
          }
        }
      ]
    },
    {
      "cell_type": "markdown",
      "metadata": {
        "id": "ePe73LaJXsEH"
      },
      "source": [
        "#FASE"
      ]
    },
    {
      "cell_type": "markdown",
      "metadata": {
        "id": "rOwh_dawXuCr"
      },
      "source": [
        "## ESPECTRO DE FASE EN EL DOMINIO DE LA FRECUENCIA"
      ]
    },
    {
      "cell_type": "code",
      "metadata": {
        "id": "KKiFrXJJXznX",
        "outputId": "30efbfd3-6c44-4d63-c2f5-b0611774753c",
        "colab": {
          "base_uri": "https://localhost:8080/",
          "height": 265
        }
      },
      "source": [
        "plt.plot((t),(data['fase'].iloc[0:8224]))\n",
        "_=plt.show()"
      ],
      "execution_count": 82,
      "outputs": [
        {
          "output_type": "display_data",
          "data": {
            "image/png": "[encoded data removed]",
            "text/plain": [
              "<Figure size 432x288 with 1 Axes>"
            ]
          },
          "metadata": {
            "tags": [],
            "needs_background": "light"
          }
        }
      ]
    }
  ]
}