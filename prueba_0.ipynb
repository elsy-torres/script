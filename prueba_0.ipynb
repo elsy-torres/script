{
  "nbformat": 4,
  "nbformat_minor": 0,
  "metadata": {
    "colab": {
      "name": "Untitled1.ipynb",
      "provenance": [],
      "toc_visible": true,
      "authorship_tag": "ABX9TyOnCtM/96u7auUfdGGuMjna",
      "include_colab_link": true
    },
    "kernelspec": {
      "name": "python3",
      "display_name": "Python 3"
    }
  },
  "cells": [
    {
      "cell_type": "markdown",
      "metadata": {
        "id": "view-in-github",
        "colab_type": "text"
      },
      "source": [
        "<a href=\"https://colab.research.google.com/github/elsy-torres/script/blob/main/prueba_0.ipynb\" target=\"_parent\"><img src=\"https://colab.research.google.com/assets/colab-badge.svg\" alt=\"Open In Colab\"/></a>"
      ]
    },
    {
      "cell_type": "markdown",
      "metadata": {
        "id": "-ywCuRfnJinP"
      },
      "source": [
        "# TRANSFORMADA DE UN SISMOGRAMA\n",
        "## Los datos fueron proporcionados por el Dr. Chang 2020."
      ]
    },
    {
      "cell_type": "markdown",
      "metadata": {
        "id": "Fv_AemmbJzyV"
      },
      "source": [
        "#Importar librerías"
      ]
    },
    {
      "cell_type": "code",
      "metadata": {
        "id": "zccAUeTiJVVO"
      },
      "source": [
        "import matplotlib.pyplot as plt\n",
        "import pandas as pd\n",
        "import numpy as np\n",
        "from scipy import signal\n",
        "from scipy import fftpack"
      ],
      "execution_count": 33,
      "outputs": []
    },
    {
      "cell_type": "markdown",
      "metadata": {
        "id": "rXtlkLkDKICs"
      },
      "source": [
        "# Cargar datos de un txt\n"
      ]
    },
    {
      "cell_type": "code",
      "metadata": {
        "id": "WSV50B2EJza3",
        "outputId": "c220d655-c263-49ff-e2b5-975cc927ff5c",
        "colab": {
          "base_uri": "https://localhost:8080/",
          "height": 359
        }
      },
      "source": [
        "data=pd.read_csv('NZ007.txt',names=['time','amp'],skiprows=3,sep='\\s+',engine='python')\n",
        "data.head(10)"
      ],
      "execution_count": 94,
      "outputs": [
        {
          "output_type": "execute_result",
          "data": {
            "text/html": [
              "<div>\n",
              "<style scoped>\n",
              "    .dataframe tbody tr th:only-of-type {\n",
              "        vertical-align: middle;\n",
              "    }\n",
              "\n",
              "    .dataframe tbody tr th {\n",
              "        vertical-align: top;\n",
              "    }\n",
              "\n",
              "    .dataframe thead th {\n",
              "        text-align: right;\n",
              "    }\n",
              "</style>\n",
              "<table border=\"1\" class=\"dataframe\">\n",
              "  <thead>\n",
              "    <tr style=\"text-align: right;\">\n",
              "      <th></th>\n",
              "      <th>time</th>\n",
              "      <th>amp</th>\n",
              "    </tr>\n",
              "  </thead>\n",
              "  <tbody>\n",
              "    <tr>\n",
              "      <th>0</th>\n",
              "      <td>0.00</td>\n",
              "      <td>-0.244690</td>\n",
              "    </tr>\n",
              "    <tr>\n",
              "      <th>1</th>\n",
              "      <td>0.02</td>\n",
              "      <td>0.055570</td>\n",
              "    </tr>\n",
              "    <tr>\n",
              "      <th>2</th>\n",
              "      <td>0.04</td>\n",
              "      <td>0.034080</td>\n",
              "    </tr>\n",
              "    <tr>\n",
              "      <th>3</th>\n",
              "      <td>0.06</td>\n",
              "      <td>-0.035078</td>\n",
              "    </tr>\n",
              "    <tr>\n",
              "      <th>4</th>\n",
              "      <td>0.08</td>\n",
              "      <td>0.065622</td>\n",
              "    </tr>\n",
              "    <tr>\n",
              "      <th>5</th>\n",
              "      <td>0.10</td>\n",
              "      <td>0.045962</td>\n",
              "    </tr>\n",
              "    <tr>\n",
              "      <th>6</th>\n",
              "      <td>0.12</td>\n",
              "      <td>0.007326</td>\n",
              "    </tr>\n",
              "    <tr>\n",
              "      <th>7</th>\n",
              "      <td>0.14</td>\n",
              "      <td>-0.012271</td>\n",
              "    </tr>\n",
              "    <tr>\n",
              "      <th>8</th>\n",
              "      <td>0.16</td>\n",
              "      <td>-0.046718</td>\n",
              "    </tr>\n",
              "    <tr>\n",
              "      <th>9</th>\n",
              "      <td>0.18</td>\n",
              "      <td>-0.049188</td>\n",
              "    </tr>\n",
              "  </tbody>\n",
              "</table>\n",
              "</div>"
            ],
            "text/plain": [
              "   time       amp\n",
              "0  0.00 -0.244690\n",
              "1  0.02  0.055570\n",
              "2  0.04  0.034080\n",
              "3  0.06 -0.035078\n",
              "4  0.08  0.065622\n",
              "5  0.10  0.045962\n",
              "6  0.12  0.007326\n",
              "7  0.14 -0.012271\n",
              "8  0.16 -0.046718\n",
              "9  0.18 -0.049188"
            ]
          },
          "metadata": {
            "tags": []
          },
          "execution_count": 94
        }
      ]
    },
    {
      "cell_type": "code",
      "metadata": {
        "id": "H-vPQJIYToEp",
        "outputId": "07bf7f2a-6889-4892-94f5-a19fcdf4f0d7",
        "colab": {
          "base_uri": "https://localhost:8080/",
          "height": 204
        }
      },
      "source": [
        "data.tail()\n"
      ],
      "execution_count": 95,
      "outputs": [
        {
          "output_type": "execute_result",
          "data": {
            "text/html": [
              "<div>\n",
              "<style scoped>\n",
              "    .dataframe tbody tr th:only-of-type {\n",
              "        vertical-align: middle;\n",
              "    }\n",
              "\n",
              "    .dataframe tbody tr th {\n",
              "        vertical-align: top;\n",
              "    }\n",
              "\n",
              "    .dataframe thead th {\n",
              "        text-align: right;\n",
              "    }\n",
              "</style>\n",
              "<table border=\"1\" class=\"dataframe\">\n",
              "  <thead>\n",
              "    <tr style=\"text-align: right;\">\n",
              "      <th></th>\n",
              "      <th>time</th>\n",
              "      <th>amp</th>\n",
              "    </tr>\n",
              "  </thead>\n",
              "  <tbody>\n",
              "    <tr>\n",
              "      <th>16443</th>\n",
              "      <td>328.86</td>\n",
              "      <td>0.72716</td>\n",
              "    </tr>\n",
              "    <tr>\n",
              "      <th>16444</th>\n",
              "      <td>328.88</td>\n",
              "      <td>0.61736</td>\n",
              "    </tr>\n",
              "    <tr>\n",
              "      <th>16445</th>\n",
              "      <td>328.90</td>\n",
              "      <td>0.54991</td>\n",
              "    </tr>\n",
              "    <tr>\n",
              "      <th>16446</th>\n",
              "      <td>328.92</td>\n",
              "      <td>0.59976</td>\n",
              "    </tr>\n",
              "    <tr>\n",
              "      <th>16447</th>\n",
              "      <td>328.94</td>\n",
              "      <td>0.41080</td>\n",
              "    </tr>\n",
              "  </tbody>\n",
              "</table>\n",
              "</div>"
            ],
            "text/plain": [
              "         time      amp\n",
              "16443  328.86  0.72716\n",
              "16444  328.88  0.61736\n",
              "16445  328.90  0.54991\n",
              "16446  328.92  0.59976\n",
              "16447  328.94  0.41080"
            ]
          },
          "metadata": {
            "tags": []
          },
          "execution_count": 95
        }
      ]
    },
    {
      "cell_type": "code",
      "metadata": {
        "id": "hJ3NM8QhT0JX",
        "outputId": "6e930985-cd2d-4829-b8d0-017100be987c",
        "colab": {
          "base_uri": "https://localhost:8080/"
        }
      },
      "source": [
        "print(len(data))"
      ],
      "execution_count": 96,
      "outputs": [
        {
          "output_type": "stream",
          "text": [
            "16448\n"
          ],
          "name": "stdout"
        }
      ]
    },
    {
      "cell_type": "code",
      "metadata": {
        "id": "VGF2uDB-aI6d",
        "outputId": "d3bdc2cf-a4f8-423b-d41f-6ba848d1edf6",
        "colab": {
          "base_uri": "https://localhost:8080/"
        }
      },
      "source": [
        "1/328.94"
      ],
      "execution_count": 40,
      "outputs": [
        {
          "output_type": "execute_result",
          "data": {
            "text/plain": [
              "0.0030400680975253844"
            ]
          },
          "metadata": {
            "tags": []
          },
          "execution_count": 40
        }
      ]
    },
    {
      "cell_type": "code",
      "metadata": {
        "id": "C4ezMYCVKXa_"
      },
      "source": [
        "data.info()"
      ],
      "execution_count": null,
      "outputs": []
    },
    {
      "cell_type": "code",
      "metadata": {
        "id": "dawpV7QKZJFP",
        "outputId": "e951621f-ba66-4a52-b53a-c259a7d68a25",
        "colab": {
          "base_uri": "https://localhost:8080/",
          "height": 282
        }
      },
      "source": [
        "plt.plot(data['time'],data['amp'])"
      ],
      "execution_count": 97,
      "outputs": [
        {
          "output_type": "execute_result",
          "data": {
            "text/plain": [
              "[<matplotlib.lines.Line2D at 0x7f2dc6d677f0>]"
            ]
          },
          "metadata": {
            "tags": []
          },
          "execution_count": 97
        },
        {
          "output_type": "display_data",
          "data": {
            "image/png": "[encoded data removed]",
            "text/plain": [
              "<Figure size 432x288 with 1 Axes>"
            ]
          },
          "metadata": {
            "tags": [],
            "needs_background": "light"
          }
        }
      ]
    },
    {
      "cell_type": "markdown",
      "metadata": {
        "id": "4imQ3zArKQS7"
      },
      "source": [
        "# Declarar el vector x en el dominio de la frecuencia"
      ]
    },
    {
      "cell_type": "code",
      "metadata": {
        "id": "7GDgeWqHKZeQ",
        "outputId": "4c578a3d-dc87-4043-ca3e-6a5b775251a3",
        "colab": {
          "base_uri": "https://localhost:8080/"
        }
      },
      "source": [
        "fo=1/328.94\n",
        "\n",
        "data['freq']=np.arange(0,len(data)*fo,step=fo)\n",
        "data['W']=2*np.pi*data['freq']\n",
        "print(data)"
      ],
      "execution_count": 99,
      "outputs": [
        {
          "output_type": "stream",
          "text": [
            "         time       amp      freq           W\n",
            "0        0.00 -0.244690   0.00000    0.000000\n",
            "1        0.02  0.055570   0.00304    0.019101\n",
            "2        0.04  0.034080   0.00608    0.038203\n",
            "3        0.06 -0.035078   0.00912    0.057304\n",
            "4        0.08  0.065622   0.01216    0.076405\n",
            "...       ...       ...       ...         ...\n",
            "16443  328.86  0.727160  49.98784  314.082860\n",
            "16444  328.88  0.617360  49.99088  314.101961\n",
            "16445  328.90  0.549910  49.99392  314.121063\n",
            "16446  328.92  0.599760  49.99696  314.140164\n",
            "16447  328.94  0.410800  50.00000  314.159265\n",
            "\n",
            "[16448 rows x 4 columns]\n"
          ],
          "name": "stdout"
        }
      ]
    },
    {
      "cell_type": "code",
      "metadata": {
        "id": "YKUL71KueRbV"
      },
      "source": [
        ""
      ],
      "execution_count": 62,
      "outputs": []
    },
    {
      "cell_type": "code",
      "metadata": {
        "id": "6Sv-x3xwUqB_",
        "outputId": "e4b94b6b-b6c4-4ab0-ff8c-2d6a729aee65",
        "colab": {
          "base_uri": "https://localhost:8080/",
          "height": 204
        }
      },
      "source": [
        "data.tail()"
      ],
      "execution_count": 100,
      "outputs": [
        {
          "output_type": "execute_result",
          "data": {
            "text/html": [
              "<div>\n",
              "<style scoped>\n",
              "    .dataframe tbody tr th:only-of-type {\n",
              "        vertical-align: middle;\n",
              "    }\n",
              "\n",
              "    .dataframe tbody tr th {\n",
              "        vertical-align: top;\n",
              "    }\n",
              "\n",
              "    .dataframe thead th {\n",
              "        text-align: right;\n",
              "    }\n",
              "</style>\n",
              "<table border=\"1\" class=\"dataframe\">\n",
              "  <thead>\n",
              "    <tr style=\"text-align: right;\">\n",
              "      <th></th>\n",
              "      <th>time</th>\n",
              "      <th>amp</th>\n",
              "      <th>freq</th>\n",
              "      <th>W</th>\n",
              "    </tr>\n",
              "  </thead>\n",
              "  <tbody>\n",
              "    <tr>\n",
              "      <th>16443</th>\n",
              "      <td>328.86</td>\n",
              "      <td>0.72716</td>\n",
              "      <td>49.98784</td>\n",
              "      <td>314.082860</td>\n",
              "    </tr>\n",
              "    <tr>\n",
              "      <th>16444</th>\n",
              "      <td>328.88</td>\n",
              "      <td>0.61736</td>\n",
              "      <td>49.99088</td>\n",
              "      <td>314.101961</td>\n",
              "    </tr>\n",
              "    <tr>\n",
              "      <th>16445</th>\n",
              "      <td>328.90</td>\n",
              "      <td>0.54991</td>\n",
              "      <td>49.99392</td>\n",
              "      <td>314.121063</td>\n",
              "    </tr>\n",
              "    <tr>\n",
              "      <th>16446</th>\n",
              "      <td>328.92</td>\n",
              "      <td>0.59976</td>\n",
              "      <td>49.99696</td>\n",
              "      <td>314.140164</td>\n",
              "    </tr>\n",
              "    <tr>\n",
              "      <th>16447</th>\n",
              "      <td>328.94</td>\n",
              "      <td>0.41080</td>\n",
              "      <td>50.00000</td>\n",
              "      <td>314.159265</td>\n",
              "    </tr>\n",
              "  </tbody>\n",
              "</table>\n",
              "</div>"
            ],
            "text/plain": [
              "         time      amp      freq           W\n",
              "16443  328.86  0.72716  49.98784  314.082860\n",
              "16444  328.88  0.61736  49.99088  314.101961\n",
              "16445  328.90  0.54991  49.99392  314.121063\n",
              "16446  328.92  0.59976  49.99696  314.140164\n",
              "16447  328.94  0.41080  50.00000  314.159265"
            ]
          },
          "metadata": {
            "tags": []
          },
          "execution_count": 100
        }
      ]
    },
    {
      "cell_type": "markdown",
      "metadata": {
        "id": "9f-Vlow8Ku2i"
      },
      "source": [
        "# Aplicar un filtro a la serie de tiempo antes de realizar la FT\n"
      ]
    },
    {
      "cell_type": "code",
      "metadata": {
        "id": "3yJB9ZpEK24z"
      },
      "source": [
        "data=data.drop('filtro1',axis=1)"
      ],
      "execution_count": null,
      "outputs": []
    },
    {
      "cell_type": "code",
      "metadata": {
        "id": "67GeQaWnK6eY",
        "outputId": "fe893999-5fed-4c9d-9a15-a6be4981c988",
        "colab": {
          "base_uri": "https://localhost:8080/",
          "height": 419
        }
      },
      "source": [
        "data['filtro']=1\n",
        "data"
      ],
      "execution_count": 101,
      "outputs": [
        {
          "output_type": "execute_result",
          "data": {
            "text/html": [
              "<div>\n",
              "<style scoped>\n",
              "    .dataframe tbody tr th:only-of-type {\n",
              "        vertical-align: middle;\n",
              "    }\n",
              "\n",
              "    .dataframe tbody tr th {\n",
              "        vertical-align: top;\n",
              "    }\n",
              "\n",
              "    .dataframe thead th {\n",
              "        text-align: right;\n",
              "    }\n",
              "</style>\n",
              "<table border=\"1\" class=\"dataframe\">\n",
              "  <thead>\n",
              "    <tr style=\"text-align: right;\">\n",
              "      <th></th>\n",
              "      <th>time</th>\n",
              "      <th>amp</th>\n",
              "      <th>freq</th>\n",
              "      <th>W</th>\n",
              "      <th>filtro</th>\n",
              "    </tr>\n",
              "  </thead>\n",
              "  <tbody>\n",
              "    <tr>\n",
              "      <th>0</th>\n",
              "      <td>0.00</td>\n",
              "      <td>-0.244690</td>\n",
              "      <td>0.00000</td>\n",
              "      <td>0.000000</td>\n",
              "      <td>1</td>\n",
              "    </tr>\n",
              "    <tr>\n",
              "      <th>1</th>\n",
              "      <td>0.02</td>\n",
              "      <td>0.055570</td>\n",
              "      <td>0.00304</td>\n",
              "      <td>0.019101</td>\n",
              "      <td>1</td>\n",
              "    </tr>\n",
              "    <tr>\n",
              "      <th>2</th>\n",
              "      <td>0.04</td>\n",
              "      <td>0.034080</td>\n",
              "      <td>0.00608</td>\n",
              "      <td>0.038203</td>\n",
              "      <td>1</td>\n",
              "    </tr>\n",
              "    <tr>\n",
              "      <th>3</th>\n",
              "      <td>0.06</td>\n",
              "      <td>-0.035078</td>\n",
              "      <td>0.00912</td>\n",
              "      <td>0.057304</td>\n",
              "      <td>1</td>\n",
              "    </tr>\n",
              "    <tr>\n",
              "      <th>4</th>\n",
              "      <td>0.08</td>\n",
              "      <td>0.065622</td>\n",
              "      <td>0.01216</td>\n",
              "      <td>0.076405</td>\n",
              "      <td>1</td>\n",
              "    </tr>\n",
              "    <tr>\n",
              "      <th>...</th>\n",
              "      <td>...</td>\n",
              "      <td>...</td>\n",
              "      <td>...</td>\n",
              "      <td>...</td>\n",
              "      <td>...</td>\n",
              "    </tr>\n",
              "    <tr>\n",
              "      <th>16443</th>\n",
              "      <td>328.86</td>\n",
              "      <td>0.727160</td>\n",
              "      <td>49.98784</td>\n",
              "      <td>314.082860</td>\n",
              "      <td>1</td>\n",
              "    </tr>\n",
              "    <tr>\n",
              "      <th>16444</th>\n",
              "      <td>328.88</td>\n",
              "      <td>0.617360</td>\n",
              "      <td>49.99088</td>\n",
              "      <td>314.101961</td>\n",
              "      <td>1</td>\n",
              "    </tr>\n",
              "    <tr>\n",
              "      <th>16445</th>\n",
              "      <td>328.90</td>\n",
              "      <td>0.549910</td>\n",
              "      <td>49.99392</td>\n",
              "      <td>314.121063</td>\n",
              "      <td>1</td>\n",
              "    </tr>\n",
              "    <tr>\n",
              "      <th>16446</th>\n",
              "      <td>328.92</td>\n",
              "      <td>0.599760</td>\n",
              "      <td>49.99696</td>\n",
              "      <td>314.140164</td>\n",
              "      <td>1</td>\n",
              "    </tr>\n",
              "    <tr>\n",
              "      <th>16447</th>\n",
              "      <td>328.94</td>\n",
              "      <td>0.410800</td>\n",
              "      <td>50.00000</td>\n",
              "      <td>314.159265</td>\n",
              "      <td>1</td>\n",
              "    </tr>\n",
              "  </tbody>\n",
              "</table>\n",
              "<p>16448 rows × 5 columns</p>\n",
              "</div>"
            ],
            "text/plain": [
              "         time       amp      freq           W  filtro\n",
              "0        0.00 -0.244690   0.00000    0.000000       1\n",
              "1        0.02  0.055570   0.00304    0.019101       1\n",
              "2        0.04  0.034080   0.00608    0.038203       1\n",
              "3        0.06 -0.035078   0.00912    0.057304       1\n",
              "4        0.08  0.065622   0.01216    0.076405       1\n",
              "...       ...       ...       ...         ...     ...\n",
              "16443  328.86  0.727160  49.98784  314.082860       1\n",
              "16444  328.88  0.617360  49.99088  314.101961       1\n",
              "16445  328.90  0.549910  49.99392  314.121063       1\n",
              "16446  328.92  0.599760  49.99696  314.140164       1\n",
              "16447  328.94  0.410800  50.00000  314.159265       1\n",
              "\n",
              "[16448 rows x 5 columns]"
            ]
          },
          "metadata": {
            "tags": []
          },
          "execution_count": 101
        }
      ]
    },
    {
      "cell_type": "code",
      "metadata": {
        "id": "VnBwmbDlK8nL",
        "outputId": "ef84219f-0b8b-4c4e-ab2a-5e3a6be84bb0",
        "colab": {
          "base_uri": "https://localhost:8080/",
          "height": 309
        }
      },
      "source": [
        "data['filtro'].iloc[data.index<1000]=signal.cosine(1000)\n",
        "data['filtro'].iloc[data.index>15447]=signal.cosine(1000)\n",
        "data.tail()"
      ],
      "execution_count": 102,
      "outputs": [
        {
          "output_type": "stream",
          "text": [
            "/usr/local/lib/python3.6/dist-packages/pandas/core/indexing.py:670: SettingWithCopyWarning: \n",
            "A value is trying to be set on a copy of a slice from a DataFrame\n",
            "\n",
            "See the caveats in the documentation: https://pandas.pydata.org/pandas-docs/stable/user_guide/indexing.html#returning-a-view-versus-a-copy\n",
            "  iloc._setitem_with_indexer(indexer, value)\n"
          ],
          "name": "stderr"
        },
        {
          "output_type": "execute_result",
          "data": {
            "text/html": [
              "<div>\n",
              "<style scoped>\n",
              "    .dataframe tbody tr th:only-of-type {\n",
              "        vertical-align: middle;\n",
              "    }\n",
              "\n",
              "    .dataframe tbody tr th {\n",
              "        vertical-align: top;\n",
              "    }\n",
              "\n",
              "    .dataframe thead th {\n",
              "        text-align: right;\n",
              "    }\n",
              "</style>\n",
              "<table border=\"1\" class=\"dataframe\">\n",
              "  <thead>\n",
              "    <tr style=\"text-align: right;\">\n",
              "      <th></th>\n",
              "      <th>time</th>\n",
              "      <th>amp</th>\n",
              "      <th>freq</th>\n",
              "      <th>W</th>\n",
              "      <th>filtro</th>\n",
              "    </tr>\n",
              "  </thead>\n",
              "  <tbody>\n",
              "    <tr>\n",
              "      <th>16443</th>\n",
              "      <td>328.86</td>\n",
              "      <td>0.72716</td>\n",
              "      <td>49.98784</td>\n",
              "      <td>314.082860</td>\n",
              "      <td>0.014137</td>\n",
              "    </tr>\n",
              "    <tr>\n",
              "      <th>16444</th>\n",
              "      <td>328.88</td>\n",
              "      <td>0.61736</td>\n",
              "      <td>49.99088</td>\n",
              "      <td>314.101961</td>\n",
              "      <td>0.010995</td>\n",
              "    </tr>\n",
              "    <tr>\n",
              "      <th>16445</th>\n",
              "      <td>328.90</td>\n",
              "      <td>0.54991</td>\n",
              "      <td>49.99392</td>\n",
              "      <td>314.121063</td>\n",
              "      <td>0.007854</td>\n",
              "    </tr>\n",
              "    <tr>\n",
              "      <th>16446</th>\n",
              "      <td>328.92</td>\n",
              "      <td>0.59976</td>\n",
              "      <td>49.99696</td>\n",
              "      <td>314.140164</td>\n",
              "      <td>0.004712</td>\n",
              "    </tr>\n",
              "    <tr>\n",
              "      <th>16447</th>\n",
              "      <td>328.94</td>\n",
              "      <td>0.41080</td>\n",
              "      <td>50.00000</td>\n",
              "      <td>314.159265</td>\n",
              "      <td>0.001571</td>\n",
              "    </tr>\n",
              "  </tbody>\n",
              "</table>\n",
              "</div>"
            ],
            "text/plain": [
              "         time      amp      freq           W    filtro\n",
              "16443  328.86  0.72716  49.98784  314.082860  0.014137\n",
              "16444  328.88  0.61736  49.99088  314.101961  0.010995\n",
              "16445  328.90  0.54991  49.99392  314.121063  0.007854\n",
              "16446  328.92  0.59976  49.99696  314.140164  0.004712\n",
              "16447  328.94  0.41080  50.00000  314.159265  0.001571"
            ]
          },
          "metadata": {
            "tags": []
          },
          "execution_count": 102
        }
      ]
    },
    {
      "cell_type": "code",
      "metadata": {
        "id": "wsPY5C8JK_WL",
        "outputId": "23b10b65-8555-4b5b-b8a8-f870762b2f49",
        "colab": {
          "base_uri": "https://localhost:8080/",
          "height": 204
        }
      },
      "source": [
        "data['signal_filter']= data['filtro']*data['amp']\n",
        "data.tail()"
      ],
      "execution_count": 104,
      "outputs": [
        {
          "output_type": "execute_result",
          "data": {
            "text/html": [
              "<div>\n",
              "<style scoped>\n",
              "    .dataframe tbody tr th:only-of-type {\n",
              "        vertical-align: middle;\n",
              "    }\n",
              "\n",
              "    .dataframe tbody tr th {\n",
              "        vertical-align: top;\n",
              "    }\n",
              "\n",
              "    .dataframe thead th {\n",
              "        text-align: right;\n",
              "    }\n",
              "</style>\n",
              "<table border=\"1\" class=\"dataframe\">\n",
              "  <thead>\n",
              "    <tr style=\"text-align: right;\">\n",
              "      <th></th>\n",
              "      <th>time</th>\n",
              "      <th>amp</th>\n",
              "      <th>freq</th>\n",
              "      <th>W</th>\n",
              "      <th>filtro</th>\n",
              "      <th>signal_filter</th>\n",
              "    </tr>\n",
              "  </thead>\n",
              "  <tbody>\n",
              "    <tr>\n",
              "      <th>16443</th>\n",
              "      <td>328.86</td>\n",
              "      <td>0.72716</td>\n",
              "      <td>49.98784</td>\n",
              "      <td>314.082860</td>\n",
              "      <td>0.014137</td>\n",
              "      <td>0.010280</td>\n",
              "    </tr>\n",
              "    <tr>\n",
              "      <th>16444</th>\n",
              "      <td>328.88</td>\n",
              "      <td>0.61736</td>\n",
              "      <td>49.99088</td>\n",
              "      <td>314.101961</td>\n",
              "      <td>0.010995</td>\n",
              "      <td>0.006788</td>\n",
              "    </tr>\n",
              "    <tr>\n",
              "      <th>16445</th>\n",
              "      <td>328.90</td>\n",
              "      <td>0.54991</td>\n",
              "      <td>49.99392</td>\n",
              "      <td>314.121063</td>\n",
              "      <td>0.007854</td>\n",
              "      <td>0.004319</td>\n",
              "    </tr>\n",
              "    <tr>\n",
              "      <th>16446</th>\n",
              "      <td>328.92</td>\n",
              "      <td>0.59976</td>\n",
              "      <td>49.99696</td>\n",
              "      <td>314.140164</td>\n",
              "      <td>0.004712</td>\n",
              "      <td>0.002826</td>\n",
              "    </tr>\n",
              "    <tr>\n",
              "      <th>16447</th>\n",
              "      <td>328.94</td>\n",
              "      <td>0.41080</td>\n",
              "      <td>50.00000</td>\n",
              "      <td>314.159265</td>\n",
              "      <td>0.001571</td>\n",
              "      <td>0.000645</td>\n",
              "    </tr>\n",
              "  </tbody>\n",
              "</table>\n",
              "</div>"
            ],
            "text/plain": [
              "         time      amp      freq           W    filtro  signal_filter\n",
              "16443  328.86  0.72716  49.98784  314.082860  0.014137       0.010280\n",
              "16444  328.88  0.61736  49.99088  314.101961  0.010995       0.006788\n",
              "16445  328.90  0.54991  49.99392  314.121063  0.007854       0.004319\n",
              "16446  328.92  0.59976  49.99696  314.140164  0.004712       0.002826\n",
              "16447  328.94  0.41080  50.00000  314.159265  0.001571       0.000645"
            ]
          },
          "metadata": {
            "tags": []
          },
          "execution_count": 104
        }
      ]
    },
    {
      "cell_type": "code",
      "metadata": {
        "id": "NvERW21oVOD2",
        "outputId": "88e7fcf6-7f66-4a69-e995-4b6f4249406f",
        "colab": {
          "base_uri": "https://localhost:8080/",
          "height": 282
        }
      },
      "source": [
        "plt.plot(data['time'],data['amp'])"
      ],
      "execution_count": 105,
      "outputs": [
        {
          "output_type": "execute_result",
          "data": {
            "text/plain": [
              "[<matplotlib.lines.Line2D at 0x7f2dc6801a90>]"
            ]
          },
          "metadata": {
            "tags": []
          },
          "execution_count": 105
        },
        {
          "output_type": "display_data",
          "data": {
            "image/png": "[encoded data removed]",
            "text/plain": [
              "<Figure size 432x288 with 1 Axes>"
            ]
          },
          "metadata": {
            "tags": [],
            "needs_background": "light"
          }
        }
      ]
    },
    {
      "cell_type": "code",
      "metadata": {
        "id": "22CSuYzsLBVf",
        "outputId": "1721a91e-f925-4f9b-f209-805fbcf22c6b",
        "colab": {
          "base_uri": "https://localhost:8080/",
          "height": 282
        }
      },
      "source": [
        "plt.plot(data['time'],data['signal_filter'])"
      ],
      "execution_count": 106,
      "outputs": [
        {
          "output_type": "execute_result",
          "data": {
            "text/plain": [
              "[<matplotlib.lines.Line2D at 0x7f2dc5e035f8>]"
            ]
          },
          "metadata": {
            "tags": []
          },
          "execution_count": 106
        },
        {
          "output_type": "display_data",
          "data": {
            "image/png": "[encoded data removed]",
            "text/plain": [
              "<Figure size 432x288 with 1 Axes>"
            ]
          },
          "metadata": {
            "tags": [],
            "needs_background": "light"
          }
        }
      ]
    },
    {
      "cell_type": "markdown",
      "metadata": {
        "id": "u-w5jY3eLKfe"
      },
      "source": [
        "# Realizar FT"
      ]
    },
    {
      "cell_type": "code",
      "metadata": {
        "id": "QP34dJx2LJya",
        "outputId": "01580843-3f47-4cd8-ceec-d5b8420a29a6",
        "colab": {
          "base_uri": "https://localhost:8080/",
          "height": 323
        }
      },
      "source": [
        "data['fft']=fftpack.fft(data['signal_filter'])\n",
        "data.head(5)"
      ],
      "execution_count": 108,
      "outputs": [
        {
          "output_type": "error",
          "ename": "AttributeError",
          "evalue": "ignored",
          "traceback": [
            "\u001b[0;31m---------------------------------------------------------------------------\u001b[0m",
            "\u001b[0;31mAttributeError\u001b[0m                            Traceback (most recent call last)",
            "\u001b[0;32m<ipython-input-108-7efabf2ea7b4>\u001b[0m in \u001b[0;36m<module>\u001b[0;34m()\u001b[0m\n\u001b[0;32m----> 1\u001b[0;31m \u001b[0mdata\u001b[0m\u001b[0;34m[\u001b[0m\u001b[0;34m'fft'\u001b[0m\u001b[0;34m]\u001b[0m\u001b[0;34m=\u001b[0m\u001b[0mfftpack\u001b[0m\u001b[0;34m.\u001b[0m\u001b[0mfft\u001b[0m\u001b[0;34m(\u001b[0m\u001b[0mdata\u001b[0m\u001b[0;34m[\u001b[0m\u001b[0;34m'signal_filter'\u001b[0m\u001b[0;34m]\u001b[0m\u001b[0;34m)\u001b[0m\u001b[0;34m\u001b[0m\u001b[0;34m\u001b[0m\u001b[0m\n\u001b[0m\u001b[1;32m      2\u001b[0m \u001b[0mdata\u001b[0m\u001b[0;34m.\u001b[0m\u001b[0mhead\u001b[0m\u001b[0;34m(\u001b[0m\u001b[0;36m5\u001b[0m\u001b[0;34m)\u001b[0m\u001b[0;34m\u001b[0m\u001b[0;34m\u001b[0m\u001b[0m\n",
            "\u001b[0;32m/usr/local/lib/python3.6/dist-packages/scipy/fftpack/basic.py\u001b[0m in \u001b[0;36mfft\u001b[0;34m(x, n, axis, overwrite_x)\u001b[0m\n\u001b[1;32m     87\u001b[0m \u001b[0;34m\u001b[0m\u001b[0m\n\u001b[1;32m     88\u001b[0m     \"\"\"\n\u001b[0;32m---> 89\u001b[0;31m     \u001b[0;32mreturn\u001b[0m \u001b[0m_pocketfft\u001b[0m\u001b[0;34m.\u001b[0m\u001b[0mfft\u001b[0m\u001b[0;34m(\u001b[0m\u001b[0mx\u001b[0m\u001b[0;34m,\u001b[0m \u001b[0mn\u001b[0m\u001b[0;34m,\u001b[0m \u001b[0maxis\u001b[0m\u001b[0;34m,\u001b[0m \u001b[0;32mNone\u001b[0m\u001b[0;34m,\u001b[0m \u001b[0moverwrite_x\u001b[0m\u001b[0;34m)\u001b[0m\u001b[0;34m\u001b[0m\u001b[0;34m\u001b[0m\u001b[0m\n\u001b[0m\u001b[1;32m     90\u001b[0m \u001b[0;34m\u001b[0m\u001b[0m\n\u001b[1;32m     91\u001b[0m \u001b[0;34m\u001b[0m\u001b[0m\n",
            "\u001b[0;32m/usr/local/lib/python3.6/dist-packages/scipy/fft/_pocketfft/basic.py\u001b[0m in \u001b[0;36mc2c\u001b[0;34m(forward, x, n, axis, norm, overwrite_x, workers)\u001b[0m\n\u001b[1;32m     14\u001b[0m         workers=None):\n\u001b[1;32m     15\u001b[0m     \u001b[0;34m\"\"\" Return discrete Fourier transform of real or complex sequence. \"\"\"\u001b[0m\u001b[0;34m\u001b[0m\u001b[0;34m\u001b[0m\u001b[0m\n\u001b[0;32m---> 16\u001b[0;31m     \u001b[0mtmp\u001b[0m \u001b[0;34m=\u001b[0m \u001b[0m_asfarray\u001b[0m\u001b[0;34m(\u001b[0m\u001b[0mx\u001b[0m\u001b[0;34m)\u001b[0m\u001b[0;34m\u001b[0m\u001b[0;34m\u001b[0m\u001b[0m\n\u001b[0m\u001b[1;32m     17\u001b[0m     \u001b[0moverwrite_x\u001b[0m \u001b[0;34m=\u001b[0m \u001b[0moverwrite_x\u001b[0m \u001b[0;32mor\u001b[0m \u001b[0m_datacopied\u001b[0m\u001b[0;34m(\u001b[0m\u001b[0mtmp\u001b[0m\u001b[0;34m,\u001b[0m \u001b[0mx\u001b[0m\u001b[0;34m)\u001b[0m\u001b[0;34m\u001b[0m\u001b[0;34m\u001b[0m\u001b[0m\n\u001b[1;32m     18\u001b[0m     \u001b[0mnorm\u001b[0m \u001b[0;34m=\u001b[0m \u001b[0m_normalization\u001b[0m\u001b[0;34m(\u001b[0m\u001b[0mnorm\u001b[0m\u001b[0;34m,\u001b[0m \u001b[0mforward\u001b[0m\u001b[0;34m)\u001b[0m\u001b[0;34m\u001b[0m\u001b[0;34m\u001b[0m\u001b[0m\n",
            "\u001b[0;32m/usr/local/lib/python3.6/dist-packages/scipy/fft/_pocketfft/helper.py\u001b[0m in \u001b[0;36m_asfarray\u001b[0;34m(x)\u001b[0m\n\u001b[1;32m     93\u001b[0m \u001b[0;34m\u001b[0m\u001b[0m\n\u001b[1;32m     94\u001b[0m     \u001b[0;31m# Always align input\u001b[0m\u001b[0;34m\u001b[0m\u001b[0;34m\u001b[0m\u001b[0;34m\u001b[0m\u001b[0m\n\u001b[0;32m---> 95\u001b[0;31m     \u001b[0;32mreturn\u001b[0m \u001b[0mnp\u001b[0m\u001b[0;34m.\u001b[0m\u001b[0marray\u001b[0m\u001b[0;34m(\u001b[0m\u001b[0mx\u001b[0m\u001b[0;34m,\u001b[0m \u001b[0mcopy\u001b[0m\u001b[0;34m=\u001b[0m\u001b[0;32mnot\u001b[0m \u001b[0mx\u001b[0m\u001b[0;34m.\u001b[0m\u001b[0mflags\u001b[0m\u001b[0;34m[\u001b[0m\u001b[0;34m'ALIGNED'\u001b[0m\u001b[0;34m]\u001b[0m\u001b[0;34m)\u001b[0m\u001b[0;34m\u001b[0m\u001b[0;34m\u001b[0m\u001b[0m\n\u001b[0m\u001b[1;32m     96\u001b[0m \u001b[0;34m\u001b[0m\u001b[0m\n\u001b[1;32m     97\u001b[0m \u001b[0;32mdef\u001b[0m \u001b[0m_datacopied\u001b[0m\u001b[0;34m(\u001b[0m\u001b[0marr\u001b[0m\u001b[0;34m,\u001b[0m \u001b[0moriginal\u001b[0m\u001b[0;34m)\u001b[0m\u001b[0;34m:\u001b[0m\u001b[0;34m\u001b[0m\u001b[0;34m\u001b[0m\u001b[0m\n",
            "\u001b[0;32m/usr/local/lib/python3.6/dist-packages/pandas/core/generic.py\u001b[0m in \u001b[0;36m__getattr__\u001b[0;34m(self, name)\u001b[0m\n\u001b[1;32m   5137\u001b[0m             \u001b[0;32mif\u001b[0m \u001b[0mself\u001b[0m\u001b[0;34m.\u001b[0m\u001b[0m_info_axis\u001b[0m\u001b[0;34m.\u001b[0m\u001b[0m_can_hold_identifiers_and_holds_name\u001b[0m\u001b[0;34m(\u001b[0m\u001b[0mname\u001b[0m\u001b[0;34m)\u001b[0m\u001b[0;34m:\u001b[0m\u001b[0;34m\u001b[0m\u001b[0;34m\u001b[0m\u001b[0m\n\u001b[1;32m   5138\u001b[0m                 \u001b[0;32mreturn\u001b[0m \u001b[0mself\u001b[0m\u001b[0;34m[\u001b[0m\u001b[0mname\u001b[0m\u001b[0;34m]\u001b[0m\u001b[0;34m\u001b[0m\u001b[0;34m\u001b[0m\u001b[0m\n\u001b[0;32m-> 5139\u001b[0;31m             \u001b[0;32mreturn\u001b[0m \u001b[0mobject\u001b[0m\u001b[0;34m.\u001b[0m\u001b[0m__getattribute__\u001b[0m\u001b[0;34m(\u001b[0m\u001b[0mself\u001b[0m\u001b[0;34m,\u001b[0m \u001b[0mname\u001b[0m\u001b[0;34m)\u001b[0m\u001b[0;34m\u001b[0m\u001b[0;34m\u001b[0m\u001b[0m\n\u001b[0m\u001b[1;32m   5140\u001b[0m \u001b[0;34m\u001b[0m\u001b[0m\n\u001b[1;32m   5141\u001b[0m     \u001b[0;32mdef\u001b[0m \u001b[0m__setattr__\u001b[0m\u001b[0;34m(\u001b[0m\u001b[0mself\u001b[0m\u001b[0;34m,\u001b[0m \u001b[0mname\u001b[0m\u001b[0;34m:\u001b[0m \u001b[0mstr\u001b[0m\u001b[0;34m,\u001b[0m \u001b[0mvalue\u001b[0m\u001b[0;34m)\u001b[0m \u001b[0;34m->\u001b[0m \u001b[0;32mNone\u001b[0m\u001b[0;34m:\u001b[0m\u001b[0;34m\u001b[0m\u001b[0;34m\u001b[0m\u001b[0m\n",
            "\u001b[0;31mAttributeError\u001b[0m: 'Series' object has no attribute 'flags'"
          ]
        }
      ]
    },
    {
      "cell_type": "markdown",
      "metadata": {
        "id": "62mSp0MOLTZM"
      },
      "source": [
        "# Calcular la amplitud de la TF"
      ]
    },
    {
      "cell_type": "code",
      "metadata": {
        "id": "OIw5uq4aLPtG"
      },
      "source": [
        "data['asb']= np.abs(data['fft'])\n",
        "data.head(5)"
      ],
      "execution_count": null,
      "outputs": []
    },
    {
      "cell_type": "markdown",
      "metadata": {
        "id": "TeZbO3TPLqq-"
      },
      "source": [
        "# Calcular la fase de la TF"
      ]
    },
    {
      "cell_type": "code",
      "metadata": {
        "id": "mHzQR9f8Lxs7"
      },
      "source": [
        "data['fase'].iloc[0]=0"
      ],
      "execution_count": null,
      "outputs": []
    },
    {
      "cell_type": "code",
      "metadata": {
        "id": "5bkOkm3nL1qE"
      },
      "source": [
        "data['fase']=np.arctan(data['fft'].values.imag/data['fft'].values.real)\n",
        "data.head(5)"
      ],
      "execution_count": null,
      "outputs": []
    },
    {
      "cell_type": "code",
      "metadata": {
        "id": "BrbDxKc7L3xq"
      },
      "source": [
        "data.tail()"
      ],
      "execution_count": null,
      "outputs": []
    },
    {
      "cell_type": "markdown",
      "metadata": {
        "id": "DmhJVYr_L_mg"
      },
      "source": [
        "# Señal en el dominio del tiempo"
      ]
    },
    {
      "cell_type": "code",
      "metadata": {
        "id": "6b08c76pMDir"
      },
      "source": [
        "plt.plot(data['time'],data['amp'])"
      ],
      "execution_count": null,
      "outputs": []
    },
    {
      "cell_type": "markdown",
      "metadata": {
        "id": "Z84ZXZqwMR5v"
      },
      "source": [
        "# Señal en el dominio de la frecuencia "
      ]
    },
    {
      "cell_type": "code",
      "metadata": {
        "id": "PjgtgjV1MGVz",
        "outputId": "d74f7b53-64f6-4d9b-d122-da7b0375c1cb",
        "colab": {
          "base_uri": "https://localhost:8080/",
          "height": 282
        }
      },
      "source": [
        "plt.plot(data['time'],data['signal_filter'].values.real)"
      ],
      "execution_count": 83,
      "outputs": [
        {
          "output_type": "execute_result",
          "data": {
            "text/plain": [
              "[<matplotlib.lines.Line2D at 0x7f2dc733bf98>]"
            ]
          },
          "metadata": {
            "tags": []
          },
          "execution_count": 83
        },
        {
          "output_type": "display_data",
          "data": {
            "image/png": "[encoded data removed]",
            "text/plain": [
              "<Figure size 432x288 with 1 Axes>"
            ]
          },
          "metadata": {
            "tags": [],
            "needs_background": "light"
          }
        }
      ]
    },
    {
      "cell_type": "markdown",
      "metadata": {
        "id": "J8AAONMUMcp7"
      },
      "source": [
        "# Espectro de Amplitud"
      ]
    },
    {
      "cell_type": "code",
      "metadata": {
        "id": "Oj0tv16AMb02",
        "outputId": "66b63374-89d2-4898-c09b-873d49ea645f",
        "colab": {
          "base_uri": "https://localhost:8080/",
          "height": 286
        }
      },
      "source": [
        "plt.loglog(data['freq'],data['signal_filter'].values.real, 'r*')"
      ],
      "execution_count": 92,
      "outputs": [
        {
          "output_type": "execute_result",
          "data": {
            "text/plain": [
              "[<matplotlib.lines.Line2D at 0x7f2dc61df048>]"
            ]
          },
          "metadata": {
            "tags": []
          },
          "execution_count": 92
        },
        {
          "output_type": "display_data",
          "data": {
            "image/png": "[encoded data removed]",
            "text/plain": [
              "<Figure size 432x288 with 1 Axes>"
            ]
          },
          "metadata": {
            "tags": [],
            "needs_background": "light"
          }
        }
      ]
    },
    {
      "cell_type": "code",
      "metadata": {
        "id": "SoyRM5svP1-R",
        "outputId": "70d53bc8-0348-45d7-8a78-4a5d2f3ff2c4",
        "colab": {
          "base_uri": "https://localhost:8080/",
          "height": 282
        }
      },
      "source": [
        "plt.plot(data['time'],data['asb'])"
      ],
      "execution_count": 81,
      "outputs": [
        {
          "output_type": "execute_result",
          "data": {
            "text/plain": [
              "[<matplotlib.lines.Line2D at 0x7f2dc6f7e390>]"
            ]
          },
          "metadata": {
            "tags": []
          },
          "execution_count": 81
        },
        {
          "output_type": "display_data",
          "data": {
            "image/png": "[encoded data removed]",
            "text/plain": [
              "<Figure size 432x288 with 1 Axes>"
            ]
          },
          "metadata": {
            "tags": [],
            "needs_background": "light"
          }
        }
      ]
    },
    {
      "cell_type": "markdown",
      "metadata": {
        "id": "ncMMEXSDMi71"
      },
      "source": [
        "# Espectro de Fase"
      ]
    },
    {
      "cell_type": "code",
      "metadata": {
        "id": "NcoXimscMlyn"
      },
      "source": [
        "plt.loglog(data['freq'],data['fase'],'r*')"
      ],
      "execution_count": null,
      "outputs": []
    },
    {
      "cell_type": "code",
      "metadata": {
        "id": "sqZ1VF2IP9Ph"
      },
      "source": [
        "plt.loglog(data['time'],data['fase'])"
      ],
      "execution_count": null,
      "outputs": []
    }
  ]
}